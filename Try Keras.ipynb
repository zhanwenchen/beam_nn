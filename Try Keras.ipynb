{
 "cells": [
  {
   "cell_type": "code",
   "execution_count": 1,
   "metadata": {},
   "outputs": [],
   "source": [
    "import plaidml.keras\n",
    "plaidml.keras.install_backend()\n",
    "\n",
    "from os.path import join\n",
    "import numpy as np\n",
    "from keras.datasets import mnist\n",
    "from keras.models import Sequential\n",
    "from keras.layers import Dense, Dropout, Flatten\n",
    "from keras.layers import Conv2D, MaxPooling2D\n",
    "from keras import backend as K\n",
    "from h5py import File\n"
   ]
  },
  {
   "cell_type": "code",
   "execution_count": 2,
   "metadata": {},
   "outputs": [],
   "source": [
    "BATCH_SIZE = 32\n",
    "NUM_CLASSES = 130\n",
    "EPOCHS = 12"
   ]
  },
  {
   "cell_type": "markdown",
   "metadata": {},
   "source": [
    "# 1. Read Training Data"
   ]
  },
  {
   "cell_type": "code",
   "execution_count": 3,
   "metadata": {},
   "outputs": [],
   "source": [
    "# TODO: Why train_inside instead of \n",
    "# train_outside, \n",
    "# train_inside_boundary, \n",
    "# train_outside_boundary?\n",
    "train_fname = 'data/BEAM_Reverb_20181004_L74_70mm/target_1_SCR_1_0dB/train_inside.h5'\n",
    "\n",
    "k = 3\n",
    "num_samples = None\n",
    "target_is_data = False"
   ]
  },
  {
   "cell_type": "code",
   "execution_count": 4,
   "metadata": {},
   "outputs": [],
   "source": [
    "def get_X_y_from_file(file_fname):\n",
    "    with File(file_fname, 'r') as f:\n",
    "        # Get number of samples available for each type\n",
    "        X_real = f['/' + str(k) + '/X/real'][:]\n",
    "        X_imag = f['/' + str(k) + '/X/imag'][:]\n",
    "        y_real = f['/' + str(k) + '/Y/real'][:]\n",
    "        y_imag = f['/' + str(k) + '/Y/imag'][:]\n",
    "    X = np.hstack([X_real, X_imag])\n",
    "    y = np.hstack([y_real, y_imag])\n",
    "    \n",
    "    return X, y\n"
   ]
  },
  {
   "cell_type": "code",
   "execution_count": 5,
   "metadata": {},
   "outputs": [],
   "source": [
    "# with File(train_fname, 'r') as f:\n",
    "#     # Get number of samples available for each type\n",
    "#     inputs_real = f['/' + str(k) + '/X/real']\n",
    "#     inputs_imag = f['/' + str(k) + '/X/imag']\n",
    "\n",
    "#     real_available = inputs_real.shape[0]\n",
    "#     imag_available = inputs_imag.shape[0]\n",
    "#     print('real_available = {}, imag_available = {}'.format(real_available, imag_available))\n",
    "#     samples_available = min(real_available, imag_available)\n",
    "\n",
    "#     # set num_samples\n",
    "#     if not num_samples:\n",
    "#         num_samples = samples_available\n",
    "\n",
    "#     # make sure num_samples is less than samples_available\n",
    "# #     if num_samples > samples_available:\n",
    "# #         self.num_samples = samples_available\n",
    "# #     else:\n",
    "# #         self.num_samples = num_samples\n",
    "\n",
    "#     # load the data\n",
    "#     inputs = np.hstack([inputs_real[:samples_available],\n",
    "#                         inputs_imag[:samples_available]])\n",
    "#     if target_is_data:\n",
    "#         targets = np.hstack([inputs_real[:samples_available],\n",
    "#                              inputs_imag[:samples_available]])\n",
    "#     else:\n",
    "#         targets = np.hstack([f['/' + str(k) + '/Y/real'][:samples_available],\n",
    "#                              f['/' + str(k) + '/Y/imag'][:samples_available]])\n",
    "\n",
    "# # # convert data to single precision pytorch tensors\n",
    "# # self.data_tensor = from_numpy(inputs).float()\n",
    "# # self.target_tensor = from_numpy(targets).float()"
   ]
  },
  {
   "cell_type": "code",
   "execution_count": 6,
   "metadata": {},
   "outputs": [
    {
     "name": "stdout",
     "output_type": "stream",
     "text": [
      "['data/BEAM_Reverb_20181004_L74_70mm/target_11_SCR_11_0dB', 'data/BEAM_Reverb_20181004_L74_70mm/target_9_SCR_9_0dB', 'data/BEAM_Reverb_20181004_L74_70mm/target_14_SCR_14_0dB', 'data/BEAM_Reverb_20181004_L74_70mm/target_20_SCR_20_0dB', 'data/BEAM_Reverb_20181004_L74_70mm/target_1_SCR_1_0dB', 'data/BEAM_Reverb_20181004_L74_70mm/target_7_SCR_7_0dB', 'data/BEAM_Reverb_20181004_L74_70mm/target_8_SCR_8_0dB', 'data/BEAM_Reverb_20181004_L74_70mm/target_18_SCR_18_0dB', 'data/BEAM_Reverb_20181004_L74_70mm/target_16_SCR_16_0dB', 'data/BEAM_Reverb_20181004_L74_70mm/target_13_SCR_13_0dB', 'data/BEAM_Reverb_20181004_L74_70mm/target_6_SCR_6_0dB', 'data/BEAM_Reverb_20181004_L74_70mm/target_22_SCR_22_0dB', 'data/BEAM_Reverb_20181004_L74_70mm/target_24_SCR_24_0dB', 'data/BEAM_Reverb_20181004_L74_70mm/target_21_SCR_21_0dB', 'data/BEAM_Reverb_20181004_L74_70mm/target_10_SCR_10_0dB', 'data/BEAM_Reverb_20181004_L74_70mm/target_3_SCR_3_0dB', 'data/BEAM_Reverb_20181004_L74_70mm/target_15_SCR_15_0dB', 'data/BEAM_Reverb_20181004_L74_70mm/target_5_SCR_5_0dB', 'data/BEAM_Reverb_20181004_L74_70mm/target_23_SCR_23_0dB', 'data/BEAM_Reverb_20181004_L74_70mm/target_4_SCR_4_0dB', 'data/BEAM_Reverb_20181004_L74_70mm/target_19_SCR_19_0dB', 'data/BEAM_Reverb_20181004_L74_70mm/target_2_SCR_2_0dB', 'data/BEAM_Reverb_20181004_L74_70mm/target_17_SCR_17_0dB', 'data/BEAM_Reverb_20181004_L74_70mm/target_12_SCR_12_0dB']\n"
     ]
    }
   ],
   "source": [
    "from glob import glob\n",
    "glob_string = 'data/BEAM_Reverb_20181004_L74_70mm/target_*_SCR_*_0dB'\n",
    "targets_dirnames = glob(glob_string)\n",
    "print(targets_dirnames)"
   ]
  },
  {
   "cell_type": "code",
   "execution_count": 7,
   "metadata": {},
   "outputs": [],
   "source": [
    "train_fnames = [\n",
    "    'train_inside.h5',\n",
    "    'train_inside_boundary.h5',\n",
    "    'train_outside.h5',\n",
    "    'train_outside_boundary.h5',\n",
    "]"
   ]
  },
  {
   "cell_type": "code",
   "execution_count": 8,
   "metadata": {},
   "outputs": [
    {
     "name": "stdout",
     "output_type": "stream",
     "text": [
      "data/BEAM_Reverb_20181004_L74_70mm/target_11_SCR_11_0dB/train_inside.h5\n",
      "train_inside.h5: X.shape = (1004, 130), y.shape = (1004, 130)\n",
      "data/BEAM_Reverb_20181004_L74_70mm/target_11_SCR_11_0dB/train_inside_boundary.h5\n",
      "train_inside_boundary.h5: X.shape = (200, 130), y.shape = (200, 130)\n",
      "data/BEAM_Reverb_20181004_L74_70mm/target_11_SCR_11_0dB/train_outside.h5\n",
      "train_outside.h5: X.shape = (1004, 130), y.shape = (1004, 130)\n",
      "data/BEAM_Reverb_20181004_L74_70mm/target_11_SCR_11_0dB/train_outside_boundary.h5\n",
      "train_outside_boundary.h5: X.shape = (169, 130), y.shape = (169, 130)\n",
      "data/BEAM_Reverb_20181004_L74_70mm/target_9_SCR_9_0dB/train_inside.h5\n",
      "train_inside.h5: X.shape = (1004, 130), y.shape = (1004, 130)\n",
      "data/BEAM_Reverb_20181004_L74_70mm/target_9_SCR_9_0dB/train_inside_boundary.h5\n",
      "train_inside_boundary.h5: X.shape = (200, 130), y.shape = (200, 130)\n",
      "data/BEAM_Reverb_20181004_L74_70mm/target_9_SCR_9_0dB/train_outside.h5\n",
      "train_outside.h5: X.shape = (1004, 130), y.shape = (1004, 130)\n",
      "data/BEAM_Reverb_20181004_L74_70mm/target_9_SCR_9_0dB/train_outside_boundary.h5\n",
      "train_outside_boundary.h5: X.shape = (169, 130), y.shape = (169, 130)\n",
      "data/BEAM_Reverb_20181004_L74_70mm/target_14_SCR_14_0dB/train_inside.h5\n",
      "train_inside.h5: X.shape = (1004, 130), y.shape = (1004, 130)\n",
      "data/BEAM_Reverb_20181004_L74_70mm/target_14_SCR_14_0dB/train_inside_boundary.h5\n",
      "train_inside_boundary.h5: X.shape = (200, 130), y.shape = (200, 130)\n",
      "data/BEAM_Reverb_20181004_L74_70mm/target_14_SCR_14_0dB/train_outside.h5\n",
      "train_outside.h5: X.shape = (1004, 130), y.shape = (1004, 130)\n",
      "data/BEAM_Reverb_20181004_L74_70mm/target_14_SCR_14_0dB/train_outside_boundary.h5\n",
      "train_outside_boundary.h5: X.shape = (169, 130), y.shape = (169, 130)\n",
      "data/BEAM_Reverb_20181004_L74_70mm/target_20_SCR_20_0dB/train_inside.h5\n",
      "train_inside.h5: X.shape = (1004, 130), y.shape = (1004, 130)\n",
      "data/BEAM_Reverb_20181004_L74_70mm/target_20_SCR_20_0dB/train_inside_boundary.h5\n",
      "train_inside_boundary.h5: X.shape = (200, 130), y.shape = (200, 130)\n",
      "data/BEAM_Reverb_20181004_L74_70mm/target_20_SCR_20_0dB/train_outside.h5\n",
      "train_outside.h5: X.shape = (1004, 130), y.shape = (1004, 130)\n",
      "data/BEAM_Reverb_20181004_L74_70mm/target_20_SCR_20_0dB/train_outside_boundary.h5\n",
      "train_outside_boundary.h5: X.shape = (169, 130), y.shape = (169, 130)\n",
      "data/BEAM_Reverb_20181004_L74_70mm/target_1_SCR_1_0dB/train_inside.h5\n",
      "train_inside.h5: X.shape = (1004, 130), y.shape = (1004, 130)\n",
      "data/BEAM_Reverb_20181004_L74_70mm/target_1_SCR_1_0dB/train_inside_boundary.h5\n",
      "train_inside_boundary.h5: X.shape = (200, 130), y.shape = (200, 130)\n",
      "data/BEAM_Reverb_20181004_L74_70mm/target_1_SCR_1_0dB/train_outside.h5\n",
      "train_outside.h5: X.shape = (1004, 130), y.shape = (1004, 130)\n",
      "data/BEAM_Reverb_20181004_L74_70mm/target_1_SCR_1_0dB/train_outside_boundary.h5\n",
      "train_outside_boundary.h5: X.shape = (169, 130), y.shape = (169, 130)\n",
      "data/BEAM_Reverb_20181004_L74_70mm/target_7_SCR_7_0dB/train_inside.h5\n",
      "train_inside.h5: X.shape = (1004, 130), y.shape = (1004, 130)\n",
      "data/BEAM_Reverb_20181004_L74_70mm/target_7_SCR_7_0dB/train_inside_boundary.h5\n",
      "train_inside_boundary.h5: X.shape = (200, 130), y.shape = (200, 130)\n",
      "data/BEAM_Reverb_20181004_L74_70mm/target_7_SCR_7_0dB/train_outside.h5\n",
      "train_outside.h5: X.shape = (1004, 130), y.shape = (1004, 130)\n",
      "data/BEAM_Reverb_20181004_L74_70mm/target_7_SCR_7_0dB/train_outside_boundary.h5\n",
      "train_outside_boundary.h5: X.shape = (169, 130), y.shape = (169, 130)\n",
      "data/BEAM_Reverb_20181004_L74_70mm/target_8_SCR_8_0dB/train_inside.h5\n",
      "train_inside.h5: X.shape = (1004, 130), y.shape = (1004, 130)\n",
      "data/BEAM_Reverb_20181004_L74_70mm/target_8_SCR_8_0dB/train_inside_boundary.h5\n",
      "train_inside_boundary.h5: X.shape = (200, 130), y.shape = (200, 130)\n",
      "data/BEAM_Reverb_20181004_L74_70mm/target_8_SCR_8_0dB/train_outside.h5\n",
      "train_outside.h5: X.shape = (1004, 130), y.shape = (1004, 130)\n",
      "data/BEAM_Reverb_20181004_L74_70mm/target_8_SCR_8_0dB/train_outside_boundary.h5\n",
      "train_outside_boundary.h5: X.shape = (169, 130), y.shape = (169, 130)\n",
      "data/BEAM_Reverb_20181004_L74_70mm/target_18_SCR_18_0dB/train_inside.h5\n",
      "train_inside.h5: X.shape = (1004, 130), y.shape = (1004, 130)\n",
      "data/BEAM_Reverb_20181004_L74_70mm/target_18_SCR_18_0dB/train_inside_boundary.h5\n",
      "train_inside_boundary.h5: X.shape = (200, 130), y.shape = (200, 130)\n",
      "data/BEAM_Reverb_20181004_L74_70mm/target_18_SCR_18_0dB/train_outside.h5\n",
      "train_outside.h5: X.shape = (1004, 130), y.shape = (1004, 130)\n",
      "data/BEAM_Reverb_20181004_L74_70mm/target_18_SCR_18_0dB/train_outside_boundary.h5\n",
      "train_outside_boundary.h5: X.shape = (169, 130), y.shape = (169, 130)\n",
      "data/BEAM_Reverb_20181004_L74_70mm/target_16_SCR_16_0dB/train_inside.h5\n",
      "train_inside.h5: X.shape = (1004, 130), y.shape = (1004, 130)\n",
      "data/BEAM_Reverb_20181004_L74_70mm/target_16_SCR_16_0dB/train_inside_boundary.h5\n",
      "train_inside_boundary.h5: X.shape = (200, 130), y.shape = (200, 130)\n",
      "data/BEAM_Reverb_20181004_L74_70mm/target_16_SCR_16_0dB/train_outside.h5\n",
      "train_outside.h5: X.shape = (1004, 130), y.shape = (1004, 130)\n",
      "data/BEAM_Reverb_20181004_L74_70mm/target_16_SCR_16_0dB/train_outside_boundary.h5\n",
      "train_outside_boundary.h5: X.shape = (169, 130), y.shape = (169, 130)\n",
      "data/BEAM_Reverb_20181004_L74_70mm/target_13_SCR_13_0dB/train_inside.h5\n",
      "train_inside.h5: X.shape = (1004, 130), y.shape = (1004, 130)\n",
      "data/BEAM_Reverb_20181004_L74_70mm/target_13_SCR_13_0dB/train_inside_boundary.h5\n",
      "train_inside_boundary.h5: X.shape = (200, 130), y.shape = (200, 130)\n",
      "data/BEAM_Reverb_20181004_L74_70mm/target_13_SCR_13_0dB/train_outside.h5\n",
      "train_outside.h5: X.shape = (1004, 130), y.shape = (1004, 130)\n",
      "data/BEAM_Reverb_20181004_L74_70mm/target_13_SCR_13_0dB/train_outside_boundary.h5\n",
      "train_outside_boundary.h5: X.shape = (169, 130), y.shape = (169, 130)\n",
      "data/BEAM_Reverb_20181004_L74_70mm/target_6_SCR_6_0dB/train_inside.h5\n",
      "train_inside.h5: X.shape = (1004, 130), y.shape = (1004, 130)\n",
      "data/BEAM_Reverb_20181004_L74_70mm/target_6_SCR_6_0dB/train_inside_boundary.h5\n",
      "train_inside_boundary.h5: X.shape = (200, 130), y.shape = (200, 130)\n",
      "data/BEAM_Reverb_20181004_L74_70mm/target_6_SCR_6_0dB/train_outside.h5\n",
      "train_outside.h5: X.shape = (1004, 130), y.shape = (1004, 130)\n",
      "data/BEAM_Reverb_20181004_L74_70mm/target_6_SCR_6_0dB/train_outside_boundary.h5\n",
      "train_outside_boundary.h5: X.shape = (169, 130), y.shape = (169, 130)\n",
      "data/BEAM_Reverb_20181004_L74_70mm/target_22_SCR_22_0dB/train_inside.h5\n",
      "train_inside.h5: X.shape = (1004, 130), y.shape = (1004, 130)\n",
      "data/BEAM_Reverb_20181004_L74_70mm/target_22_SCR_22_0dB/train_inside_boundary.h5\n",
      "train_inside_boundary.h5: X.shape = (200, 130), y.shape = (200, 130)\n",
      "data/BEAM_Reverb_20181004_L74_70mm/target_22_SCR_22_0dB/train_outside.h5\n",
      "train_outside.h5: X.shape = (1004, 130), y.shape = (1004, 130)\n",
      "data/BEAM_Reverb_20181004_L74_70mm/target_22_SCR_22_0dB/train_outside_boundary.h5\n",
      "train_outside_boundary.h5: X.shape = (169, 130), y.shape = (169, 130)\n",
      "data/BEAM_Reverb_20181004_L74_70mm/target_24_SCR_24_0dB/train_inside.h5\n",
      "train_inside.h5: X.shape = (1004, 130), y.shape = (1004, 130)\n",
      "data/BEAM_Reverb_20181004_L74_70mm/target_24_SCR_24_0dB/train_inside_boundary.h5\n",
      "train_inside_boundary.h5: X.shape = (200, 130), y.shape = (200, 130)\n",
      "data/BEAM_Reverb_20181004_L74_70mm/target_24_SCR_24_0dB/train_outside.h5\n",
      "train_outside.h5: X.shape = (1004, 130), y.shape = (1004, 130)\n",
      "data/BEAM_Reverb_20181004_L74_70mm/target_24_SCR_24_0dB/train_outside_boundary.h5\n",
      "train_outside_boundary.h5: X.shape = (169, 130), y.shape = (169, 130)\n",
      "data/BEAM_Reverb_20181004_L74_70mm/target_21_SCR_21_0dB/train_inside.h5\n",
      "train_inside.h5: X.shape = (1004, 130), y.shape = (1004, 130)\n",
      "data/BEAM_Reverb_20181004_L74_70mm/target_21_SCR_21_0dB/train_inside_boundary.h5\n",
      "train_inside_boundary.h5: X.shape = (200, 130), y.shape = (200, 130)\n",
      "data/BEAM_Reverb_20181004_L74_70mm/target_21_SCR_21_0dB/train_outside.h5\n",
      "train_outside.h5: X.shape = (1004, 130), y.shape = (1004, 130)\n",
      "data/BEAM_Reverb_20181004_L74_70mm/target_21_SCR_21_0dB/train_outside_boundary.h5\n",
      "train_outside_boundary.h5: X.shape = (169, 130), y.shape = (169, 130)\n",
      "data/BEAM_Reverb_20181004_L74_70mm/target_10_SCR_10_0dB/train_inside.h5\n",
      "train_inside.h5: X.shape = (1004, 130), y.shape = (1004, 130)\n",
      "data/BEAM_Reverb_20181004_L74_70mm/target_10_SCR_10_0dB/train_inside_boundary.h5\n",
      "train_inside_boundary.h5: X.shape = (200, 130), y.shape = (200, 130)\n",
      "data/BEAM_Reverb_20181004_L74_70mm/target_10_SCR_10_0dB/train_outside.h5\n",
      "train_outside.h5: X.shape = (1004, 130), y.shape = (1004, 130)\n",
      "data/BEAM_Reverb_20181004_L74_70mm/target_10_SCR_10_0dB/train_outside_boundary.h5\n",
      "train_outside_boundary.h5: X.shape = (169, 130), y.shape = (169, 130)\n",
      "data/BEAM_Reverb_20181004_L74_70mm/target_3_SCR_3_0dB/train_inside.h5\n",
      "train_inside.h5: X.shape = (1004, 130), y.shape = (1004, 130)\n",
      "data/BEAM_Reverb_20181004_L74_70mm/target_3_SCR_3_0dB/train_inside_boundary.h5\n",
      "train_inside_boundary.h5: X.shape = (200, 130), y.shape = (200, 130)\n",
      "data/BEAM_Reverb_20181004_L74_70mm/target_3_SCR_3_0dB/train_outside.h5\n",
      "train_outside.h5: X.shape = (1004, 130), y.shape = (1004, 130)\n",
      "data/BEAM_Reverb_20181004_L74_70mm/target_3_SCR_3_0dB/train_outside_boundary.h5\n",
      "train_outside_boundary.h5: X.shape = (169, 130), y.shape = (169, 130)\n",
      "data/BEAM_Reverb_20181004_L74_70mm/target_15_SCR_15_0dB/train_inside.h5\n",
      "train_inside.h5: X.shape = (1004, 130), y.shape = (1004, 130)\n",
      "data/BEAM_Reverb_20181004_L74_70mm/target_15_SCR_15_0dB/train_inside_boundary.h5\n",
      "train_inside_boundary.h5: X.shape = (200, 130), y.shape = (200, 130)\n",
      "data/BEAM_Reverb_20181004_L74_70mm/target_15_SCR_15_0dB/train_outside.h5\n",
      "train_outside.h5: X.shape = (1004, 130), y.shape = (1004, 130)\n",
      "data/BEAM_Reverb_20181004_L74_70mm/target_15_SCR_15_0dB/train_outside_boundary.h5\n",
      "train_outside_boundary.h5: X.shape = (169, 130), y.shape = (169, 130)\n",
      "data/BEAM_Reverb_20181004_L74_70mm/target_5_SCR_5_0dB/train_inside.h5\n",
      "train_inside.h5: X.shape = (1004, 130), y.shape = (1004, 130)\n",
      "data/BEAM_Reverb_20181004_L74_70mm/target_5_SCR_5_0dB/train_inside_boundary.h5\n",
      "train_inside_boundary.h5: X.shape = (200, 130), y.shape = (200, 130)\n",
      "data/BEAM_Reverb_20181004_L74_70mm/target_5_SCR_5_0dB/train_outside.h5\n",
      "train_outside.h5: X.shape = (1004, 130), y.shape = (1004, 130)\n",
      "data/BEAM_Reverb_20181004_L74_70mm/target_5_SCR_5_0dB/train_outside_boundary.h5\n",
      "train_outside_boundary.h5: X.shape = (169, 130), y.shape = (169, 130)\n",
      "data/BEAM_Reverb_20181004_L74_70mm/target_23_SCR_23_0dB/train_inside.h5\n",
      "train_inside.h5: X.shape = (1004, 130), y.shape = (1004, 130)\n",
      "data/BEAM_Reverb_20181004_L74_70mm/target_23_SCR_23_0dB/train_inside_boundary.h5\n",
      "train_inside_boundary.h5: X.shape = (200, 130), y.shape = (200, 130)\n",
      "data/BEAM_Reverb_20181004_L74_70mm/target_23_SCR_23_0dB/train_outside.h5\n",
      "train_outside.h5: X.shape = (1004, 130), y.shape = (1004, 130)\n",
      "data/BEAM_Reverb_20181004_L74_70mm/target_23_SCR_23_0dB/train_outside_boundary.h5\n",
      "train_outside_boundary.h5: X.shape = (169, 130), y.shape = (169, 130)\n",
      "data/BEAM_Reverb_20181004_L74_70mm/target_4_SCR_4_0dB/train_inside.h5\n",
      "train_inside.h5: X.shape = (1004, 130), y.shape = (1004, 130)\n",
      "data/BEAM_Reverb_20181004_L74_70mm/target_4_SCR_4_0dB/train_inside_boundary.h5\n",
      "train_inside_boundary.h5: X.shape = (200, 130), y.shape = (200, 130)\n",
      "data/BEAM_Reverb_20181004_L74_70mm/target_4_SCR_4_0dB/train_outside.h5\n"
     ]
    },
    {
     "name": "stdout",
     "output_type": "stream",
     "text": [
      "train_outside.h5: X.shape = (1004, 130), y.shape = (1004, 130)\n",
      "data/BEAM_Reverb_20181004_L74_70mm/target_4_SCR_4_0dB/train_outside_boundary.h5\n",
      "train_outside_boundary.h5: X.shape = (169, 130), y.shape = (169, 130)\n",
      "data/BEAM_Reverb_20181004_L74_70mm/target_19_SCR_19_0dB/train_inside.h5\n",
      "train_inside.h5: X.shape = (1004, 130), y.shape = (1004, 130)\n",
      "data/BEAM_Reverb_20181004_L74_70mm/target_19_SCR_19_0dB/train_inside_boundary.h5\n",
      "train_inside_boundary.h5: X.shape = (200, 130), y.shape = (200, 130)\n",
      "data/BEAM_Reverb_20181004_L74_70mm/target_19_SCR_19_0dB/train_outside.h5\n",
      "train_outside.h5: X.shape = (1004, 130), y.shape = (1004, 130)\n",
      "data/BEAM_Reverb_20181004_L74_70mm/target_19_SCR_19_0dB/train_outside_boundary.h5\n",
      "train_outside_boundary.h5: X.shape = (169, 130), y.shape = (169, 130)\n",
      "data/BEAM_Reverb_20181004_L74_70mm/target_2_SCR_2_0dB/train_inside.h5\n",
      "train_inside.h5: X.shape = (1004, 130), y.shape = (1004, 130)\n",
      "data/BEAM_Reverb_20181004_L74_70mm/target_2_SCR_2_0dB/train_inside_boundary.h5\n",
      "train_inside_boundary.h5: X.shape = (200, 130), y.shape = (200, 130)\n",
      "data/BEAM_Reverb_20181004_L74_70mm/target_2_SCR_2_0dB/train_outside.h5\n",
      "train_outside.h5: X.shape = (1004, 130), y.shape = (1004, 130)\n",
      "data/BEAM_Reverb_20181004_L74_70mm/target_2_SCR_2_0dB/train_outside_boundary.h5\n",
      "train_outside_boundary.h5: X.shape = (169, 130), y.shape = (169, 130)\n",
      "data/BEAM_Reverb_20181004_L74_70mm/target_17_SCR_17_0dB/train_inside.h5\n",
      "train_inside.h5: X.shape = (1004, 130), y.shape = (1004, 130)\n",
      "data/BEAM_Reverb_20181004_L74_70mm/target_17_SCR_17_0dB/train_inside_boundary.h5\n",
      "train_inside_boundary.h5: X.shape = (200, 130), y.shape = (200, 130)\n",
      "data/BEAM_Reverb_20181004_L74_70mm/target_17_SCR_17_0dB/train_outside.h5\n",
      "train_outside.h5: X.shape = (1004, 130), y.shape = (1004, 130)\n",
      "data/BEAM_Reverb_20181004_L74_70mm/target_17_SCR_17_0dB/train_outside_boundary.h5\n",
      "train_outside_boundary.h5: X.shape = (169, 130), y.shape = (169, 130)\n",
      "data/BEAM_Reverb_20181004_L74_70mm/target_12_SCR_12_0dB/train_inside.h5\n",
      "train_inside.h5: X.shape = (1004, 130), y.shape = (1004, 130)\n",
      "data/BEAM_Reverb_20181004_L74_70mm/target_12_SCR_12_0dB/train_inside_boundary.h5\n",
      "train_inside_boundary.h5: X.shape = (200, 130), y.shape = (200, 130)\n",
      "data/BEAM_Reverb_20181004_L74_70mm/target_12_SCR_12_0dB/train_outside.h5\n",
      "train_outside.h5: X.shape = (1004, 130), y.shape = (1004, 130)\n",
      "data/BEAM_Reverb_20181004_L74_70mm/target_12_SCR_12_0dB/train_outside_boundary.h5\n",
      "train_outside_boundary.h5: X.shape = (169, 130), y.shape = (169, 130)\n"
     ]
    }
   ],
   "source": [
    "for target_dirname in targets_dirnames:\n",
    "    for train_fname in train_fnames:\n",
    "        train_fname_abs = join(target_dirname, train_fname)\n",
    "        print(train_fname_abs)\n",
    "        X, y = get_X_y_from_file(train_fname_abs)\n",
    "        print('{}: X.shape = {}, y.shape = {}'.format(train_fname, X.shape, y.shape))\n",
    "\n",
    "#     real_available = inputs_real.shape[0]\n",
    "#     imag_available = inputs_imag.shape[0]\n",
    "#     print('real_available = {}, imag_available = {}'.format(real_available, imag_available))\n",
    "#     samples_available = min(real_available, imag_available)\n",
    "\n",
    "    # set num_samples\n",
    "#     if not num_samples:\n",
    "#         num_samples = samples_available\n",
    "\n",
    "    # make sure num_samples is less than samples_available\n",
    "#     if num_samples > samples_available:\n",
    "#         self.num_samples = samples_available\n",
    "#     else:\n",
    "#         self.num_samples = num_samples\n",
    "\n",
    "    # load the data\n",
    "#     inputs = np.hstack([inputs_real[:samples_available],\n",
    "#                         inputs_imag[:samples_available]])\n",
    "\n",
    "#     targets = np.hstack([f['/' + str(k) + '/Y/real'][:samples_available],\n",
    "#                          f['/' + str(k) + '/Y/imag'][:samples_available]])\n",
    "\n",
    "# # convert data to single precision pytorch tensors\n",
    "# self.data_tensor = from_numpy(inputs).float()\n",
    "# self.target_tensor = from_numpy(targets).float()"
   ]
  },
  {
   "cell_type": "code",
   "execution_count": 9,
   "metadata": {},
   "outputs": [],
   "source": [
    "from multiprocessing import Pool\n",
    "\n",
    "pool = Pool()"
   ]
  },
  {
   "cell_type": "code",
   "execution_count": 10,
   "metadata": {},
   "outputs": [],
   "source": [
    "from itertools import product\n",
    "\n",
    "tuples = product(targets_dirnames, train_fnames)\n",
    "files = list(map(lambda x: join(x[0], x[1]), tuples))\n"
   ]
  },
  {
   "cell_type": "code",
   "execution_count": 11,
   "metadata": {},
   "outputs": [],
   "source": [
    "X_y_tuples = pool.map(get_X_y_from_file, files)\n"
   ]
  },
  {
   "cell_type": "code",
   "execution_count": 12,
   "metadata": {
    "scrolled": true
   },
   "outputs": [],
   "source": [
    "Xs = [row[0] for row in X_y_tuples]\n",
    "Ys = [row[1] for row in X_y_tuples]\n"
   ]
  },
  {
   "cell_type": "code",
   "execution_count": 13,
   "metadata": {},
   "outputs": [],
   "source": [
    "X = np.vstack(Xs)\n",
    "Y = np.vstack(Ys)\n"
   ]
  },
  {
   "cell_type": "code",
   "execution_count": 14,
   "metadata": {},
   "outputs": [
    {
     "name": "stdout",
     "output_type": "stream",
     "text": [
      "(57048, 130)\n",
      "(57048, 130)\n"
     ]
    }
   ],
   "source": [
    "print(X.shape)\n",
    "print(Y.shape)"
   ]
  },
  {
   "cell_type": "markdown",
   "metadata": {},
   "source": [
    "# 2. Build Model"
   ]
  },
  {
   "cell_type": "code",
   "execution_count": 15,
   "metadata": {},
   "outputs": [],
   "source": [
    "# define the model\n",
    "def larger_model():\n",
    "    # create model\n",
    "    model = Sequential()\n",
    "    model.add(Dense(130, kernel_initializer='normal', activation='relu'))\n",
    "    model.add(Dense(512, kernel_initializer='normal', activation='relu'))\n",
    "    model.add(Dense(130, kernel_initializer='normal'))\n",
    "    # Compile model\n",
    "    model.compile(loss='mean_squared_error', optimizer='adam')\n",
    "    return model\n"
   ]
  },
  {
   "cell_type": "code",
   "execution_count": 16,
   "metadata": {},
   "outputs": [
    {
     "name": "stderr",
     "output_type": "stream",
     "text": [
      "INFO:plaidml:Opening device \"opencl_amd_radeon_pro_560x_compute_engine.0\"\n"
     ]
    }
   ],
   "source": [
    "model = larger_model()"
   ]
  },
  {
   "cell_type": "code",
   "execution_count": null,
   "metadata": {},
   "outputs": [
    {
     "name": "stdout",
     "output_type": "stream",
     "text": [
      "Epoch 1/50\n",
      "51343/51343 [==============================] - 49s 952us/step - loss: 0.0036\n",
      "Epoch 2/50\n",
      "51343/51343 [==============================] - 50s 970us/step - loss: 0.0030\n",
      "Epoch 3/50\n",
      "51343/51343 [==============================] - 49s 953us/step - loss: 0.0029\n",
      "Epoch 4/50\n",
      "51343/51343 [==============================] - 57s 1ms/step - loss: 0.0027\n",
      "Epoch 5/50\n",
      "51343/51343 [==============================] - 55s 1ms/step - loss: 0.0026\n",
      "Epoch 6/50\n",
      "51343/51343 [==============================] - 58s 1ms/step - loss: 0.0026\n",
      "Epoch 7/50\n",
      "51343/51343 [==============================] - 49s 956us/step - loss: 0.0025\n",
      "Epoch 8/50\n",
      "51343/51343 [==============================] - 57s 1ms/step - loss: 0.0025\n",
      "Epoch 9/50\n",
      "51343/51343 [==============================] - 55s 1ms/step - loss: 0.0025\n",
      "Epoch 10/50\n",
      "12335/51343 [======>.......................] - ETA: 45s - loss: 0.0024"
     ]
    }
   ],
   "source": [
    "seed = 7\n",
    "from keras.wrappers.scikit_learn import KerasRegressor\n",
    "from sklearn.model_selection import cross_val_score\n",
    "from sklearn.model_selection import KFold\n",
    "from sklearn.preprocessing import StandardScaler\n",
    "from sklearn.pipeline import Pipeline\n",
    "\n",
    "np.random.seed(seed)\n",
    "estimators = []\n",
    "estimators.append(('standardize', StandardScaler()))\n",
    "estimators.append(('mlp', KerasRegressor(build_fn=larger_model, epochs=50, batch_size=32, verbose=1)))\n",
    "pipeline = Pipeline(estimators)\n",
    "kfold = KFold(n_splits=10, random_state=seed)\n",
    "results = cross_val_score(pipeline, X, Y, cv=kfold)\n",
    "print(\"Larger: %.2f (%.2f) MSE\" % (results.mean(), results.std()))"
   ]
  },
  {
   "cell_type": "code",
   "execution_count": null,
   "metadata": {},
   "outputs": [],
   "source": []
  }
 ],
 "metadata": {
  "kernelspec": {
   "display_name": "plaidml",
   "language": "python",
   "name": "plaidml"
  },
  "language_info": {
   "codemirror_mode": {
    "name": "ipython",
    "version": 3
   },
   "file_extension": ".py",
   "mimetype": "text/x-python",
   "name": "python",
   "nbconvert_exporter": "python",
   "pygments_lexer": "ipython3",
   "version": "3.7.3"
  }
 },
 "nbformat": 4,
 "nbformat_minor": 2
}
