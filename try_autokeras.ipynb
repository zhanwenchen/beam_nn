{
 "cells": [
  {
   "cell_type": "code",
   "execution_count": 10,
   "metadata": {},
   "outputs": [
    {
     "name": "stdout",
     "output_type": "stream",
     "text": [
      "(100000, 130)\n",
      "(100000, 130)\n"
     ]
    }
   ],
   "source": [
    "from json import load\n",
    "\n",
    "import autokeras as ak\n",
    "from h5py import File\n",
    "import numpy as np\n",
    "\n",
    "model_params_fname = '/Users/zhanwenchen/Documents/projects/beam_nn/DNNs/alexnet_2_65_120190607101520274297_created/k_4/model_params.json'\n",
    "\n",
    "with open(model_params_fname, 'r') as f:\n",
    "    model_params = load(f)\n",
    "\n",
    "k = model_params['k']\n",
    "\n",
    "with File(model_params['data_train']) as f:\n",
    "#     print(list(f.keys()))\n",
    "#     x_real = f['/' + str(k) + '/X/real']\n",
    "#     x_imag = f['/' + str(k) + '/X/imag']\n",
    "    \n",
    "    x = np.hstack([f['/' + str(k) + '/X/real'], f['/' + str(k) + '/X/imag']])\n",
    "    y = np.hstack([f['/' + str(k) + '/Y/real'], f['/' + str(k) + '/Y/imag']])\n",
    "    \n",
    "\n",
    "\n",
    "# # clf = ak.ImageClassifier()\n",
    "# # clf.fit(x_train, y_train)\n",
    "# # results = clf.predict(x_test)"
   ]
  },
  {
   "cell_type": "code",
   "execution_count": null,
   "metadata": {},
   "outputs": [],
   "source": []
  }
 ],
 "metadata": {
  "kernelspec": {
   "display_name": "Python (autokeras)",
   "language": "python",
   "name": "autokeras"
  },
  "language_info": {
   "codemirror_mode": {
    "name": "ipython",
    "version": 3
   },
   "file_extension": ".py",
   "mimetype": "text/x-python",
   "name": "python",
   "nbconvert_exporter": "python",
   "pygments_lexer": "ipython3",
   "version": "3.7.3"
  }
 },
 "nbformat": 4,
 "nbformat_minor": 2
}
