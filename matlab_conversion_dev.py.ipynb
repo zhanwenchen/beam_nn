{
 "cells": [
  {
   "cell_type": "code",
   "execution_count": 1,
   "metadata": {},
   "outputs": [],
   "source": [
    "from os.path import join as os_path_join\n",
    "\n",
    "from scipy.io import loadmat, savemat\n",
    "from numpy import zeros as np_zeros, ones as np_ones, zeros_like as np_zeros_like\n",
    "from numpy import vectorize as np_vectorize\n",
    "from numpy.linalg import norm\n",
    "from numpy import spacing as np_spacing\n",
    "from numpy import log10 as np_log10\n",
    "from numpy import clip as np_clip, multiply as np_multiply\n",
    "\n",
    "from lib.better_envelope import better_envelope\n",
    "# from lib.stft import stft\n",
    "# from lib.non_iter_ls_inv_stft import non_iter_ls_inv_stft\n",
    "target_dirname = '/Users/zhanwenchen/Documents/projects/beam_nn/DNNs/test/scan_batteries/target_phantom_anechoic_cyst_2p5mm/target_1/'\n",
    "\n",
    "# # Test variables\n",
    "# num_rows, num_elements, num_beams = 1624, 65, 128\n",
    "# len_each_section = 16;\n",
    "# frac_overlap = 0.9;\n",
    "# padding = 16;\n",
    "# # winInfo = {@rectwin};\n",
    "# CHANDAT_FNAME = '/Users/zhanwenchen/Documents/projects/beam_nn/DNNs/test/scan_batteries/target_phantom_anechoic_cyst_2p5mm/target_1/chandat.mat'\n",
    "# chandat = loadmat(CHANDAT_FNAME)['chandat']\n",
    "\n",
    "# NEW_STFT_FNAME = '/Users/zhanwenchen/Documents/projects/beam_nn/DNNs/test/scan_batteries/target_phantom_anechoic_cyst_2p5mm/target_1/new_stft.mat'\n",
    "# new_stft_f = loadmat(NEW_STFT_FNAME)\n",
    "# new_stft_real = new_stft_f['new_stft_real']\n",
    "# new_stft_imag = new_stft_f['new_stft_imag']\n"
   ]
  },
  {
   "cell_type": "code",
   "execution_count": 2,
   "metadata": {},
   "outputs": [],
   "source": [
    "from lib.r5_dnn_image import r5_dnn_image"
   ]
  },
  {
   "cell_type": "code",
   "execution_count": 3,
   "metadata": {},
   "outputs": [],
   "source": [
    "r5_dnn_image(target_dirname)"
   ]
  },
  {
   "cell_type": "code",
   "execution_count": 71,
   "metadata": {},
   "outputs": [],
   "source": [
    "# r5 test vars\n",
    "from scipy.signal import butter, filtfilt, lfilter\n",
    "\n",
    "\n",
    "CHANDAT_FNAME = 'chandat.mat'\n",
    "CHANDAT_DNN_FNAME = 'chandat_dnn.mat'\n",
    "CHANDAT_IMAGE_SAVE_FNAME = 'chandat_image.mat'\n",
    "\n",
    "chandat_obj = loadmat(os_path_join(target_dirname, CHANDAT_FNAME))\n",
    "f0 = chandat_obj['f0']\n",
    "chandat_dnn_obj = loadmat(os_path_join(target_dirname, CHANDAT_DNN_FNAME))\n",
    "chandat_dnn = chandat_dnn_obj['chandat_dnn']\n",
    "beam_position_x = chandat_dnn_obj['beam_position_x']\n",
    "if f0.ndim and f0.ndim == 2:\n",
    "    f0 = f0[0, 0]\n",
    "    "
   ]
  },
  {
   "cell_type": "code",
   "execution_count": 3,
   "metadata": {},
   "outputs": [],
   "source": [
    "# design a bandpass filter\n",
    "n = 4\n",
    "Wn = [1e6, 9e6]/(4*f0/2)\n",
    "b, a = butter(n/2, Wn, btype='bandpass') # Results are correct"
   ]
  },
  {
   "cell_type": "code",
   "execution_count": 4,
   "metadata": {},
   "outputs": [],
   "source": [
    "chandat_dnn = chandat_dnn.astype(float, copy=False)"
   ]
  },
  {
   "cell_type": "code",
   "execution_count": 5,
   "metadata": {},
   "outputs": [],
   "source": [
    "rf_data = chandat_dnn.sum(axis=1)"
   ]
  },
  {
   "cell_type": "code",
   "execution_count": 6,
   "metadata": {},
   "outputs": [],
   "source": [
    "rf_data_filt = filtfilt(b, a, rf_data, axis=0, padtype='odd', padlen=3*(max(len(b),len(a))-1)) # Correct\n"
   ]
  },
  {
   "cell_type": "code",
   "execution_count": 7,
   "metadata": {},
   "outputs": [],
   "source": [
    "# from scipy.signal import remez\n",
    "\n",
    "# cutoff_low = 0.2\n",
    "# cutoff_high = 0.8\n",
    "# # fs = 20.832\n",
    "# num_taps = 10\n",
    "\n",
    "# # This is equivalent to B=firpm(10,[.2 .8],[1 1],'Hilbert');\n",
    "# coefficients = remez(num_taps+1, [cutoff_low/2, cutoff_high/2], [1], type='hilbert')\n",
    "\n",
    "\n",
    "\n"
   ]
  },
  {
   "cell_type": "code",
   "execution_count": 8,
   "metadata": {},
   "outputs": [],
   "source": [
    "# from numpy import sqrt as np_sqrt\n",
    "\n",
    "# env = np_zeros_like(rf_data_filt)\n",
    "\n",
    "# test_input = rf_data_filt[:, 0]\n",
    "# Q = filtfilt(coefficients, 1, test_input)\n",
    "# print('norm(Q)={}'.format(norm(Q)))\n",
    "# envelope = np_sqrt(test_input ** 2 + Q ** 2)\n",
    "# print('norm(envelope)={}'.format(norm(envelope)))\n",
    "# b, a = butter(5, 0.25, btype='low')\n",
    "# print('norm(b)={}; norm(a)={}'.format(norm(b), norm(a)))\n",
    "\n",
    "# envelope_filtered = filtfilt(b, a, envelope, axis=0, padtype='odd', padlen=3*(max(len(b),len(a))-1))\n",
    "# print('norm(envelope_filtered)={}'.format(norm(envelope_filtered)))"
   ]
  },
  {
   "cell_type": "code",
   "execution_count": 9,
   "metadata": {},
   "outputs": [],
   "source": [
    "# envelope_filtered.clip(min=0, out=envelope_filtered)\n",
    "\n",
    "# test_output = better_envelope(test_input)\n",
    "\n",
    "# print('norm(test_input) = {}; test_input[0]={}'.format(norm(test_input), test_input[0]))\n",
    "# print('norm(test_output) = {}; test_output[0]={}'.format(norm(test_output), test_output[0]))\n",
    "\n",
    "# for k in range(env.shape[1]):\n",
    "#     env[:, k] = better_envelope(rf_data_filt[:, k])\n",
    "    \n",
    "# print('norm(env) = {}; env[0,0]={}'.format(norm(env), env[0,0]))"
   ]
  },
  {
   "cell_type": "code",
   "execution_count": 10,
   "metadata": {},
   "outputs": [],
   "source": [
    "from numpy import apply_along_axis\n",
    "\n",
    "from lib.better_envelope import better_envelope\n",
    "\n",
    "env = apply_along_axis(better_envelope, 0, rf_data_filt)"
   ]
  },
  {
   "cell_type": "code",
   "execution_count": 25,
   "metadata": {},
   "outputs": [],
   "source": [
    "# Correct\n",
    "env = env / env.max()\n",
    "np_clip(env, np_spacing(1), None, out=env)\n",
    "env_dB = np_zeros_like(env)\n",
    "np_log10(env, out=env_dB);\n",
    "np_multiply(env_dB, 20, out=env_dB);\n"
   ]
  },
  {
   "cell_type": "code",
   "execution_count": 29,
   "metadata": {},
   "outputs": [],
   "source": [
    "from scipy.interpolate import pchip\n",
    "\n",
    "# Upscale lateral sampling\n",
    "up_scale = 2\n",
    "env_up = []\n"
   ]
  },
  {
   "cell_type": "code",
   "execution_count": 31,
   "metadata": {},
   "outputs": [
    {
     "data": {
      "text/plain": [
       "(1624, 128)"
      ]
     },
     "execution_count": 31,
     "metadata": {},
     "output_type": "execute_result"
    }
   ],
   "source": [
    "env.shape"
   ]
  },
  {
   "cell_type": "code",
   "execution_count": null,
   "metadata": {},
   "outputs": [],
   "source": [
    "pchip(range(1, 128))"
   ]
  },
  {
   "cell_type": "code",
   "execution_count": 49,
   "metadata": {},
   "outputs": [],
   "source": [
    "x = range(1, 129)\n",
    "y = env[0, :]"
   ]
  },
  {
   "cell_type": "code",
   "execution_count": 47,
   "metadata": {},
   "outputs": [],
   "source": [
    "from numpy import arange as np_arange\n",
    "\n",
    "new_x = np_arange(1, env.shape(1)+1/up_scale, 1/up_scale)"
   ]
  },
  {
   "cell_type": "code",
   "execution_count": 57,
   "metadata": {
    "scrolled": true
   },
   "outputs": [],
   "source": [
    "new_y = pchip(x, y)(new_x) # correct"
   ]
  },
  {
   "cell_type": "code",
   "execution_count": 56,
   "metadata": {},
   "outputs": [
    {
     "data": {
      "text/plain": [
       "0.06135190298290696"
      ]
     },
     "execution_count": 56,
     "metadata": {},
     "output_type": "execute_result"
    }
   ],
   "source": [
    "norm(new_y)"
   ]
  },
  {
   "cell_type": "code",
   "execution_count": 58,
   "metadata": {},
   "outputs": [],
   "source": [
    "def curried_pchip(y):\n",
    "    return pchip(x, y)(new_x)"
   ]
  },
  {
   "cell_type": "code",
   "execution_count": 59,
   "metadata": {},
   "outputs": [],
   "source": [
    "env_up = apply_along_axis(curried_pchip, 1, env)"
   ]
  },
  {
   "cell_type": "code",
   "execution_count": 60,
   "metadata": {},
   "outputs": [
    {
     "data": {
      "text/plain": [
       "47.36790818710541"
      ]
     },
     "execution_count": 60,
     "metadata": {},
     "output_type": "execute_result"
    }
   ],
   "source": [
    "norm(env_up)"
   ]
  },
  {
   "cell_type": "code",
   "execution_count": 64,
   "metadata": {},
   "outputs": [],
   "source": [
    "np_clip(env_up, np_spacing(1), None, out=env_up);\n",
    "env_up_dB = np_zeros_like(env_up)\n",
    "np_log10(env_up, out=env_up_dB);\n",
    "np_multiply(env_up_dB, 20, out=env_up_dB);\n"
   ]
  },
  {
   "cell_type": "code",
   "execution_count": 65,
   "metadata": {},
   "outputs": [
    {
     "data": {
      "text/plain": [
       "22715.68410845773"
      ]
     },
     "execution_count": 65,
     "metadata": {},
     "output_type": "execute_result"
    }
   ],
   "source": [
    "norm(env_up_dB)"
   ]
  },
  {
   "cell_type": "code",
   "execution_count": 75,
   "metadata": {},
   "outputs": [],
   "source": [
    "from numpy import linspace as np_linspace\n",
    "\n",
    "beam_position_x_up = np_linspace(beam_position_x.min(), beam_position_x.max(), env_up.shape[1])\n"
   ]
  },
  {
   "cell_type": "code",
   "execution_count": 81,
   "metadata": {},
   "outputs": [
    {
     "data": {
      "text/plain": [
       "0.018923000000000002"
      ]
     },
     "execution_count": 81,
     "metadata": {},
     "output_type": "execute_result"
    }
   ],
   "source": [
    "beam_position_x_up[-1]"
   ]
  },
  {
   "cell_type": "code",
   "execution_count": null,
   "metadata": {},
   "outputs": [],
   "source": [
    "# chandat_image_path = os_path_join(target_dirname, CHANDAT_IMAGE_SAVE_FNAME)\n",
    "# savemat(chandat_image_path, {\n",
    "#     'rf_data': rf_data,\n",
    "#     'rf_data_filt': rf_data_filt,\n",
    "#     'env': env,\n",
    "#     'env_dB': env_dB,\n",
    "#     'env_up': env_up,\n",
    "#     'env_up_dB': env_up_dB,\n",
    "#     'beam_position_x_up': beam_position_x_up,\n",
    "#     'depth': depth,\n",
    "# })"
   ]
  },
  {
   "cell_type": "code",
   "execution_count": null,
   "metadata": {},
   "outputs": [],
   "source": [
    "# save('dnn_image.mat', 'rf_data', 'rf_data_filt', 'env', 'env_dB', 'envUp', ... \n",
    "#         'envUp_dB', 'beam_position_x_up', 'depth')"
   ]
  },
  {
   "cell_type": "code",
   "execution_count": null,
   "metadata": {},
   "outputs": [],
   "source": []
  },
  {
   "cell_type": "code",
   "execution_count": null,
   "metadata": {},
   "outputs": [],
   "source": [
    "#  list(range(1,129)), env[0, :]\n",
    "# envUp(kk,:) = interp1((1:size(env,2)), env(kk,:), (1:(1/upScale):size(env,2)), 'pchip');"
   ]
  },
  {
   "cell_type": "code",
   "execution_count": null,
   "metadata": {},
   "outputs": [],
   "source": [
    "# % upscale lateral sampling\n",
    "# upScale = 2;\n",
    "# envUp = [];\n",
    "# for kk = 1:size(env,1)\n",
    "#    envUp(kk,:) = interp1((1:size(env,2)), env(kk,:), (1:(1/upScale):size(env,2)), 'pchip');\n",
    "# end\n",
    "# envUp(envUp <= 0) = eps;\n",
    "# envUp_dB = 20*log10(envUp);\n",
    "# beam_position_x_up = linspace(min(beam_position_x), max(beam_position_x), size(envUp, 2));\n",
    "\n",
    "# % save dnn workspace\n",
    "# save('dnn_image.mat', 'rf_data', 'rf_data_filt', 'env', 'env_dB', 'envUp', ... \n",
    "#         'envUp_dB', 'beam_position_x_up', 'depth')\n"
   ]
  }
 ],
 "metadata": {
  "kernelspec": {
   "display_name": "Python 3",
   "language": "python",
   "name": "python3"
  },
  "language_info": {
   "codemirror_mode": {
    "name": "ipython",
    "version": 3
   },
   "file_extension": ".py",
   "mimetype": "text/x-python",
   "name": "python",
   "nbconvert_exporter": "python",
   "pygments_lexer": "ipython3",
   "version": "3.7.3"
  }
 },
 "nbformat": 4,
 "nbformat_minor": 2
}
