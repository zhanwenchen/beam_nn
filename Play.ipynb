{
 "cells": [
  {
   "cell_type": "code",
   "execution_count": null,
   "metadata": {},
   "outputs": [
    {
     "name": "stderr",
     "output_type": "stream",
     "text": [
      "/Users/zhanwenchen/anaconda/lib/python3.6/site-packages/h5py/__init__.py:36: FutureWarning: Conversion of the second argument of issubdtype from `float` to `np.floating` is deprecated. In future, it will be treated as `np.float64 == np.dtype(float).type`.\n",
      "  from ._conv import register_converters as _register_converters\n"
     ]
    }
   ],
   "source": [
    "%load_ext autoreload\n",
    "%autoreload 2\n",
    "\n",
    "from torch.utils.data import DataLoader\n",
    "\n",
    "from lib.aperture_dataset import ApertureDataset\n",
    "\n",
    "fname_train = 'training_data/training_data.h5'\n",
    "fname_validate = 'training_data/validation_data.h5'\n",
    "\n",
    "save_path = 'save_here'\n",
    "\n",
    "model_params_dict = {\n",
    "    'input_dim': 130, # TODO: move?\n",
    "    'output_dim': 130,\n",
    "    'layer_width': 260,\n",
    "    'num_hidden_layers': 5,\n",
    "}\n",
    "\n",
    "num_samples = 10 ** 5\n",
    "dat_train = ApertureDataset(fname_train, num_samples, 4)\n",
    "train_loader = DataLoader(dat_train, batch_size=1000, shuffle=True, num_workers=1)\n",
    "\n",
    "num_samples = 10 ** 4\n",
    "dat_train2 = ApertureDataset(fname_train, num_samples, 4)\n",
    "train_loader2 = DataLoader(dat_train2, batch_size=1000, shuffle=False, num_workers=1)\n",
    "\n",
    "num_samples = 10 ** 4\n",
    "dat_validate = ApertureDataset(fname_validate, num_samples, 4)\n",
    "validate_loader = DataLoader(dat_validate, batch_size=1000, shuffle=False, num_workers=1)"
   ]
  },
  {
   "cell_type": "code",
   "execution_count": null,
   "metadata": {},
   "outputs": [
    {
     "name": "stdout",
     "output_type": "stream",
     "text": [
      "E: 01 / Train: 3.458e-02 / Valid: 3.508e-02 / Diff Valid: -99.96% / Diff Valid-Train: 1.4% / Time: 3.74\n"
     ]
    }
   ],
   "source": [
    "from torch import optim\n",
    "\n",
    "from lib.fully_connected_net import FullyConnectedNet\n",
    "from lib.fit import fit\n",
    "\n",
    "lr = 0.5\n",
    "momentum = 0\n",
    "nn_fc = FullyConnectedNet(**model_params_dict)\n",
    "optimizer = optim.SGD(nn_fc.parameters(), lr, momentum)\n",
    "\n",
    "fit(nn_fc, train_loader, train_loader2, validate_loader, optimizer, save_path, cuda=False)"
   ]
  },
  {
   "cell_type": "code",
   "execution_count": null,
   "metadata": {},
   "outputs": [],
   "source": []
  }
 ],
 "metadata": {
  "kernelspec": {
   "display_name": "Python 3",
   "language": "python",
   "name": "python3"
  },
  "language_info": {
   "codemirror_mode": {
    "name": "ipython",
    "version": 3
   },
   "file_extension": ".py",
   "mimetype": "text/x-python",
   "name": "python",
   "nbconvert_exporter": "python",
   "pygments_lexer": "ipython3",
   "version": "3.6.4"
  }
 },
 "nbformat": 4,
 "nbformat_minor": 2
}
