{
 "cells": [
  {
   "cell_type": "code",
   "execution_count": 1,
   "metadata": {},
   "outputs": [
    {
     "name": "stderr",
     "output_type": "stream",
     "text": [
      "/Users/zhanwenchen/anaconda/lib/python3.6/site-packages/h5py/__init__.py:36: FutureWarning: Conversion of the second argument of issubdtype from `float` to `np.floating` is deprecated. In future, it will be treated as `np.float64 == np.dtype(float).type`.\n",
      "  from ._conv import register_converters as _register_converters\n"
     ]
    }
   ],
   "source": [
    "%load_ext autoreload\n",
    "%autoreload 2\n",
    "\n",
    "from torch.utils.data import DataLoader\n",
    "\n",
    "from lib.aperture_dataset import ApertureDataset\n",
    "\n",
    "fname_train = 'training_data/training_data.h5'\n",
    "fname_validate = 'training_data/validation_data.h5'\n",
    "\n",
    "save_path = 'save_here'\n",
    "\n",
    "model_params_dict = {\n",
    "    'input_dim': 130, # TODO: move?\n",
    "    'output_dim': 130,\n",
    "    'layer_width': 260,\n",
    "#     'num_hidden_layers': 5,\n",
    "}\n",
    "\n",
    "num_samples = 10 ** 5\n",
    "dat_train = ApertureDataset(fname_train, num_samples, 4)\n",
    "train_loader = DataLoader(dat_train, batch_size=1000, shuffle=True, num_workers=1)\n",
    "\n",
    "num_samples = 10 ** 4\n",
    "dat_train2 = ApertureDataset(fname_train, num_samples, 4)\n",
    "train_loader2 = DataLoader(dat_train2, batch_size=1000, shuffle=False, num_workers=1)\n",
    "\n",
    "num_samples = 10 ** 4\n",
    "dat_validate = ApertureDataset(fname_validate, num_samples, 4)\n",
    "validate_loader = DataLoader(dat_validate, batch_size=1000, shuffle=False, num_workers=1)"
   ]
  },
  {
   "cell_type": "code",
   "execution_count": 2,
   "metadata": {},
   "outputs": [
    {
     "name": "stdout",
     "output_type": "stream",
     "text": [
      "E: 1 / Train: 3.423e-02 / Valid: 3.473e-02 / Diff Valid: -99.97% / Diff Valid-Train: 1.5% / Time: 3.58\n",
      "E: 2 / Train: 1.910e-02 / Valid: 1.928e-02 / Diff Valid: -44.48% / Diff Valid-Train: 1.0% / Time: 3.63\n",
      "E: 3 / Train: 1.337e-02 / Valid: 1.349e-02 / Diff Valid: -30.03% / Diff Valid-Train: 0.9% / Time: 3.65\n",
      "E: 4 / Train: 1.042e-02 / Valid: 1.051e-02 / Diff Valid: -22.08% / Diff Valid-Train: 0.9% / Time: 3.59\n",
      "E: 5 / Train: 8.515e-03 / Valid: 8.601e-03 / Diff Valid: -18.19% / Diff Valid-Train: 1.0% / Time: 3.69\n",
      "E: 6 / Train: 7.540e-03 / Valid: 7.634e-03 / Diff Valid: -11.25% / Diff Valid-Train: 1.2% / Time: 3.77\n",
      "E: 7 / Train: 6.594e-03 / Valid: 6.688e-03 / Diff Valid: -12.39% / Diff Valid-Train: 1.4% / Time: 3.70\n",
      "E: 8 / Train: 5.993e-03 / Valid: 6.087e-03 / Diff Valid: -8.99% / Diff Valid-Train: 1.6% / Time: 3.80\n",
      "E: 9 / Train: 5.515e-03 / Valid: 5.609e-03 / Diff Valid: -7.85% / Diff Valid-Train: 1.7% / Time: 3.81\n",
      "E: 10 / Train: 5.085e-03 / Valid: 5.173e-03 / Diff Valid: -7.77% / Diff Valid-Train: 1.7% / Time: 3.76\n",
      "E: 11 / Train: 5.027e-03 / Valid: 5.127e-03 / Diff Valid: -0.89% / Diff Valid-Train: 2.0% / Time: 3.70\n",
      "E: 12 / Train: 4.671e-03 / Valid: 4.766e-03 / Diff Valid: -7.04% / Diff Valid-Train: 2.0% / Time: 3.79\n",
      "E: 13 / Train: 4.695e-03 / Valid: 4.788e-03 / Diff Valid: 0.45% / Diff Valid-Train: 2.0% / Time: 4.09\n",
      "E: 14 / Train: 4.318e-03 / Valid: 4.404e-03 / Diff Valid: -7.59% / Diff Valid-Train: 2.0% / Time: 3.85\n",
      "E: 15 / Train: 3.869e-03 / Valid: 3.946e-03 / Diff Valid: -10.40% / Diff Valid-Train: 2.0% / Time: 3.94\n",
      "E: 16 / Train: 3.713e-03 / Valid: 3.796e-03 / Diff Valid: -3.82% / Diff Valid-Train: 2.2% / Time: 3.70\n",
      "E: 17 / Train: 3.486e-03 / Valid: 3.560e-03 / Diff Valid: -6.21% / Diff Valid-Train: 2.1% / Time: 3.85\n",
      "E: 18 / Train: 3.306e-03 / Valid: 3.376e-03 / Diff Valid: -5.16% / Diff Valid-Train: 2.1% / Time: 3.96\n",
      "E: 19 / Train: 3.666e-03 / Valid: 3.743e-03 / Diff Valid: 10.86% / Diff Valid-Train: 2.1% / Time: 3.72\n",
      "E: 20 / Train: 3.004e-03 / Valid: 3.072e-03 / Diff Valid: -9.03% / Diff Valid-Train: 2.3% / Time: 3.79\n",
      "E: 21 / Train: 2.989e-03 / Valid: 3.057e-03 / Diff Valid: -0.48% / Diff Valid-Train: 2.3% / Time: 3.74\n",
      "E: 22 / Train: 2.799e-03 / Valid: 2.860e-03 / Diff Valid: -6.42% / Diff Valid-Train: 2.2% / Time: 3.71\n",
      "E: 23 / Train: 2.948e-03 / Valid: 3.009e-03 / Diff Valid: 5.21% / Diff Valid-Train: 2.1% / Time: 3.76\n",
      "E: 24 / Train: 2.642e-03 / Valid: 2.702e-03 / Diff Valid: -5.55% / Diff Valid-Train: 2.2% / Time: 3.84\n",
      "E: 25 / Train: 2.531e-03 / Valid: 2.590e-03 / Diff Valid: -4.11% / Diff Valid-Train: 2.4% / Time: 3.85\n",
      "E: 26 / Train: 2.549e-03 / Valid: 2.608e-03 / Diff Valid: 0.68% / Diff Valid-Train: 2.3% / Time: 3.79\n",
      "E: 27 / Train: 2.459e-03 / Valid: 2.522e-03 / Diff Valid: -2.65% / Diff Valid-Train: 2.5% / Time: 3.82\n",
      "E: 28 / Train: 2.415e-03 / Valid: 2.481e-03 / Diff Valid: -1.61% / Diff Valid-Train: 2.7% / Time: 3.76\n",
      "E: 29 / Train: 2.238e-03 / Valid: 2.296e-03 / Diff Valid: -7.44% / Diff Valid-Train: 2.6% / Time: 4.12\n",
      "E: 30 / Train: 2.286e-03 / Valid: 2.342e-03 / Diff Valid: 1.98% / Diff Valid-Train: 2.5% / Time: 3.77\n",
      "E: 31 / Train: 2.222e-03 / Valid: 2.275e-03 / Diff Valid: -0.93% / Diff Valid-Train: 2.4% / Time: 3.78\n",
      "E: 32 / Train: 2.175e-03 / Valid: 2.230e-03 / Diff Valid: -1.99% / Diff Valid-Train: 2.5% / Time: 3.73\n",
      "E: 33 / Train: 2.048e-03 / Valid: 2.101e-03 / Diff Valid: -5.77% / Diff Valid-Train: 2.6% / Time: 3.76\n",
      "E: 34 / Train: 2.138e-03 / Valid: 2.193e-03 / Diff Valid: 4.35% / Diff Valid-Train: 2.6% / Time: 3.83\n",
      "E: 35 / Train: 1.989e-03 / Valid: 2.041e-03 / Diff Valid: -2.84% / Diff Valid-Train: 2.6% / Time: 3.66\n",
      "E: 36 / Train: 2.184e-03 / Valid: 2.254e-03 / Diff Valid: 10.43% / Diff Valid-Train: 3.2% / Time: 3.76\n",
      "E: 37 / Train: 1.897e-03 / Valid: 1.950e-03 / Diff Valid: -4.46% / Diff Valid-Train: 2.8% / Time: 3.67\n",
      "E: 38 / Train: 2.015e-03 / Valid: 2.074e-03 / Diff Valid: 6.33% / Diff Valid-Train: 2.9% / Time: 3.75\n",
      "E: 39 / Train: 1.855e-03 / Valid: 1.913e-03 / Diff Valid: -1.92% / Diff Valid-Train: 3.1% / Time: 3.69\n",
      "E: 40 / Train: 1.754e-03 / Valid: 1.806e-03 / Diff Valid: -5.59% / Diff Valid-Train: 2.9% / Time: 3.71\n",
      "E: 41 / Train: 1.728e-03 / Valid: 1.780e-03 / Diff Valid: -1.47% / Diff Valid-Train: 3.0% / Time: 3.78\n",
      "E: 42 / Train: 1.818e-03 / Valid: 1.877e-03 / Diff Valid: 5.50% / Diff Valid-Train: 3.3% / Time: 3.68\n",
      "E: 43 / Train: 1.698e-03 / Valid: 1.749e-03 / Diff Valid: -1.71% / Diff Valid-Train: 3.0% / Time: 3.69\n",
      "E: 44 / Train: 1.657e-03 / Valid: 1.708e-03 / Diff Valid: -2.37% / Diff Valid-Train: 3.0% / Time: 3.76\n",
      "E: 45 / Train: 1.641e-03 / Valid: 1.690e-03 / Diff Valid: -1.01% / Diff Valid-Train: 3.0% / Time: 4.11\n",
      "E: 46 / Train: 1.943e-03 / Valid: 2.006e-03 / Diff Valid: 18.70% / Diff Valid-Train: 3.3% / Time: 3.92\n",
      "E: 47 / Train: 1.632e-03 / Valid: 1.686e-03 / Diff Valid: -0.29% / Diff Valid-Train: 3.3% / Time: 3.79\n",
      "E: 48 / Train: 1.576e-03 / Valid: 1.628e-03 / Diff Valid: -3.39% / Diff Valid-Train: 3.3% / Time: 3.81\n",
      "E: 49 / Train: 1.612e-03 / Valid: 1.666e-03 / Diff Valid: 2.29% / Diff Valid-Train: 3.3% / Time: 3.83\n",
      "E: 50 / Train: 1.566e-03 / Valid: 1.618e-03 / Diff Valid: -0.61% / Diff Valid-Train: 3.4% / Time: 3.79\n",
      "E: 51 / Train: 1.543e-03 / Valid: 1.593e-03 / Diff Valid: -1.57% / Diff Valid-Train: 3.2% / Time: 3.74\n",
      "E: 52 / Train: 1.579e-03 / Valid: 1.631e-03 / Diff Valid: 2.37% / Diff Valid-Train: 3.3% / Time: 3.70\n",
      "E: 53 / Train: 1.527e-03 / Valid: 1.575e-03 / Diff Valid: -1.13% / Diff Valid-Train: 3.2% / Time: 3.80\n",
      "E: 54 / Train: 1.476e-03 / Valid: 1.525e-03 / Diff Valid: -3.20% / Diff Valid-Train: 3.3% / Time: 3.78\n",
      "E: 55 / Train: 1.492e-03 / Valid: 1.539e-03 / Diff Valid: 0.95% / Diff Valid-Train: 3.1% / Time: 3.64\n",
      "E: 56 / Train: 1.429e-03 / Valid: 1.475e-03 / Diff Valid: -3.24% / Diff Valid-Train: 3.2% / Time: 3.78\n",
      "E: 57 / Train: 1.451e-03 / Valid: 1.497e-03 / Diff Valid: 1.47% / Diff Valid-Train: 3.2% / Time: 3.76\n",
      "E: 58 / Train: 1.428e-03 / Valid: 1.478e-03 / Diff Valid: 0.16% / Diff Valid-Train: 3.5% / Time: 3.69\n"
     ]
    }
   ],
   "source": [
    "from torch import optim\n",
    "\n",
    "# from lib.fully_connected_net import FullyConnectedNet\n",
    "from lib.fully_connected_net_5 import FullyConnectedNet\n",
    "from lib.fit import fit\n",
    "\n",
    "lr = 0.5\n",
    "momentum = 0\n",
    "nn_fc = FullyConnectedNet(**model_params_dict)\n",
    "optimizer = optim.SGD(nn_fc.parameters(), lr, momentum)\n",
    "\n",
    "fit(nn_fc, train_loader, train_loader2, validate_loader, optimizer, save_path, cuda=False)"
   ]
  },
  {
   "cell_type": "code",
   "execution_count": null,
   "metadata": {},
   "outputs": [],
   "source": [
    "\n"
   ]
  },
  {
   "cell_type": "code",
   "execution_count": null,
   "metadata": {},
   "outputs": [],
   "source": []
  }
 ],
 "metadata": {
  "kernelspec": {
   "display_name": "Python 3",
   "language": "python",
   "name": "python3"
  },
  "language_info": {
   "codemirror_mode": {
    "name": "ipython",
    "version": 3
   },
   "file_extension": ".py",
   "mimetype": "text/x-python",
   "name": "python",
   "nbconvert_exporter": "python",
   "pygments_lexer": "ipython3",
   "version": "3.6.4"
  }
 },
 "nbformat": 4,
 "nbformat_minor": 2
}
