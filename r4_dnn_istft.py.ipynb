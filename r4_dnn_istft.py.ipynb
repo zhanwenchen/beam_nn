{
 "cells": [
  {
   "cell_type": "code",
   "execution_count": 1,
   "metadata": {},
   "outputs": [],
   "source": [
    "from scipy.io import loadmat\n",
    "from numpy import zeros as np_zeros, ones as np_ones\n",
    "from numpy import vectorize as np_vectorize\n",
    "\n",
    "from lib.stft import stft\n",
    "\n",
    "\n",
    "# Test variables\n",
    "num_rows, num_elements, num_beams = 1624, 65, 128\n",
    "len_each_section = 16;\n",
    "frac_overlap = 0.9;\n",
    "padding = 16;\n",
    "# winInfo = {@rectwin};\n",
    "CHANDAT_FNAME = '/Users/zhanwenchen/Documents/projects/beam_nn/DNNs/test/scan_batteries/target_phantom_anechoic_cyst_2p5mm/target_1/chandat.mat'\n",
    "chandat = loadmat(CHANDAT_FNAME)['chandat']\n",
    "\n",
    "NEW_STFT_FNAME = '/Users/zhanwenchen/Documents/projects/beam_nn/DNNs/test/scan_batteries/target_phantom_anechoic_cyst_2p5mm/target_1/new_stft.mat'\n",
    "new_stft_f = loadmat(NEW_STFT_FNAME)\n",
    "new_stft_real = new_stft_f['new_stft_real']\n",
    "new_stft_imag = new_stft_f['new_stft_imag']\n"
   ]
  },
  {
   "cell_type": "code",
   "execution_count": 2,
   "metadata": {},
   "outputs": [],
   "source": [
    "chandat_stft = stft(chandat, len_each_section, frac_overlap, padding)\n",
    "chandat_stft['origSigSize'] = [num_rows, num_elements, num_beams]\n"
   ]
  },
  {
   "cell_type": "code",
   "execution_count": 3,
   "metadata": {},
   "outputs": [],
   "source": [
    "stft_data = chandat_stft['stft']"
   ]
  },
  {
   "cell_type": "code",
   "execution_count": 4,
   "metadata": {},
   "outputs": [
    {
     "data": {
      "text/plain": [
       "1810982.5125408696"
      ]
     },
     "execution_count": 4,
     "metadata": {},
     "output_type": "execute_result"
    }
   ],
   "source": [
    "from numpy.linalg import norm\n",
    "norm(stft_data)"
   ]
  },
  {
   "cell_type": "code",
   "execution_count": 9,
   "metadata": {},
   "outputs": [],
   "source": [
    "new_stft = new_stft_real + 1j*new_stft_imag\n"
   ]
  },
  {
   "cell_type": "code",
   "execution_count": 10,
   "metadata": {},
   "outputs": [],
   "source": [
    "# create new and old stfts\n",
    "from copy import copy\n",
    "\n",
    "chandat_stft_new = copy(chandat_stft)\n",
    "chandat_stft_new['stft'] = new_stft\n"
   ]
  },
  {
   "cell_type": "code",
   "execution_count": 11,
   "metadata": {},
   "outputs": [],
   "source": [
    "shift_length = chandat_stft['shift_length']\n"
   ]
  },
  {
   "cell_type": "code",
   "execution_count": 12,
   "metadata": {},
   "outputs": [],
   "source": [
    "len_each_section, num_rows_overlap, _, _ = chandat_stft['stft'].shape"
   ]
  },
  {
   "cell_type": "code",
   "execution_count": 13,
   "metadata": {},
   "outputs": [],
   "source": [
    "# TODO: Isn't this just num_rows in the very beginning?\n",
    "total_new_elements = (num_rows_overlap - 1) * shift_length + len_each_section"
   ]
  },
  {
   "cell_type": "code",
   "execution_count": 14,
   "metadata": {},
   "outputs": [
    {
     "data": {
      "text/plain": [
       "1624"
      ]
     },
     "execution_count": 14,
     "metadata": {},
     "output_type": "execute_result"
    }
   ],
   "source": [
    "total_new_elements"
   ]
  },
  {
   "cell_type": "code",
   "execution_count": 15,
   "metadata": {},
   "outputs": [],
   "source": [
    "win_info = chandat_stft['win_info']\n",
    "\n",
    "wVec = win_info(len_each_section)\n"
   ]
  },
  {
   "cell_type": "code",
   "execution_count": 16,
   "metadata": {},
   "outputs": [],
   "source": [
    "wVecSq = wVec ** 2\n"
   ]
  },
  {
   "cell_type": "code",
   "execution_count": 17,
   "metadata": {},
   "outputs": [],
   "source": [
    "from numpy import arange as np_arange\n"
   ]
  },
  {
   "cell_type": "code",
   "execution_count": 18,
   "metadata": {},
   "outputs": [],
   "source": [
    "vecC = np_arange(1, num_rows_overlap*shift_length, step=shift_length)\n"
   ]
  },
  {
   "cell_type": "code",
   "execution_count": 19,
   "metadata": {},
   "outputs": [],
   "source": [
    "from numpy import zeros as np_zeros"
   ]
  },
  {
   "cell_type": "code",
   "execution_count": 20,
   "metadata": {},
   "outputs": [],
   "source": [
    "DlsArr = np_zeros((num_rows,))"
   ]
  },
  {
   "cell_type": "code",
   "execution_count": 21,
   "metadata": {},
   "outputs": [],
   "source": [
    "# This was verified through and through\n",
    "for j in vecC:\n",
    "    tmpArr = np_arange(j-1, len_each_section+j-1)\n",
    "    DlsArr[tmpArr] += wVecSq\n"
   ]
  },
  {
   "cell_type": "code",
   "execution_count": 22,
   "metadata": {},
   "outputs": [],
   "source": [
    "DlsArrInv = 1/DlsArr"
   ]
  },
  {
   "cell_type": "code",
   "execution_count": 23,
   "metadata": {},
   "outputs": [
    {
     "data": {
      "text/plain": [
       "array([1. , 1. , 0.5, ..., 0.5, 1. , 1. ])"
      ]
     },
     "execution_count": 23,
     "metadata": {},
     "output_type": "execute_result"
    }
   ],
   "source": [
    "DlsArrInv"
   ]
  },
  {
   "cell_type": "code",
   "execution_count": 24,
   "metadata": {},
   "outputs": [
    {
     "data": {
      "text/plain": [
       "320.4746479832687"
      ]
     },
     "execution_count": 24,
     "metadata": {},
     "output_type": "execute_result"
    }
   ],
   "source": [
    "from numpy.linalg import norm\n",
    "\n",
    "norm(DlsArr)"
   ]
  },
  {
   "cell_type": "code",
   "execution_count": 25,
   "metadata": {},
   "outputs": [
    {
     "data": {
      "text/plain": [
       "dtype('complex128')"
      ]
     },
     "execution_count": 25,
     "metadata": {},
     "output_type": "execute_result"
    }
   ],
   "source": [
    "chandat_stft['stft'].dtype"
   ]
  },
  {
   "cell_type": "code",
   "execution_count": 26,
   "metadata": {},
   "outputs": [],
   "source": [
    "stft_data = chandat_stft['stft']"
   ]
  },
  {
   "cell_type": "code",
   "execution_count": 27,
   "metadata": {},
   "outputs": [],
   "source": [
    "from numpy.fft import ifft as np_ifft\n",
    "from numpy import sqrt as np_sqrt\n",
    "\n",
    "invFT = np_sqrt(len_each_section)*np_ifft(chandat_stft['stft'], axis=0)\n"
   ]
  },
  {
   "cell_type": "code",
   "execution_count": 28,
   "metadata": {
    "scrolled": false
   },
   "outputs": [],
   "source": [
    "invFT_real = invFT.real"
   ]
  },
  {
   "cell_type": "code",
   "execution_count": 29,
   "metadata": {},
   "outputs": [
    {
     "data": {
      "text/plain": [
       "1810982.5125412922"
      ]
     },
     "execution_count": 29,
     "metadata": {},
     "output_type": "execute_result"
    }
   ],
   "source": [
    "norm(invFT)"
   ]
  },
  {
   "cell_type": "code",
   "execution_count": 30,
   "metadata": {},
   "outputs": [],
   "source": [
    "from numpy import newaxis as np_newaxis\n",
    "\n",
    "# invFT = invFT.*repmat(wVec,[1,size(invFT,2),size(invFT,3),size(invFT,4)]);\n",
    "invFT *= wVec[:, np_newaxis, np_newaxis, np_newaxis]"
   ]
  },
  {
   "cell_type": "code",
   "execution_count": 31,
   "metadata": {},
   "outputs": [],
   "source": [
    "yEst = np_zeros(chandat_stft['origSigSize'])\n",
    "for index, j in enumerate(vecC):\n",
    "    tmpArr = np_arange(j-1, len_each_section+j-1)\n",
    "#     slice_norm = norm(invFT_real[:, index, :])\n",
    "#     print('shape =', invFT_real[:, index, :].shape)\n",
    "#     print('slice =', invFT_real[:, index, :])\n",
    "#     print('slice_norm =', slice_norm)\n",
    "#     print('after:', yEst[tmpArr, :])\n",
    "    yEst[tmpArr, :] += invFT_real[:, index, :]\n"
   ]
  },
  {
   "cell_type": "code",
   "execution_count": 35,
   "metadata": {},
   "outputs": [
    {
     "data": {
      "text/plain": [
       "5070744.420360303"
      ]
     },
     "execution_count": 35,
     "metadata": {},
     "output_type": "execute_result"
    }
   ],
   "source": [
    "norm(yEst)"
   ]
  },
  {
   "cell_type": "code",
   "execution_count": 36,
   "metadata": {},
   "outputs": [
    {
     "data": {
      "text/plain": [
       "(1624,)"
      ]
     },
     "execution_count": 36,
     "metadata": {},
     "output_type": "execute_result"
    }
   ],
   "source": [
    "DlsArrInv.shape"
   ]
  },
  {
   "cell_type": "code",
   "execution_count": 39,
   "metadata": {},
   "outputs": [],
   "source": [
    "# sigOut = yEst.*repmat(DlsArrInv,[1,size(yEst,2),size(yEst,3)]);\n",
    "sigOut = yEst * DlsArrInv[:, np_newaxis, np_newaxis]\n"
   ]
  },
  {
   "cell_type": "code",
   "execution_count": 40,
   "metadata": {},
   "outputs": [
    {
     "data": {
      "text/plain": [
       "657220.2353496825"
      ]
     },
     "execution_count": 40,
     "metadata": {},
     "output_type": "execute_result"
    }
   ],
   "source": [
    "norm(sigOut)"
   ]
  },
  {
   "cell_type": "code",
   "execution_count": null,
   "metadata": {},
   "outputs": [],
   "source": []
  }
 ],
 "metadata": {
  "kernelspec": {
   "display_name": "Python 3",
   "language": "python",
   "name": "python3"
  },
  "language_info": {
   "codemirror_mode": {
    "name": "ipython",
    "version": 3
   },
   "file_extension": ".py",
   "mimetype": "text/x-python",
   "name": "python",
   "nbconvert_exporter": "python",
   "pygments_lexer": "ipython3",
   "version": "3.7.4"
  }
 },
 "nbformat": 4,
 "nbformat_minor": 2
}
