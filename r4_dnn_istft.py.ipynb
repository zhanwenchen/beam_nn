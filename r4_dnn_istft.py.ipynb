{
 "cells": [
  {
   "cell_type": "code",
   "execution_count": 1,
   "metadata": {},
   "outputs": [],
   "source": [
    "from scipy.io import loadmat\n",
    "from numpy import zeros as np_zeros, ones as np_ones\n",
    "from numpy import vectorize as np_vectorize\n",
    "\n",
    "from lib.stft import stft\n",
    "from lib.non_iter_ls_inv_stft import non_iter_ls_inv_stft\n",
    "\n",
    "\n",
    "# Test variables\n",
    "num_rows, num_elements, num_beams = 1624, 65, 128\n",
    "len_each_section = 16;\n",
    "frac_overlap = 0.9;\n",
    "padding = 16;\n",
    "# winInfo = {@rectwin};\n",
    "CHANDAT_FNAME = '/Users/zhanwenchen/Documents/projects/beam_nn/DNNs/test/scan_batteries/target_phantom_anechoic_cyst_2p5mm/target_1/chandat.mat'\n",
    "chandat = loadmat(CHANDAT_FNAME)['chandat']\n",
    "\n",
    "NEW_STFT_FNAME = '/Users/zhanwenchen/Documents/projects/beam_nn/DNNs/test/scan_batteries/target_phantom_anechoic_cyst_2p5mm/target_1/new_stft.mat'\n",
    "new_stft_f = loadmat(NEW_STFT_FNAME)\n",
    "new_stft_real = new_stft_f['new_stft_real']\n",
    "new_stft_imag = new_stft_f['new_stft_imag']\n"
   ]
  },
  {
   "cell_type": "code",
   "execution_count": 2,
   "metadata": {},
   "outputs": [],
   "source": [
    "chandat_stft = stft(chandat, len_each_section, frac_overlap, padding)\n",
    "chandat_stft['origSigSize'] = [num_rows, num_elements, num_beams]\n"
   ]
  },
  {
   "cell_type": "code",
   "execution_count": 3,
   "metadata": {},
   "outputs": [],
   "source": [
    "stft_data = chandat_stft['stft']"
   ]
  },
  {
   "cell_type": "code",
   "execution_count": 4,
   "metadata": {},
   "outputs": [
    {
     "data": {
      "text/plain": [
       "1810982.5125408696"
      ]
     },
     "execution_count": 4,
     "metadata": {},
     "output_type": "execute_result"
    }
   ],
   "source": [
    "from numpy.linalg import norm\n",
    "norm(stft_data)"
   ]
  },
  {
   "cell_type": "code",
   "execution_count": 5,
   "metadata": {},
   "outputs": [],
   "source": [
    "new_stft = new_stft_real + 1j*new_stft_imag\n"
   ]
  },
  {
   "cell_type": "code",
   "execution_count": 6,
   "metadata": {},
   "outputs": [],
   "source": [
    "# create new and old stfts\n",
    "from copy import copy\n",
    "\n",
    "chandat_stft_new = copy(chandat_stft)\n",
    "chandat_stft_new['stft'] = new_stft\n"
   ]
  },
  {
   "cell_type": "code",
   "execution_count": 7,
   "metadata": {},
   "outputs": [
    {
     "name": "stdout",
     "output_type": "stream",
     "text": [
      "norm(DlsArr) = 320.4746479832687\n",
      "norm(invFT) = 167013460.0\n",
      "norm(yEst) = 281768794.51286405\n",
      "norm(sigOut) = 35911183.26331446\n"
     ]
    }
   ],
   "source": [
    "chandat_new = non_iter_ls_inv_stft(chandat_stft_new)\n"
   ]
  },
  {
   "cell_type": "code",
   "execution_count": null,
   "metadata": {},
   "outputs": [],
   "source": []
  }
 ],
 "metadata": {
  "kernelspec": {
   "display_name": "Python 3",
   "language": "python",
   "name": "python3"
  },
  "language_info": {
   "codemirror_mode": {
    "name": "ipython",
    "version": 3
   },
   "file_extension": ".py",
   "mimetype": "text/x-python",
   "name": "python",
   "nbconvert_exporter": "python",
   "pygments_lexer": "ipython3",
   "version": "3.7.4"
  }
 },
 "nbformat": 4,
 "nbformat_minor": 2
}
