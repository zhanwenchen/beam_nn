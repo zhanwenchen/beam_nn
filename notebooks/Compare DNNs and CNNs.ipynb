{
 "cells": [
  {
   "cell_type": "code",
   "execution_count": 1,
   "metadata": {},
   "outputs": [],
   "source": [
    "import pandas as pd\n",
    "import matplotlib.pyplot as plt"
   ]
  },
  {
   "cell_type": "markdown",
   "metadata": {},
   "source": [
    "# Best DNN Results for Each (Ignoring Consistency)"
   ]
  },
  {
   "cell_type": "code",
   "execution_count": 2,
   "metadata": {},
   "outputs": [
    {
     "name": "stdout",
     "output_type": "stream",
     "text": [
      "    target_1   target_2   target_3   target_4   target_5\n",
      "0  31.760000  33.915000  35.607000  31.841000  34.506000\n",
      "1   5.317700   5.306600   5.485100   5.235100   5.530800\n",
      "2   1.903200   1.883900   1.915300   1.884400   1.930800\n",
      "3   0.481920   0.592310   0.547840   0.481290   0.550290\n",
      "4   0.006352   0.006192   0.005002   0.007949   0.004766\n",
      "5   0.245970   0.307310   0.301660   0.310720   0.253200\n",
      "6   0.000174   0.000109   0.000083   0.000273   0.000075\n",
      "7   0.016702   0.026609   0.024806   0.027188   0.017196\n",
      "    target_1   target_2   target_3   target_4   target_5\n",
      "0  30.231000  29.725000  26.898000  29.967000  29.881000\n",
      "1   5.540300   5.462900   5.695800   5.878600   5.290000\n",
      "2   1.957500   1.944000   2.034000   2.039000   1.902900\n",
      "3   0.001235   0.001524   0.001711   0.001586   0.001236\n",
      "4   0.040118   0.046688   0.037866   0.049960   0.038540\n",
      "5   0.000002   0.000003   0.000006   0.000004   0.000001\n",
      "6   0.000420   0.000577   0.000347   0.000600   0.000410\n",
      "   target_17  target_19\n",
      "0   9.519700  34.103000\n",
      "1  -0.804020   5.524500\n",
      "2   1.633800   1.931500\n",
      "3   0.011014   0.001027\n",
      "4   0.032955   0.052098\n",
      "5   0.000172   0.000003\n",
      "6   0.000407   0.000728\n"
     ]
    }
   ],
   "source": [
    "dnn_stats_simulation_fname = 'dnn_stats/speckle-stats-dnn-anechoic-cyst-5mm.txt'\n",
    "dnn_stats_phantom_fname = 'dnn_stats/speckle-stats-dnn-phantom-anechoic-cyst-2p5mm.txt'\n",
    "dnn_stats_in_vivo_fname = 'dnn_stats/speckle-stats-dnn-in-vivo.txt'\n",
    "\n",
    "dnn_stats_simulation = pd.read_csv(dnn_stats_simulation_fname, header=None, names=['target_1', 'target_2', 'target_3', 'target_4', 'target_5'])\n",
    "dnn_stats_phantom = pd.read_csv(dnn_stats_phantom_fname, header=None, names=['target_1', 'target_2', 'target_3', 'target_4', 'target_5'])\n",
    "dnn_stats_in_vivo = pd.read_csv(dnn_stats_in_vivo_fname, header=None, names=['target_17', 'target_19'])\n",
    "\n",
    "print(dnn_stats_simulation)\n",
    "print(dnn_stats_phantom)\n",
    "print(dnn_stats_in_vivo)"
   ]
  },
  {
   "cell_type": "markdown",
   "metadata": {},
   "source": [
    "# Best CNN Results for Each (Ignoring Consistency, Similar Speckle SNR)"
   ]
  },
  {
   "cell_type": "code",
   "execution_count": 26,
   "metadata": {},
   "outputs": [
    {
     "name": "stdout",
     "output_type": "stream",
     "text": [
      "    target_1   target_2   target_3   target_4   target_5\n",
      "0  28.957000  30.691000  31.686000  29.510000  30.019000\n",
      "1   5.088800   5.297200   5.420400   5.019300   5.419700\n",
      "2   1.872500   1.900300   1.920100   1.851300   1.933000\n",
      "3   0.009101   0.009020   0.008083   0.010698   0.006770\n",
      "4   0.255240   0.308840   0.310390   0.319750   0.214550\n",
      "5   0.000191   0.000132   0.000102   0.000239   0.000076\n",
      "6   0.018580   0.026414   0.026133   0.029832   0.012319\n",
      "    target_1   target_2   target_3   target_4   target_5\n",
      "0  22.328000  22.311000  21.384000  23.461000  21.576000\n",
      "1   4.750900   4.780100   5.499300   5.415500   4.485700\n",
      "2   1.876200   1.886300   2.076500   2.006300   1.834100\n",
      "3   0.003016   0.003891   0.003864   0.003736   0.003364\n",
      "4   0.039432   0.050763   0.045316   0.055648   0.040326\n",
      "5   0.000002   0.000007   0.000008   0.000005   0.000003\n",
      "6   0.000442   0.000724   0.000476   0.000769   0.000483\n",
      "   target_17  target_19\n",
      "0   6.317200  33.330000\n",
      "1  -4.132800   5.138000\n",
      "2   1.502400   1.847800\n",
      "3   0.014099   0.001149\n",
      "4   0.029178   0.053336\n",
      "5   0.000212   0.000001\n",
      "6   0.000377   0.000833\n"
     ]
    }
   ],
   "source": [
    "cnn_stats_simulation_fname = 'dnn_stats/speckle-stats-cnn-anechoic-cyst-5mm.txt' # based on 20180706214952_21_evaluated, or 39\n",
    "cnn_stats_phantom_fname = 'dnn_stats/speckle-stats-cnn-phantom-anechoic-cyst-2p5mm.txt' # based on 20180706214952_6_evaluated, or 2\n",
    "cnn_stats_in_vivo_fname = 'dnn_stats/speckle-stats-cnn-in-vivo.txt'\n",
    "\n",
    "cnn_stats_simulation = pd.read_csv(cnn_stats_simulation_fname, header=None, names=['target_1', 'target_2', 'target_3', 'target_4', 'target_5'])\n",
    "cnn_stats_phantom = pd.read_csv(cnn_stats_phantom_fname, header=None, names=['target_1', 'target_2', 'target_3', 'target_4', 'target_5'])\n",
    "cnn_stats_in_vivo = pd.read_csv(cnn_stats_in_vivo_fname, header=None, names=['target_17', 'target_19'])\n",
    "\n",
    "print(cnn_stats_simulation)\n",
    "print(cnn_stats_phantom)\n",
    "print(cnn_stats_in_vivo)"
   ]
  },
  {
   "cell_type": "markdown",
   "metadata": {},
   "source": [
    "# Benchmark DAS Results for Each Experiment"
   ]
  },
  {
   "cell_type": "code",
   "execution_count": 27,
   "metadata": {},
   "outputs": [
    {
     "name": "stdout",
     "output_type": "stream",
     "text": [
      "    target_1   target_2   target_3   target_4   target_5\n",
      "0  23.924000  24.477000  24.868000  23.369000  24.198000\n",
      "1   5.090000   4.913800   5.148000   4.887700   5.083100\n",
      "2   1.928100   1.877700   1.923100   1.892200   1.918600\n",
      "3   0.015204   0.018030   0.016722   0.020264   0.013123\n",
      "4   0.238870   0.301880   0.292870   0.298650   0.212790\n",
      "5   0.000147   0.000143   0.000114   0.000238   0.000067\n",
      "6   0.015348   0.025847   0.023193   0.024913   0.012301\n",
      "    target_1   target_2   target_3   target_4   target_5\n",
      "0  17.420000  16.108000  16.482000  16.380000  15.365000\n",
      "1   4.399400   3.786900   4.501200   4.708300   3.804000\n",
      "2   1.929800   1.847800   1.999700   2.047800   1.888600\n",
      "3   0.005223   0.006731   0.006166   0.007167   0.006202\n",
      "4   0.038808   0.042999   0.041125   0.047242   0.036373\n",
      "5   0.000005   0.000008   0.000011   0.000011   0.000008\n",
      "6   0.000404   0.000541   0.000423   0.000532   0.000371\n",
      "   target_17  target_19\n",
      "0   1.265600  17.296000\n",
      "1 -14.982000   4.258500\n",
      "2   1.867200   1.907800\n",
      "3   0.031817   0.006237\n",
      "4   0.036808   0.045686\n",
      "5   0.000396   0.000010\n",
      "6   0.000389   0.000573\n"
     ]
    }
   ],
   "source": [
    "das_stats_simulation_fname = 'dnn_stats/speckle-stats-das-anechoic-cyst-5mm.txt' # based on 20180706214952_21_evaluated, or 39\n",
    "das_stats_phantom_fname = 'dnn_stats/speckle-stats-das-phantom-anechoic-cyst-2p5mm.txt' # based on 20180706214952_6_evaluated, or 2\n",
    "das_stats_in_vivo_fname = 'dnn_stats/speckle-stats-das-in-vivo.txt'\n",
    "\n",
    "das_stats_simulation = pd.read_csv(das_stats_simulation_fname, header=None, names=['target_1', 'target_2', 'target_3', 'target_4', 'target_5'])\n",
    "das_stats_phantom = pd.read_csv(das_stats_phantom_fname, header=None, names=['target_1', 'target_2', 'target_3', 'target_4', 'target_5'])\n",
    "das_stats_in_vivo = pd.read_csv(das_stats_in_vivo_fname, header=None, names=['target_17', 'target_19'])\n",
    "\n",
    "print(das_stats_simulation)\n",
    "print(das_stats_phantom)\n",
    "print(das_stats_in_vivo)"
   ]
  },
  {
   "cell_type": "markdown",
   "metadata": {},
   "source": [
    "# Compare DAS, DNN, CNN - Simulation"
   ]
  },
  {
   "cell_type": "code",
   "execution_count": 22,
   "metadata": {},
   "outputs": [
    {
     "data": {
      "image/png": "[encoded data removed]",
      "text/plain": [
       "<Figure size 1440x360 with 3 Axes>"
      ]
     },
     "metadata": {},
     "output_type": "display_data"
    }
   ],
   "source": [
    "fig, axes = plt.subplots(1, 3, figsize=(20,5))\n",
    "\n",
    "# CR\n",
    "which_stat = 0 # 0 is cr\n",
    "experiments = ['das', 'dnn', 'cnn']\n",
    "means = [das_stats_simulation.mean(axis=1)[which_stat], dnn_stats_simulation.mean(axis=1)[which_stat], cnn_stats_simulation.mean(axis=1)[which_stat]]\n",
    "errors = [das_stats_simulation.std(axis=1)[which_stat], dnn_stats_simulation.std(axis=1)[which_stat], cnn_stats_simulation.std(axis=1)[which_stat]]\n",
    "\n",
    "axes[0].errorbar(experiments, means, errors, linestyle=\"None\", fmt='o')\n",
    "axes[0].set_title('CR - Simulation')\n",
    "\n",
    "# CNR\n",
    "which_stat = 1 # 1 is cnr\n",
    "experiments = ['das', 'dnn', 'cnn']\n",
    "means = [das_stats_simulation.mean(axis=1)[which_stat], dnn_stats_simulation.mean(axis=1)[which_stat], cnn_stats_simulation.mean(axis=1)[which_stat]]\n",
    "errors = [das_stats_simulation.std(axis=1)[which_stat], dnn_stats_simulation.std(axis=1)[which_stat], cnn_stats_simulation.std(axis=1)[which_stat]]\n",
    "\n",
    "axes[1].errorbar(experiments, means, errors, linestyle=\"None\", fmt='o')\n",
    "axes[1].set_title('CNR - Simulation')\n",
    "\n",
    "\n",
    "# Speckle SNR\n",
    "which_stat = 2 # 2 is snr\n",
    "experiments = ['das', 'dnn', 'cnn']\n",
    "means = [das_stats_simulation.mean(axis=1)[which_stat], dnn_stats_simulation.mean(axis=1)[which_stat], cnn_stats_simulation.mean(axis=1)[which_stat]]\n",
    "errors = [das_stats_simulation.std(axis=1)[which_stat], dnn_stats_simulation.std(axis=1)[which_stat], cnn_stats_simulation.std(axis=1)[which_stat]]\n",
    "\n",
    "axes[2].errorbar(experiments, means, errors, linestyle=\"None\", fmt='o')\n",
    "axes[2].set_title('Speckle SNR - Simulation')\n",
    "\n",
    "plt.show()"
   ]
  },
  {
   "cell_type": "markdown",
   "metadata": {},
   "source": [
    "# Compare DAS, DNN, CNN - Phantom"
   ]
  },
  {
   "cell_type": "code",
   "execution_count": 25,
   "metadata": {},
   "outputs": [
    {
     "data": {
      "image/png": "[encoded data removed]",
      "text/plain": [
       "<Figure size 1440x360 with 3 Axes>"
      ]
     },
     "metadata": {},
     "output_type": "display_data"
    }
   ],
   "source": [
    "fig, axes = plt.subplots(1, 3, figsize=(20,5))\n",
    "\n",
    "# CR\n",
    "which_stat = 0 # 0 is cr\n",
    "experiments = ['das', 'dnn', 'cnn']\n",
    "means = [das_stats_phantom.mean(axis=1)[which_stat], dnn_stats_phantom.mean(axis=1)[which_stat], cnn_stats_phantom.mean(axis=1)[which_stat]]\n",
    "errors = [das_stats_phantom.std(axis=1)[which_stat], dnn_stats_phantom.std(axis=1)[which_stat], cnn_stats_phantom.std(axis=1)[which_stat]]\n",
    "\n",
    "axes[0].errorbar(experiments, means, errors, linestyle=\"None\", fmt='o')\n",
    "axes[0].set_title('CR - Phantom')\n",
    "\n",
    "# CNR\n",
    "which_stat = 1 # 1 is cnr\n",
    "experiments = ['das', 'dnn', 'cnn']\n",
    "means = [das_stats_phantom.mean(axis=1)[which_stat], dnn_stats_phantom.mean(axis=1)[which_stat], cnn_stats_phantom.mean(axis=1)[which_stat]]\n",
    "errors = [das_stats_phantom.std(axis=1)[which_stat], dnn_stats_phantom.std(axis=1)[which_stat], cnn_stats_phantom.std(axis=1)[which_stat]]\n",
    "\n",
    "axes[1].errorbar(experiments, means, errors, linestyle=\"None\", fmt='o')\n",
    "axes[1].set_title('CNR - Phantom')\n",
    "\n",
    "\n",
    "# Speckle SNR\n",
    "which_stat = 2 # 2 is snr\n",
    "experiments = ['das', 'dnn', 'cnn']\n",
    "means = [das_stats_phantom.mean(axis=1)[which_stat], dnn_stats_phantom.mean(axis=1)[which_stat], cnn_stats_phantom.mean(axis=1)[which_stat]]\n",
    "errors = [das_stats_phantom.std(axis=1)[which_stat], dnn_stats_phantom.std(axis=1)[which_stat], cnn_stats_phantom.std(axis=1)[which_stat]]\n",
    "\n",
    "axes[2].errorbar(experiments, means, errors, linestyle=\"None\", fmt='o')\n",
    "axes[2].set_title('Speckle SNR - Phantom')\n",
    "\n",
    "plt.show()"
   ]
  },
  {
   "cell_type": "markdown",
   "metadata": {},
   "source": [
    "# Compare DAS, DNN, CNN - In Vivo"
   ]
  },
  {
   "cell_type": "code",
   "execution_count": 29,
   "metadata": {},
   "outputs": [
    {
     "data": {
      "image/png": "[encoded data removed]",
      "text/plain": [
       "<Figure size 1440x360 with 3 Axes>"
      ]
     },
     "metadata": {},
     "output_type": "display_data"
    }
   ],
   "source": [
    "fig, axes = plt.subplots(1, 3, figsize=(20,5))\n",
    "\n",
    "# CR\n",
    "which_stat = 0 # 0 is cr\n",
    "experiments = ['das', 'dnn', 'cnn']\n",
    "means = [das_stats_in_vivo.mean(axis=1)[which_stat], dnn_stats_in_vivo.mean(axis=1)[which_stat], cnn_stats_in_vivo.mean(axis=1)[which_stat]]\n",
    "errors = [das_stats_in_vivo.std(axis=1)[which_stat], dnn_stats_in_vivo.std(axis=1)[which_stat], cnn_stats_in_vivo.std(axis=1)[which_stat]]\n",
    "\n",
    "axes[0].errorbar(experiments, means, errors, linestyle=\"None\", fmt='o')\n",
    "axes[0].set_title('CR - In Vivo')\n",
    "\n",
    "# CNR\n",
    "which_stat = 1 # 1 is cnr\n",
    "experiments = ['das', 'dnn', 'cnn']\n",
    "means = [das_stats_in_vivo.mean(axis=1)[which_stat], dnn_stats_in_vivo.mean(axis=1)[which_stat], cnn_stats_in_vivo.mean(axis=1)[which_stat]]\n",
    "errors = [das_stats_in_vivo.std(axis=1)[which_stat], dnn_stats_in_vivo.std(axis=1)[which_stat], cnn_stats_in_vivo.std(axis=1)[which_stat]]\n",
    "\n",
    "axes[1].errorbar(experiments, means, errors, linestyle=\"None\", fmt='o')\n",
    "axes[1].set_title('CNR - In Vivo')\n",
    "\n",
    "\n",
    "# Speckle SNR\n",
    "which_stat = 2 # 2 is snr\n",
    "experiments = ['das', 'dnn', 'cnn']\n",
    "means = [das_stats_in_vivo.mean(axis=1)[which_stat], dnn_stats_in_vivo.mean(axis=1)[which_stat], cnn_stats_in_vivo.mean(axis=1)[which_stat]]\n",
    "errors = [das_stats_in_vivo.std(axis=1)[which_stat], dnn_stats_in_vivo.std(axis=1)[which_stat], cnn_stats_in_vivo.std(axis=1)[which_stat]]\n",
    "\n",
    "axes[2].errorbar(experiments, means, errors, linestyle=\"None\", fmt='o')\n",
    "axes[2].set_title('Speckle SNR - In Vivo')\n",
    "\n",
    "plt.show()# Compare DAS, DNN, CNN - Phantom"
   ]
  },
  {
   "cell_type": "code",
   "execution_count": null,
   "metadata": {},
   "outputs": [],
   "source": []
  }
 ],
 "metadata": {
  "kernelspec": {
   "display_name": "Python 3",
   "language": "python",
   "name": "python3"
  },
  "language_info": {
   "codemirror_mode": {
    "name": "ipython",
    "version": 3
   },
   "file_extension": ".py",
   "mimetype": "text/x-python",
   "name": "python",
   "nbconvert_exporter": "python",
   "pygments_lexer": "ipython3",
   "version": "3.6.5"
  }
 },
 "nbformat": 4,
 "nbformat_minor": 2
}
