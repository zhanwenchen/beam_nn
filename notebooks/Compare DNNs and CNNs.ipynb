{
 "cells": [
  {
   "cell_type": "code",
   "execution_count": 3,
   "metadata": {},
   "outputs": [],
   "source": [
    "import pandas as pd"
   ]
  },
  {
   "cell_type": "markdown",
   "metadata": {},
   "source": [
    "# Best DNN Results for Each (Ignoring Consistency)"
   ]
  },
  {
   "cell_type": "code",
   "execution_count": 8,
   "metadata": {},
   "outputs": [
    {
     "name": "stdout",
     "output_type": "stream",
     "text": [
      "    target_1   target_2   target_3   target_4   target_5\n",
      "0  31.760000  33.915000  35.607000  31.841000  34.506000\n",
      "1   5.317700   5.306600   5.485100   5.235100   5.530800\n",
      "2   1.903200   1.883900   1.915300   1.884400   1.930800\n",
      "3   0.481920   0.592310   0.547840   0.481290   0.550290\n",
      "4   0.006352   0.006192   0.005002   0.007949   0.004766\n",
      "5   0.245970   0.307310   0.301660   0.310720   0.253200\n",
      "6   0.000174   0.000109   0.000083   0.000273   0.000075\n",
      "7   0.016702   0.026609   0.024806   0.027188   0.017196\n",
      "    target_1   target_2   target_3   target_4   target_5\n",
      "0  30.231000  29.725000  26.898000  29.967000  29.881000\n",
      "1   5.540300   5.462900   5.695800   5.878600   5.290000\n",
      "2   1.957500   1.944000   2.034000   2.039000   1.902900\n",
      "3   0.001235   0.001524   0.001711   0.001586   0.001236\n",
      "4   0.040118   0.046688   0.037866   0.049960   0.038540\n",
      "5   0.000002   0.000003   0.000006   0.000004   0.000001\n",
      "6   0.000420   0.000577   0.000347   0.000600   0.000410\n",
      "   target_17  target_19\n",
      "0   9.519700  34.103000\n",
      "1  -0.804020   5.524500\n",
      "2   1.633800   1.931500\n",
      "3   0.011014   0.001027\n",
      "4   0.032955   0.052098\n",
      "5   0.000172   0.000003\n",
      "6   0.000407   0.000728\n"
     ]
    }
   ],
   "source": [
    "dnn_stats_simulation_fname = 'dnn_stats/speckle-stats-dnn-anechoic-cyst-5mm.txt'\n",
    "dnn_stats_phantom_fname = 'dnn_stats/speckle-stats-dnn-phantom-anechoic-cyst-2p5mm.txt'\n",
    "dnn_stats_in_vivo_fname = 'dnn_stats/speckle-stats-dnn-in-vivo.txt'\n",
    "\n",
    "dnn_stats_simulation = pd.read_csv(dnn_stats_simulation_fname, header=None, names=['target_1', 'target_2', 'target_3', 'target_4', 'target_5'])\n",
    "dnn_stats_phantom = pd.read_csv(dnn_stats_phantom_fname, header=None, names=['target_1', 'target_2', 'target_3', 'target_4', 'target_5'])\n",
    "dnn_stats_in_vivo = pd.read_csv(dnn_stats_in_vivo_fname, header=None, names=['target_17', 'target_19'])\n",
    "\n",
    "print(dnn_stats_simulation)\n",
    "print(dnn_stats_phantom)\n",
    "print(dnn_stats_in_vivo)"
   ]
  },
  {
   "cell_type": "markdown",
   "metadata": {},
   "source": [
    "# Best CNN Results for Each (Ignoring Consistency)"
   ]
  },
  {
   "cell_type": "code",
   "execution_count": null,
   "metadata": {},
   "outputs": [],
   "source": []
  }
 ],
 "metadata": {
  "kernelspec": {
   "display_name": "Python 3",
   "language": "python",
   "name": "python3"
  },
  "language_info": {
   "codemirror_mode": {
    "name": "ipython",
    "version": 3
   },
   "file_extension": ".py",
   "mimetype": "text/x-python",
   "name": "python",
   "nbconvert_exporter": "python",
   "pygments_lexer": "ipython3",
   "version": "3.6.5"
  }
 },
 "nbformat": 4,
 "nbformat_minor": 2
}
