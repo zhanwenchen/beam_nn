{
 "cells": [
  {
   "cell_type": "code",
   "execution_count": 1,
   "metadata": {},
   "outputs": [],
   "source": [
    "%matplotlib inline\n",
    "%load_ext autoreload\n",
    "%autoreload 2\n",
    "import matplotlib.pyplot as plt\n",
    "import pandas as pd\n",
    "pd.options.mode.chained_assignment = None\n",
    "import numpy as np\n",
    "\n",
    "import os\n",
    "from os.path import join\n",
    "\n",
    "from torch import load, numel\n",
    "\n",
    "from analysis_utils import get_df, inspect_model_by_name, compare_two_models, get_num_weights_biases\n"
   ]
  },
  {
   "cell_type": "code",
   "execution_count": 2,
   "metadata": {
    "scrolled": true
   },
   "outputs": [
    {
     "name": "stdout",
     "output_type": "stream",
     "text": [
      "before filtering, there are a total of 1441 models\n"
     ]
    }
   ],
   "source": [
    "import warnings\n",
    "warnings.filterwarnings('error')\n",
    "warnings.filterwarnings(\"ignore\", category=DeprecationWarning)\n",
    "\n",
    "identifier = '*'\n",
    "df = get_df(identifier)\n",
    "print('before filtering, there are a total of', len(df), 'models')"
   ]
  },
  {
   "cell_type": "markdown",
   "metadata": {},
   "source": [
    "## Filter by Consistent CNR Improvement"
   ]
  },
  {
   "cell_type": "code",
   "execution_count": 3,
   "metadata": {},
   "outputs": [],
   "source": [
    "consistent_cnr = df.query( \\\n",
    "    'target_anechoic_cyst_5mm_target_1_SNR_10dB_cnr_dnn > target_anechoic_cyst_5mm_target_1_SNR_10dB_cnr_das & \\\n",
    "     target_anechoic_cyst_5mm_target_2_SNR_10dB_cnr_dnn > target_anechoic_cyst_5mm_target_2_SNR_10dB_cnr_das & \\\n",
    "     target_anechoic_cyst_5mm_target_3_SNR_10dB_cnr_dnn > target_anechoic_cyst_5mm_target_3_SNR_10dB_cnr_das & \\\n",
    "     target_anechoic_cyst_5mm_target_4_SNR_10dB_cnr_dnn > target_anechoic_cyst_5mm_target_4_SNR_10dB_cnr_das & \\\n",
    "     target_anechoic_cyst_5mm_target_5_SNR_10dB_cnr_dnn > target_anechoic_cyst_5mm_target_5_SNR_10dB_cnr_das & \\\n",
    "     target_phantom_anechoic_cyst_2p5mm_target_1_cnr_dnn > target_phantom_anechoic_cyst_2p5mm_target_1_cnr_das & \\\n",
    "     target_phantom_anechoic_cyst_2p5mm_target_2_cnr_dnn > target_phantom_anechoic_cyst_2p5mm_target_2_cnr_das & \\\n",
    "     target_phantom_anechoic_cyst_2p5mm_target_3_cnr_dnn > target_phantom_anechoic_cyst_2p5mm_target_3_cnr_das & \\\n",
    "     target_phantom_anechoic_cyst_2p5mm_target_4_cnr_dnn > target_phantom_anechoic_cyst_2p5mm_target_4_cnr_das & \\\n",
    "     target_phantom_anechoic_cyst_2p5mm_target_5_cnr_dnn > target_phantom_anechoic_cyst_2p5mm_target_5_cnr_das & \\\n",
    "     target_in_vivo_target_17_cnr_dnn > target_in_vivo_target_17_cnr_das & \\\n",
    "     target_in_vivo_target_19_cnr_dnn > target_in_vivo_target_19_cnr_das')\n"
   ]
  },
  {
   "cell_type": "code",
   "execution_count": 4,
   "metadata": {
    "scrolled": false
   },
   "outputs": [
    {
     "name": "stdout",
     "output_type": "stream",
     "text": [
      "There are 195 models with consistent CNR improvements\n"
     ]
    }
   ],
   "source": [
    "print('There are {} models with consistent CNR improvements'.format(len(consistent_cnr)))"
   ]
  },
  {
   "cell_type": "markdown",
   "metadata": {},
   "source": [
    "## Calculate the Log Number of Weights for Consistent Models"
   ]
  },
  {
   "cell_type": "code",
   "execution_count": 5,
   "metadata": {},
   "outputs": [],
   "source": [
    "def apply_get_num_weights_biases(name):\n",
    "    path = join('..', 'DNNs', name)\n",
    "    return get_num_weights_biases(path)['k_4']\n",
    "    "
   ]
  },
  {
   "cell_type": "code",
   "execution_count": 6,
   "metadata": {
    "scrolled": false
   },
   "outputs": [],
   "source": [
    "# consistent_cnr.loc[:, 'log_num_weights'] = consistent_cnr.loc[:, 'name'].apply(get_num_weights_biases)\n",
    "consistent_cnr.loc[:, 'num_weights'] = consistent_cnr['name'].apply(apply_get_num_weights_biases).values\n",
    "consistent_cnr.loc[:, 'log_num_weights'] = np.log10(consistent_cnr.loc[:, 'num_weights'])\n"
   ]
  },
  {
   "cell_type": "markdown",
   "metadata": {},
   "source": [
    "# Plot Average CNR (Phantoms) as a Function of Log Number of Weights"
   ]
  },
  {
   "cell_type": "code",
   "execution_count": 7,
   "metadata": {},
   "outputs": [
    {
     "data": {
      "image/png": "[encoded data removed]",
      "text/plain": [
       "<Figure size 432x288 with 1 Axes>"
      ]
     },
     "metadata": {
      "needs_background": "light"
     },
     "output_type": "display_data"
    }
   ],
   "source": [
    "x = consistent_cnr.loc[:, 'log_num_weights'].values\n",
    "y = consistent_cnr.loc[:, 'target_phantom_anechoic_cyst_2p5mm_avg_cnr_dnn'].values\n",
    "plt.scatter(x, y, color='blue', label='CNNs')\n",
    "plt.title('CNNs')\n",
    "plt.xlabel('Number of weights, log10')\n",
    "plt.ylabel('Average CNR, Phantoms')\n",
    "plt.show()\n"
   ]
  },
  {
   "cell_type": "code",
   "execution_count": 8,
   "metadata": {},
   "outputs": [],
   "source": [
    "fcs = pd.read_csv('dnn_stats/target_phantom_anechoic_cyst_2p5mm_fcn.txt', index_col=0)"
   ]
  },
  {
   "cell_type": "code",
   "execution_count": 9,
   "metadata": {},
   "outputs": [
    {
     "data": {
      "text/html": [
       "<div>\n",
       "<style scoped>\n",
       "    .dataframe tbody tr th:only-of-type {\n",
       "        vertical-align: middle;\n",
       "    }\n",
       "\n",
       "    .dataframe tbody tr th {\n",
       "        vertical-align: top;\n",
       "    }\n",
       "\n",
       "    .dataframe thead th {\n",
       "        text-align: right;\n",
       "    }\n",
       "</style>\n",
       "<table border=\"1\" class=\"dataframe\">\n",
       "  <thead>\n",
       "    <tr style=\"text-align: right;\">\n",
       "      <th></th>\n",
       "      <th>bf_id</th>\n",
       "      <th>num_weights</th>\n",
       "      <th>CNR</th>\n",
       "    </tr>\n",
       "  </thead>\n",
       "  <tbody>\n",
       "    <tr>\n",
       "      <th>171</th>\n",
       "      <td>1528225522_72</td>\n",
       "      <td>4602000</td>\n",
       "      <td>5.573520</td>\n",
       "    </tr>\n",
       "    <tr>\n",
       "      <th>153</th>\n",
       "      <td>1528225522_56</td>\n",
       "      <td>1219400</td>\n",
       "      <td>5.527980</td>\n",
       "    </tr>\n",
       "    <tr>\n",
       "      <th>22</th>\n",
       "      <td>1528225522_118</td>\n",
       "      <td>1219400</td>\n",
       "      <td>5.525680</td>\n",
       "    </tr>\n",
       "    <tr>\n",
       "      <th>192</th>\n",
       "      <td>1528225522_91</td>\n",
       "      <td>1219400</td>\n",
       "      <td>5.506020</td>\n",
       "    </tr>\n",
       "    <tr>\n",
       "      <th>114</th>\n",
       "      <td>1528225522_200</td>\n",
       "      <td>948480</td>\n",
       "      <td>5.486260</td>\n",
       "    </tr>\n",
       "    <tr>\n",
       "      <th>0</th>\n",
       "      <td>1528225522_0</td>\n",
       "      <td>948480</td>\n",
       "      <td>5.475540</td>\n",
       "    </tr>\n",
       "    <tr>\n",
       "      <th>181</th>\n",
       "      <td>1528225522_81</td>\n",
       "      <td>1219400</td>\n",
       "      <td>5.463940</td>\n",
       "    </tr>\n",
       "    <tr>\n",
       "      <th>158</th>\n",
       "      <td>1528225522_60</td>\n",
       "      <td>948480</td>\n",
       "      <td>5.459640</td>\n",
       "    </tr>\n",
       "    <tr>\n",
       "      <th>133</th>\n",
       "      <td>1528225522_38</td>\n",
       "      <td>475020</td>\n",
       "      <td>5.445960</td>\n",
       "    </tr>\n",
       "    <tr>\n",
       "      <th>145</th>\n",
       "      <td>1528225522_49</td>\n",
       "      <td>4602000</td>\n",
       "      <td>5.435980</td>\n",
       "    </tr>\n",
       "    <tr>\n",
       "      <th>152</th>\n",
       "      <td>1528225522_55</td>\n",
       "      <td>3519360</td>\n",
       "      <td>5.424520</td>\n",
       "    </tr>\n",
       "    <tr>\n",
       "      <th>59</th>\n",
       "      <td>1528225522_151</td>\n",
       "      <td>1219400</td>\n",
       "      <td>5.423580</td>\n",
       "    </tr>\n",
       "    <tr>\n",
       "      <th>82</th>\n",
       "      <td>1528225522_172</td>\n",
       "      <td>271440</td>\n",
       "      <td>5.423160</td>\n",
       "    </tr>\n",
       "    <tr>\n",
       "      <th>150</th>\n",
       "      <td>1528225522_53</td>\n",
       "      <td>6767280</td>\n",
       "      <td>5.418400</td>\n",
       "    </tr>\n",
       "    <tr>\n",
       "      <th>74</th>\n",
       "      <td>1528225522_165</td>\n",
       "      <td>5684640</td>\n",
       "      <td>5.411900</td>\n",
       "    </tr>\n",
       "    <tr>\n",
       "      <th>189</th>\n",
       "      <td>1528225522_89</td>\n",
       "      <td>5684640</td>\n",
       "      <td>5.409120</td>\n",
       "    </tr>\n",
       "    <tr>\n",
       "      <th>42</th>\n",
       "      <td>1528225522_136</td>\n",
       "      <td>119080</td>\n",
       "      <td>5.397940</td>\n",
       "    </tr>\n",
       "    <tr>\n",
       "      <th>118</th>\n",
       "      <td>1528225522_24</td>\n",
       "      <td>271440</td>\n",
       "      <td>5.391920</td>\n",
       "    </tr>\n",
       "    <tr>\n",
       "      <th>155</th>\n",
       "      <td>1528225522_58</td>\n",
       "      <td>1761240</td>\n",
       "      <td>5.380000</td>\n",
       "    </tr>\n",
       "    <tr>\n",
       "      <th>72</th>\n",
       "      <td>1528225522_163</td>\n",
       "      <td>85020</td>\n",
       "      <td>5.375300</td>\n",
       "    </tr>\n",
       "    <tr>\n",
       "      <th>107</th>\n",
       "      <td>1528225522_195</td>\n",
       "      <td>271440</td>\n",
       "      <td>5.375200</td>\n",
       "    </tr>\n",
       "    <tr>\n",
       "      <th>185</th>\n",
       "      <td>1528225522_85</td>\n",
       "      <td>1490320</td>\n",
       "      <td>5.374520</td>\n",
       "    </tr>\n",
       "    <tr>\n",
       "      <th>119</th>\n",
       "      <td>1528225522_25</td>\n",
       "      <td>339300</td>\n",
       "      <td>5.366800</td>\n",
       "    </tr>\n",
       "    <tr>\n",
       "      <th>30</th>\n",
       "      <td>1528225522_125</td>\n",
       "      <td>475020</td>\n",
       "      <td>5.366380</td>\n",
       "    </tr>\n",
       "    <tr>\n",
       "      <th>101</th>\n",
       "      <td>1528225522_19</td>\n",
       "      <td>1761240</td>\n",
       "      <td>5.364980</td>\n",
       "    </tr>\n",
       "    <tr>\n",
       "      <th>10</th>\n",
       "      <td>1528225522_107</td>\n",
       "      <td>3519360</td>\n",
       "      <td>5.362960</td>\n",
       "    </tr>\n",
       "    <tr>\n",
       "      <th>60</th>\n",
       "      <td>1528225522_152</td>\n",
       "      <td>5684640</td>\n",
       "      <td>5.358480</td>\n",
       "    </tr>\n",
       "    <tr>\n",
       "      <th>87</th>\n",
       "      <td>1528225522_177</td>\n",
       "      <td>6767280</td>\n",
       "      <td>5.358180</td>\n",
       "    </tr>\n",
       "    <tr>\n",
       "      <th>20</th>\n",
       "      <td>1528225522_116</td>\n",
       "      <td>407160</td>\n",
       "      <td>5.345440</td>\n",
       "    </tr>\n",
       "    <tr>\n",
       "      <th>2</th>\n",
       "      <td>1528225522_10</td>\n",
       "      <td>5684640</td>\n",
       "      <td>5.343520</td>\n",
       "    </tr>\n",
       "    <tr>\n",
       "      <th>...</th>\n",
       "      <td>...</td>\n",
       "      <td>...</td>\n",
       "      <td>...</td>\n",
       "    </tr>\n",
       "    <tr>\n",
       "      <th>32</th>\n",
       "      <td>1528225522_127</td>\n",
       "      <td>119080</td>\n",
       "      <td>5.010700</td>\n",
       "    </tr>\n",
       "    <tr>\n",
       "      <th>13</th>\n",
       "      <td>1528225522_11</td>\n",
       "      <td>3519360</td>\n",
       "      <td>5.005440</td>\n",
       "    </tr>\n",
       "    <tr>\n",
       "      <th>136</th>\n",
       "      <td>1528225522_40</td>\n",
       "      <td>85020</td>\n",
       "      <td>5.002220</td>\n",
       "    </tr>\n",
       "    <tr>\n",
       "      <th>103</th>\n",
       "      <td>1528225522_191</td>\n",
       "      <td>119080</td>\n",
       "      <td>5.001080</td>\n",
       "    </tr>\n",
       "    <tr>\n",
       "      <th>123</th>\n",
       "      <td>1528225522_29</td>\n",
       "      <td>102050</td>\n",
       "      <td>4.997340</td>\n",
       "    </tr>\n",
       "    <tr>\n",
       "      <th>81</th>\n",
       "      <td>1528225522_171</td>\n",
       "      <td>1219400</td>\n",
       "      <td>4.995720</td>\n",
       "    </tr>\n",
       "    <tr>\n",
       "      <th>124</th>\n",
       "      <td>1528225522_3</td>\n",
       "      <td>6767280</td>\n",
       "      <td>4.995680</td>\n",
       "    </tr>\n",
       "    <tr>\n",
       "      <th>163</th>\n",
       "      <td>1528225522_65</td>\n",
       "      <td>5684640</td>\n",
       "      <td>4.985820</td>\n",
       "    </tr>\n",
       "    <tr>\n",
       "      <th>58</th>\n",
       "      <td>1528225522_150</td>\n",
       "      <td>1219400</td>\n",
       "      <td>4.982860</td>\n",
       "    </tr>\n",
       "    <tr>\n",
       "      <th>109</th>\n",
       "      <td>1528225522_197</td>\n",
       "      <td>1490320</td>\n",
       "      <td>4.978980</td>\n",
       "    </tr>\n",
       "    <tr>\n",
       "      <th>73</th>\n",
       "      <td>1528225522_164</td>\n",
       "      <td>1490320</td>\n",
       "      <td>4.975620</td>\n",
       "    </tr>\n",
       "    <tr>\n",
       "      <th>191</th>\n",
       "      <td>1528225522_90</td>\n",
       "      <td>136110</td>\n",
       "      <td>4.959060</td>\n",
       "    </tr>\n",
       "    <tr>\n",
       "      <th>1</th>\n",
       "      <td>1528225522_1</td>\n",
       "      <td>407160</td>\n",
       "      <td>4.951140</td>\n",
       "    </tr>\n",
       "    <tr>\n",
       "      <th>24</th>\n",
       "      <td>1528225522_12</td>\n",
       "      <td>339300</td>\n",
       "      <td>4.948380</td>\n",
       "    </tr>\n",
       "    <tr>\n",
       "      <th>6</th>\n",
       "      <td>1528225522_103</td>\n",
       "      <td>1761240</td>\n",
       "      <td>4.947700</td>\n",
       "    </tr>\n",
       "    <tr>\n",
       "      <th>117</th>\n",
       "      <td>1528225522_23</td>\n",
       "      <td>6767280</td>\n",
       "      <td>4.945340</td>\n",
       "    </tr>\n",
       "    <tr>\n",
       "      <th>137</th>\n",
       "      <td>1528225522_41</td>\n",
       "      <td>407160</td>\n",
       "      <td>4.943480</td>\n",
       "    </tr>\n",
       "    <tr>\n",
       "      <th>21</th>\n",
       "      <td>1528225522_117</td>\n",
       "      <td>271440</td>\n",
       "      <td>4.942960</td>\n",
       "    </tr>\n",
       "    <tr>\n",
       "      <th>67</th>\n",
       "      <td>1528225522_159</td>\n",
       "      <td>475020</td>\n",
       "      <td>4.928900</td>\n",
       "    </tr>\n",
       "    <tr>\n",
       "      <th>147</th>\n",
       "      <td>1528225522_50</td>\n",
       "      <td>1490320</td>\n",
       "      <td>4.902540</td>\n",
       "    </tr>\n",
       "    <tr>\n",
       "      <th>178</th>\n",
       "      <td>1528225522_79</td>\n",
       "      <td>136110</td>\n",
       "      <td>4.901780</td>\n",
       "    </tr>\n",
       "    <tr>\n",
       "      <th>3</th>\n",
       "      <td>1528225522_100</td>\n",
       "      <td>1219400</td>\n",
       "      <td>4.893200</td>\n",
       "    </tr>\n",
       "    <tr>\n",
       "      <th>66</th>\n",
       "      <td>1528225522_158</td>\n",
       "      <td>102050</td>\n",
       "      <td>4.891580</td>\n",
       "    </tr>\n",
       "    <tr>\n",
       "      <th>78</th>\n",
       "      <td>1528225522_169</td>\n",
       "      <td>1219400</td>\n",
       "      <td>4.879020</td>\n",
       "    </tr>\n",
       "    <tr>\n",
       "      <th>175</th>\n",
       "      <td>1528225522_76</td>\n",
       "      <td>5684640</td>\n",
       "      <td>4.555780</td>\n",
       "    </tr>\n",
       "    <tr>\n",
       "      <th>29</th>\n",
       "      <td>1528225522_124</td>\n",
       "      <td>475020</td>\n",
       "      <td>4.419580</td>\n",
       "    </tr>\n",
       "    <tr>\n",
       "      <th>126</th>\n",
       "      <td>1528225522_31</td>\n",
       "      <td>119080</td>\n",
       "      <td>4.228780</td>\n",
       "    </tr>\n",
       "    <tr>\n",
       "      <th>75</th>\n",
       "      <td>1528225522_166</td>\n",
       "      <td>136110</td>\n",
       "      <td>1.550968</td>\n",
       "    </tr>\n",
       "    <tr>\n",
       "      <th>106</th>\n",
       "      <td>1528225522_194</td>\n",
       "      <td>119080</td>\n",
       "      <td>-0.297014</td>\n",
       "    </tr>\n",
       "    <tr>\n",
       "      <th>143</th>\n",
       "      <td>1528225522_47</td>\n",
       "      <td>407160</td>\n",
       "      <td>-0.363942</td>\n",
       "    </tr>\n",
       "  </tbody>\n",
       "</table>\n",
       "<p>201 rows × 3 columns</p>\n",
       "</div>"
      ],
      "text/plain": [
       "              bf_id  num_weights       CNR\n",
       "171   1528225522_72      4602000  5.573520\n",
       "153   1528225522_56      1219400  5.527980\n",
       "22   1528225522_118      1219400  5.525680\n",
       "192   1528225522_91      1219400  5.506020\n",
       "114  1528225522_200       948480  5.486260\n",
       "0      1528225522_0       948480  5.475540\n",
       "181   1528225522_81      1219400  5.463940\n",
       "158   1528225522_60       948480  5.459640\n",
       "133   1528225522_38       475020  5.445960\n",
       "145   1528225522_49      4602000  5.435980\n",
       "152   1528225522_55      3519360  5.424520\n",
       "59   1528225522_151      1219400  5.423580\n",
       "82   1528225522_172       271440  5.423160\n",
       "150   1528225522_53      6767280  5.418400\n",
       "74   1528225522_165      5684640  5.411900\n",
       "189   1528225522_89      5684640  5.409120\n",
       "42   1528225522_136       119080  5.397940\n",
       "118   1528225522_24       271440  5.391920\n",
       "155   1528225522_58      1761240  5.380000\n",
       "72   1528225522_163        85020  5.375300\n",
       "107  1528225522_195       271440  5.375200\n",
       "185   1528225522_85      1490320  5.374520\n",
       "119   1528225522_25       339300  5.366800\n",
       "30   1528225522_125       475020  5.366380\n",
       "101   1528225522_19      1761240  5.364980\n",
       "10   1528225522_107      3519360  5.362960\n",
       "60   1528225522_152      5684640  5.358480\n",
       "87   1528225522_177      6767280  5.358180\n",
       "20   1528225522_116       407160  5.345440\n",
       "2     1528225522_10      5684640  5.343520\n",
       "..              ...          ...       ...\n",
       "32   1528225522_127       119080  5.010700\n",
       "13    1528225522_11      3519360  5.005440\n",
       "136   1528225522_40        85020  5.002220\n",
       "103  1528225522_191       119080  5.001080\n",
       "123   1528225522_29       102050  4.997340\n",
       "81   1528225522_171      1219400  4.995720\n",
       "124    1528225522_3      6767280  4.995680\n",
       "163   1528225522_65      5684640  4.985820\n",
       "58   1528225522_150      1219400  4.982860\n",
       "109  1528225522_197      1490320  4.978980\n",
       "73   1528225522_164      1490320  4.975620\n",
       "191   1528225522_90       136110  4.959060\n",
       "1      1528225522_1       407160  4.951140\n",
       "24    1528225522_12       339300  4.948380\n",
       "6    1528225522_103      1761240  4.947700\n",
       "117   1528225522_23      6767280  4.945340\n",
       "137   1528225522_41       407160  4.943480\n",
       "21   1528225522_117       271440  4.942960\n",
       "67   1528225522_159       475020  4.928900\n",
       "147   1528225522_50      1490320  4.902540\n",
       "178   1528225522_79       136110  4.901780\n",
       "3    1528225522_100      1219400  4.893200\n",
       "66   1528225522_158       102050  4.891580\n",
       "78   1528225522_169      1219400  4.879020\n",
       "175   1528225522_76      5684640  4.555780\n",
       "29   1528225522_124       475020  4.419580\n",
       "126   1528225522_31       119080  4.228780\n",
       "75   1528225522_166       136110  1.550968\n",
       "106  1528225522_194       119080 -0.297014\n",
       "143   1528225522_47       407160 -0.363942\n",
       "\n",
       "[201 rows x 3 columns]"
      ]
     },
     "execution_count": 9,
     "metadata": {},
     "output_type": "execute_result"
    }
   ],
   "source": [
    "fcs.sort_values(by=['CNR'], ascending=False)"
   ]
  },
  {
   "cell_type": "code",
   "execution_count": 10,
   "metadata": {},
   "outputs": [],
   "source": [
    "# consistent_cnr.loc[:, 'log_num_weights'] = consistent_cnr.loc[:, 'name'].apply(get_num_weights_biases)\n",
    "fcs.loc[:, 'log_num_weights'] = np.log10(fcs.loc[:, 'num_weights'])\n"
   ]
  },
  {
   "cell_type": "code",
   "execution_count": 11,
   "metadata": {},
   "outputs": [
    {
     "data": {
      "image/png": "[encoded data removed]",
      "text/plain": [
       "<Figure size 432x288 with 1 Axes>"
      ]
     },
     "metadata": {
      "needs_background": "light"
     },
     "output_type": "display_data"
    }
   ],
   "source": [
    "x = fcs.loc[:, 'log_num_weights'].values\n",
    "y = fcs.loc[:, 'CNR'].values\n",
    "plt.scatter(x, y)\n",
    "plt.title('Fully Connected Nets')\n",
    "plt.xlabel('Number of weights, log10')\n",
    "plt.ylabel('Average CNR, Phantoms')\n",
    "plt.show()\n"
   ]
  },
  {
   "cell_type": "code",
   "execution_count": 12,
   "metadata": {},
   "outputs": [
    {
     "data": {
      "image/png": "[encoded data removed]",
      "text/plain": [
       "<Figure size 432x288 with 1 Axes>"
      ]
     },
     "metadata": {
      "needs_background": "light"
     },
     "output_type": "display_data"
    }
   ],
   "source": [
    "x = fcs.loc[:, 'log_num_weights'].values\n",
    "y = fcs.loc[:, 'CNR'].values\n",
    "plt.scatter(x, y)\n",
    "plt.ylim(bottom=4)\n",
    "plt.title('Fully Connected Nets')\n",
    "plt.xlabel('Number of weights, log10')\n",
    "plt.ylabel('Average CNR, Phantoms')\n",
    "plt.show()\n"
   ]
  },
  {
   "cell_type": "code",
   "execution_count": null,
   "metadata": {},
   "outputs": [],
   "source": []
  },
  {
   "cell_type": "code",
   "execution_count": 13,
   "metadata": {},
   "outputs": [
    {
     "data": {
      "image/png": "[encoded data removed]",
      "text/plain": [
       "<Figure size 432x288 with 1 Axes>"
      ]
     },
     "metadata": {
      "needs_background": "light"
     },
     "output_type": "display_data"
    }
   ],
   "source": [
    "x = consistent_cnr.loc[:, 'log_num_weights'].values\n",
    "y = consistent_cnr.loc[:, 'target_phantom_anechoic_cyst_2p5mm_avg_cnr_dnn'].values\n",
    "plt.scatter(x, y, color='blue', label='CNNs')\n",
    "\n",
    "x = fcs.loc[:, 'log_num_weights'].values\n",
    "y = fcs.loc[:, 'CNR'].values\n",
    "plt.scatter(x, y, color='red', label='FCNs')\n",
    "plt.title('Fully Connected Nets')\n",
    "plt.xlabel('Number of weights, log10')\n",
    "plt.ylabel('Average CNR, Phantoms')\n",
    "plt.legend()\n",
    "plt.show()\n",
    "\n"
   ]
  },
  {
   "cell_type": "code",
   "execution_count": 14,
   "metadata": {},
   "outputs": [
    {
     "data": {
      "image/png": "[encoded data removed]",
      "text/plain": [
       "<Figure size 432x288 with 1 Axes>"
      ]
     },
     "metadata": {
      "needs_background": "light"
     },
     "output_type": "display_data"
    }
   ],
   "source": [
    "x = consistent_cnr.loc[:, 'log_num_weights'].values\n",
    "y = consistent_cnr.loc[:, 'target_phantom_anechoic_cyst_2p5mm_avg_cnr_dnn'].values\n",
    "plt.scatter(x, y, color='blue', label='CNNs')\n",
    "\n",
    "x = fcs.loc[:, 'log_num_weights'].values\n",
    "y = fcs.loc[:, 'CNR'].values\n",
    "plt.scatter(x, y, color='red', label='FCNs')\n",
    "plt.ylim(bottom=4.6)\n",
    "plt.xlim(right=7.0)\n",
    "plt.title('Average CNR (Phantoms) vs Number of Weights (log10)')\n",
    "plt.xlabel('Number of weights, log10')\n",
    "plt.ylabel('Average CNR, Phantoms')\n",
    "plt.legend()\n",
    "plt.show()\n",
    "\n"
   ]
  },
  {
   "cell_type": "code",
   "execution_count": 15,
   "metadata": {},
   "outputs": [
    {
     "data": {
      "text/plain": [
       "5.063151794871795"
      ]
     },
     "execution_count": 15,
     "metadata": {},
     "output_type": "execute_result"
    }
   ],
   "source": [
    "consistent_cnr.loc[:, 'target_phantom_anechoic_cyst_2p5mm_avg_cnr_dnn'].mean()"
   ]
  },
  {
   "cell_type": "code",
   "execution_count": 16,
   "metadata": {},
   "outputs": [
    {
     "data": {
      "text/plain": [
       "5.090739562189055"
      ]
     },
     "execution_count": 16,
     "metadata": {},
     "output_type": "execute_result"
    }
   ],
   "source": [
    "fcs.loc[:, 'CNR'].mean()"
   ]
  },
  {
   "cell_type": "code",
   "execution_count": 25,
   "metadata": {},
   "outputs": [
    {
     "name": "stdout",
     "output_type": "stream",
     "text": [
      "{'whiskers': [<matplotlib.lines.Line2D object at 0x1a1dee5dd8>, <matplotlib.lines.Line2D object at 0x1a1dee5eb8>, <matplotlib.lines.Line2D object at 0x1a1def8550>, <matplotlib.lines.Line2D object at 0x1a1def8898>], 'caps': [<matplotlib.lines.Line2D object at 0x1a1def04a8>, <matplotlib.lines.Line2D object at 0x1a1def07f0>, <matplotlib.lines.Line2D object at 0x1a1def8be0>, <matplotlib.lines.Line2D object at 0x1a1def8f28>], 'boxes': [<matplotlib.lines.Line2D object at 0x1a1dee59b0>, <matplotlib.lines.Line2D object at 0x1a1def0f28>], 'medians': [<matplotlib.lines.Line2D object at 0x1a1def0b38>, <matplotlib.lines.Line2D object at 0x1a1df6c2b0>], 'fliers': [<matplotlib.lines.Line2D object at 0x1a1def0e80>, <matplotlib.lines.Line2D object at 0x1a1df6c5f8>], 'means': []}\n"
     ]
    },
    {
     "data": {
      "image/png": "[encoded data removed]",
      "text/plain": [
       "<Figure size 432x288 with 1 Axes>"
      ]
     },
     "metadata": {
      "needs_background": "light"
     },
     "output_type": "display_data"
    }
   ],
   "source": [
    "lol = plt.boxplot([consistent_cnr.loc[:, 'target_phantom_anechoic_cyst_2p5mm_avg_cnr_dnn'].values, fcs.loc[:, 'CNR'].values])\n",
    "plt.title('Average Phantom CNR, Best FC vs CNN Models');\n",
    "plt.ylabel('Average Phantom CNR');\n",
    "plt.xlabel('1 = CNNs, 2 = FCs');\n",
    "\n",
    "print(lol)\n"
   ]
  },
  {
   "cell_type": "code",
   "execution_count": null,
   "metadata": {},
   "outputs": [],
   "source": []
  }
 ],
 "metadata": {
  "kernelspec": {
   "display_name": "Python 3",
   "language": "python",
   "name": "python3"
  },
  "language_info": {
   "codemirror_mode": {
    "name": "ipython",
    "version": 3
   },
   "file_extension": ".py",
   "mimetype": "text/x-python",
   "name": "python",
   "nbconvert_exporter": "python",
   "pygments_lexer": "ipython3",
   "version": "3.7.3"
  }
 },
 "nbformat": 4,
 "nbformat_minor": 2
}
