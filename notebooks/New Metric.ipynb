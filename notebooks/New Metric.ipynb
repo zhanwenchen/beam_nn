{
 "cells": [
  {
   "cell_type": "code",
   "execution_count": 1,
   "metadata": {},
   "outputs": [],
   "source": [
    "%matplotlib inline\n",
    "import matplotlib.pyplot as plt\n",
    "import pandas as pd\n",
    "\n",
    "from analysis_utils import get_df"
   ]
  },
  {
   "cell_type": "code",
   "execution_count": 2,
   "metadata": {},
   "outputs": [
    {
     "name": "stderr",
     "output_type": "stream",
     "text": [
      "/anaconda3/lib/python3.6/site-packages/numpy/core/_methods.py:32: RuntimeWarning: invalid value encountered in reduce\n",
      "  return umr_minimum(a, axis, None, out, keepdims, initial)\n"
     ]
    },
    {
     "name": "stdout",
     "output_type": "stream",
     "text": [
      "before filtering, there are a total of 286 models\n"
     ]
    }
   ],
   "source": [
    "identifier = '*'\n",
    "df = get_df(identifier)\n",
    "print('before filtering, there are a total of', len(df), 'models')"
   ]
  },
  {
   "cell_type": "markdown",
   "metadata": {},
   "source": [
    "### Calculate speckle_stats derivatives and new metric for in vivo (average across target)"
   ]
  },
  {
   "cell_type": "code",
   "execution_count": 43,
   "metadata": {},
   "outputs": [
    {
     "data": {
      "text/plain": [
       "['input_size',\n",
       " 'output_size',\n",
       " 'batch_norm',\n",
       " 'use_pooling',\n",
       " 'pooling_method',\n",
       " 'conv1_kernel_size',\n",
       " 'conv1_num_kernels',\n",
       " 'conv1_stride',\n",
       " 'conv1_dropout',\n",
       " 'pool1_kernel_size',\n",
       " 'pool1_stride',\n",
       " 'conv2_kernel_size',\n",
       " 'conv2_num_kernels',\n",
       " 'conv2_stride',\n",
       " 'conv2_dropout',\n",
       " 'pool2_kernel_size',\n",
       " 'pool2_stride',\n",
       " 'fcs_hidden_size',\n",
       " 'fcs_num_hidden_layers',\n",
       " 'fcs_dropout',\n",
       " 'cost_function',\n",
       " 'optimizer',\n",
       " 'learning_rate',\n",
       " 'momentum',\n",
       " 'data_is_target',\n",
       " 'data_train',\n",
       " 'data_val',\n",
       " 'batch_size',\n",
       " 'data_noise_gaussian',\n",
       " 'weight_decay',\n",
       " 'patience',\n",
       " 'cuda',\n",
       " 'save_initial',\n",
       " 'k',\n",
       " 'save_dir',\n",
       " 'name',\n",
       " 'loss_val_k_3',\n",
       " 'loss_val_k_4',\n",
       " 'loss_val_k_5',\n",
       " 'target_in_vivo_target_17_cr_das',\n",
       " 'target_in_vivo_target_17_cr_dnn',\n",
       " 'target_in_vivo_target_17_cnr_das',\n",
       " 'target_in_vivo_target_17_cnr_dnn',\n",
       " 'target_in_vivo_target_17_snr_das',\n",
       " 'target_in_vivo_target_17_snr_dnn',\n",
       " 'target_in_vivo_target_17_mean_in_das',\n",
       " 'target_in_vivo_target_17_mean_in_dnn',\n",
       " 'target_in_vivo_target_17_mean_out_das',\n",
       " 'target_in_vivo_target_17_mean_out_dnn',\n",
       " 'target_in_vivo_target_17_var_in_das',\n",
       " 'target_in_vivo_target_17_var_in_dnn',\n",
       " 'target_in_vivo_target_17_var_out_das',\n",
       " 'target_in_vivo_target_17_var_out_dnn',\n",
       " 'target_in_vivo_target_19_cr_das',\n",
       " 'target_in_vivo_target_19_cr_dnn',\n",
       " 'target_in_vivo_target_19_cnr_das',\n",
       " 'target_in_vivo_target_19_cnr_dnn',\n",
       " 'target_in_vivo_target_19_snr_das',\n",
       " 'target_in_vivo_target_19_snr_dnn',\n",
       " 'target_in_vivo_target_19_mean_in_das',\n",
       " 'target_in_vivo_target_19_mean_in_dnn',\n",
       " 'target_in_vivo_target_19_mean_out_das',\n",
       " 'target_in_vivo_target_19_mean_out_dnn',\n",
       " 'target_in_vivo_target_19_var_in_das',\n",
       " 'target_in_vivo_target_19_var_in_dnn',\n",
       " 'target_in_vivo_target_19_var_out_das',\n",
       " 'target_in_vivo_target_19_var_out_dnn',\n",
       " 'target_in_vivo_avg_cr_das',\n",
       " 'target_in_vivo_avg_cr_dnn',\n",
       " 'target_in_vivo_avg_cnr_das',\n",
       " 'target_in_vivo_avg_cnr_dnn',\n",
       " 'target_in_vivo_avg_snr_das',\n",
       " 'target_in_vivo_avg_snr_dnn',\n",
       " 'target_in_vivo_avg_mean_in_das',\n",
       " 'target_in_vivo_avg_mean_in_dnn',\n",
       " 'target_in_vivo_avg_mean_out_das',\n",
       " 'target_in_vivo_avg_mean_out_dnn',\n",
       " 'target_in_vivo_avg_var_in_das',\n",
       " 'target_in_vivo_avg_var_in_dnn',\n",
       " 'target_in_vivo_avg_var_out_das',\n",
       " 'target_in_vivo_avg_var_out_dnn',\n",
       " 'target_anechoic_cyst_5mm_target_5_SNR_10dB_cr_das',\n",
       " 'target_anechoic_cyst_5mm_target_5_SNR_10dB_cr_dnn',\n",
       " 'target_anechoic_cyst_5mm_target_5_SNR_10dB_cnr_das',\n",
       " 'target_anechoic_cyst_5mm_target_5_SNR_10dB_cnr_dnn',\n",
       " 'target_anechoic_cyst_5mm_target_5_SNR_10dB_snr_das',\n",
       " 'target_anechoic_cyst_5mm_target_5_SNR_10dB_snr_dnn',\n",
       " 'target_anechoic_cyst_5mm_target_5_SNR_10dB_mean_in_das',\n",
       " 'target_anechoic_cyst_5mm_target_5_SNR_10dB_mean_in_dnn',\n",
       " 'target_anechoic_cyst_5mm_target_5_SNR_10dB_mean_out_das',\n",
       " 'target_anechoic_cyst_5mm_target_5_SNR_10dB_mean_out_dnn',\n",
       " 'target_anechoic_cyst_5mm_target_5_SNR_10dB_var_in_das',\n",
       " 'target_anechoic_cyst_5mm_target_5_SNR_10dB_var_in_dnn',\n",
       " 'target_anechoic_cyst_5mm_target_5_SNR_10dB_var_out_das',\n",
       " 'target_anechoic_cyst_5mm_target_5_SNR_10dB_var_out_dnn',\n",
       " 'target_anechoic_cyst_5mm_target_4_SNR_10dB_cr_das',\n",
       " 'target_anechoic_cyst_5mm_target_4_SNR_10dB_cr_dnn',\n",
       " 'target_anechoic_cyst_5mm_target_4_SNR_10dB_cnr_das',\n",
       " 'target_anechoic_cyst_5mm_target_4_SNR_10dB_cnr_dnn',\n",
       " 'target_anechoic_cyst_5mm_target_4_SNR_10dB_snr_das',\n",
       " 'target_anechoic_cyst_5mm_target_4_SNR_10dB_snr_dnn',\n",
       " 'target_anechoic_cyst_5mm_target_4_SNR_10dB_mean_in_das',\n",
       " 'target_anechoic_cyst_5mm_target_4_SNR_10dB_mean_in_dnn',\n",
       " 'target_anechoic_cyst_5mm_target_4_SNR_10dB_mean_out_das',\n",
       " 'target_anechoic_cyst_5mm_target_4_SNR_10dB_mean_out_dnn',\n",
       " 'target_anechoic_cyst_5mm_target_4_SNR_10dB_var_in_das',\n",
       " 'target_anechoic_cyst_5mm_target_4_SNR_10dB_var_in_dnn',\n",
       " 'target_anechoic_cyst_5mm_target_4_SNR_10dB_var_out_das',\n",
       " 'target_anechoic_cyst_5mm_target_4_SNR_10dB_var_out_dnn',\n",
       " 'target_anechoic_cyst_5mm_target_2_SNR_10dB_cr_das',\n",
       " 'target_anechoic_cyst_5mm_target_2_SNR_10dB_cr_dnn',\n",
       " 'target_anechoic_cyst_5mm_target_2_SNR_10dB_cnr_das',\n",
       " 'target_anechoic_cyst_5mm_target_2_SNR_10dB_cnr_dnn',\n",
       " 'target_anechoic_cyst_5mm_target_2_SNR_10dB_snr_das',\n",
       " 'target_anechoic_cyst_5mm_target_2_SNR_10dB_snr_dnn',\n",
       " 'target_anechoic_cyst_5mm_target_2_SNR_10dB_mean_in_das',\n",
       " 'target_anechoic_cyst_5mm_target_2_SNR_10dB_mean_in_dnn',\n",
       " 'target_anechoic_cyst_5mm_target_2_SNR_10dB_mean_out_das',\n",
       " 'target_anechoic_cyst_5mm_target_2_SNR_10dB_mean_out_dnn',\n",
       " 'target_anechoic_cyst_5mm_target_2_SNR_10dB_var_in_das',\n",
       " 'target_anechoic_cyst_5mm_target_2_SNR_10dB_var_in_dnn',\n",
       " 'target_anechoic_cyst_5mm_target_2_SNR_10dB_var_out_das',\n",
       " 'target_anechoic_cyst_5mm_target_2_SNR_10dB_var_out_dnn',\n",
       " 'target_anechoic_cyst_5mm_target_3_SNR_10dB_cr_das',\n",
       " 'target_anechoic_cyst_5mm_target_3_SNR_10dB_cr_dnn',\n",
       " 'target_anechoic_cyst_5mm_target_3_SNR_10dB_cnr_das',\n",
       " 'target_anechoic_cyst_5mm_target_3_SNR_10dB_cnr_dnn',\n",
       " 'target_anechoic_cyst_5mm_target_3_SNR_10dB_snr_das',\n",
       " 'target_anechoic_cyst_5mm_target_3_SNR_10dB_snr_dnn',\n",
       " 'target_anechoic_cyst_5mm_target_3_SNR_10dB_mean_in_das',\n",
       " 'target_anechoic_cyst_5mm_target_3_SNR_10dB_mean_in_dnn',\n",
       " 'target_anechoic_cyst_5mm_target_3_SNR_10dB_mean_out_das',\n",
       " 'target_anechoic_cyst_5mm_target_3_SNR_10dB_mean_out_dnn',\n",
       " 'target_anechoic_cyst_5mm_target_3_SNR_10dB_var_in_das',\n",
       " 'target_anechoic_cyst_5mm_target_3_SNR_10dB_var_in_dnn',\n",
       " 'target_anechoic_cyst_5mm_target_3_SNR_10dB_var_out_das',\n",
       " 'target_anechoic_cyst_5mm_target_3_SNR_10dB_var_out_dnn',\n",
       " 'target_anechoic_cyst_5mm_target_1_SNR_10dB_cr_das',\n",
       " 'target_anechoic_cyst_5mm_target_1_SNR_10dB_cr_dnn',\n",
       " 'target_anechoic_cyst_5mm_target_1_SNR_10dB_cnr_das',\n",
       " 'target_anechoic_cyst_5mm_target_1_SNR_10dB_cnr_dnn',\n",
       " 'target_anechoic_cyst_5mm_target_1_SNR_10dB_snr_das',\n",
       " 'target_anechoic_cyst_5mm_target_1_SNR_10dB_snr_dnn',\n",
       " 'target_anechoic_cyst_5mm_target_1_SNR_10dB_mean_in_das',\n",
       " 'target_anechoic_cyst_5mm_target_1_SNR_10dB_mean_in_dnn',\n",
       " 'target_anechoic_cyst_5mm_target_1_SNR_10dB_mean_out_das',\n",
       " 'target_anechoic_cyst_5mm_target_1_SNR_10dB_mean_out_dnn',\n",
       " 'target_anechoic_cyst_5mm_target_1_SNR_10dB_var_in_das',\n",
       " 'target_anechoic_cyst_5mm_target_1_SNR_10dB_var_in_dnn',\n",
       " 'target_anechoic_cyst_5mm_target_1_SNR_10dB_var_out_das',\n",
       " 'target_anechoic_cyst_5mm_target_1_SNR_10dB_var_out_dnn',\n",
       " 'target_anechoic_cyst_5mm_avg_cr_das',\n",
       " 'target_anechoic_cyst_5mm_avg_cr_dnn',\n",
       " 'target_anechoic_cyst_5mm_avg_cnr_das',\n",
       " 'target_anechoic_cyst_5mm_avg_cnr_dnn',\n",
       " 'target_anechoic_cyst_5mm_avg_snr_das',\n",
       " 'target_anechoic_cyst_5mm_avg_snr_dnn',\n",
       " 'target_anechoic_cyst_5mm_avg_mean_in_das',\n",
       " 'target_anechoic_cyst_5mm_avg_mean_in_dnn',\n",
       " 'target_anechoic_cyst_5mm_avg_mean_out_das',\n",
       " 'target_anechoic_cyst_5mm_avg_mean_out_dnn',\n",
       " 'target_anechoic_cyst_5mm_avg_var_in_das',\n",
       " 'target_anechoic_cyst_5mm_avg_var_in_dnn',\n",
       " 'target_anechoic_cyst_5mm_avg_var_out_das',\n",
       " 'target_anechoic_cyst_5mm_avg_var_out_dnn',\n",
       " 'target_phantom_anechoic_cyst_2p5mm_target_5_cr_das',\n",
       " 'target_phantom_anechoic_cyst_2p5mm_target_5_cr_dnn',\n",
       " 'target_phantom_anechoic_cyst_2p5mm_target_5_cnr_das',\n",
       " 'target_phantom_anechoic_cyst_2p5mm_target_5_cnr_dnn',\n",
       " 'target_phantom_anechoic_cyst_2p5mm_target_5_snr_das',\n",
       " 'target_phantom_anechoic_cyst_2p5mm_target_5_snr_dnn',\n",
       " 'target_phantom_anechoic_cyst_2p5mm_target_5_mean_in_das',\n",
       " 'target_phantom_anechoic_cyst_2p5mm_target_5_mean_in_dnn',\n",
       " 'target_phantom_anechoic_cyst_2p5mm_target_5_mean_out_das',\n",
       " 'target_phantom_anechoic_cyst_2p5mm_target_5_mean_out_dnn',\n",
       " 'target_phantom_anechoic_cyst_2p5mm_target_5_var_in_das',\n",
       " 'target_phantom_anechoic_cyst_2p5mm_target_5_var_in_dnn',\n",
       " 'target_phantom_anechoic_cyst_2p5mm_target_5_var_out_das',\n",
       " 'target_phantom_anechoic_cyst_2p5mm_target_5_var_out_dnn',\n",
       " 'target_phantom_anechoic_cyst_2p5mm_target_2_cr_das',\n",
       " 'target_phantom_anechoic_cyst_2p5mm_target_2_cr_dnn',\n",
       " 'target_phantom_anechoic_cyst_2p5mm_target_2_cnr_das',\n",
       " 'target_phantom_anechoic_cyst_2p5mm_target_2_cnr_dnn',\n",
       " 'target_phantom_anechoic_cyst_2p5mm_target_2_snr_das',\n",
       " 'target_phantom_anechoic_cyst_2p5mm_target_2_snr_dnn',\n",
       " 'target_phantom_anechoic_cyst_2p5mm_target_2_mean_in_das',\n",
       " 'target_phantom_anechoic_cyst_2p5mm_target_2_mean_in_dnn',\n",
       " 'target_phantom_anechoic_cyst_2p5mm_target_2_mean_out_das',\n",
       " 'target_phantom_anechoic_cyst_2p5mm_target_2_mean_out_dnn',\n",
       " 'target_phantom_anechoic_cyst_2p5mm_target_2_var_in_das',\n",
       " 'target_phantom_anechoic_cyst_2p5mm_target_2_var_in_dnn',\n",
       " 'target_phantom_anechoic_cyst_2p5mm_target_2_var_out_das',\n",
       " 'target_phantom_anechoic_cyst_2p5mm_target_2_var_out_dnn',\n",
       " 'target_phantom_anechoic_cyst_2p5mm_target_3_cr_das',\n",
       " 'target_phantom_anechoic_cyst_2p5mm_target_3_cr_dnn',\n",
       " 'target_phantom_anechoic_cyst_2p5mm_target_3_cnr_das',\n",
       " 'target_phantom_anechoic_cyst_2p5mm_target_3_cnr_dnn',\n",
       " 'target_phantom_anechoic_cyst_2p5mm_target_3_snr_das',\n",
       " 'target_phantom_anechoic_cyst_2p5mm_target_3_snr_dnn',\n",
       " 'target_phantom_anechoic_cyst_2p5mm_target_3_mean_in_das',\n",
       " 'target_phantom_anechoic_cyst_2p5mm_target_3_mean_in_dnn',\n",
       " 'target_phantom_anechoic_cyst_2p5mm_target_3_mean_out_das',\n",
       " 'target_phantom_anechoic_cyst_2p5mm_target_3_mean_out_dnn',\n",
       " 'target_phantom_anechoic_cyst_2p5mm_target_3_var_in_das',\n",
       " 'target_phantom_anechoic_cyst_2p5mm_target_3_var_in_dnn',\n",
       " 'target_phantom_anechoic_cyst_2p5mm_target_3_var_out_das',\n",
       " 'target_phantom_anechoic_cyst_2p5mm_target_3_var_out_dnn',\n",
       " 'target_phantom_anechoic_cyst_2p5mm_target_4_cr_das',\n",
       " 'target_phantom_anechoic_cyst_2p5mm_target_4_cr_dnn',\n",
       " 'target_phantom_anechoic_cyst_2p5mm_target_4_cnr_das',\n",
       " 'target_phantom_anechoic_cyst_2p5mm_target_4_cnr_dnn',\n",
       " 'target_phantom_anechoic_cyst_2p5mm_target_4_snr_das',\n",
       " 'target_phantom_anechoic_cyst_2p5mm_target_4_snr_dnn',\n",
       " 'target_phantom_anechoic_cyst_2p5mm_target_4_mean_in_das',\n",
       " 'target_phantom_anechoic_cyst_2p5mm_target_4_mean_in_dnn',\n",
       " 'target_phantom_anechoic_cyst_2p5mm_target_4_mean_out_das',\n",
       " 'target_phantom_anechoic_cyst_2p5mm_target_4_mean_out_dnn',\n",
       " 'target_phantom_anechoic_cyst_2p5mm_target_4_var_in_das',\n",
       " 'target_phantom_anechoic_cyst_2p5mm_target_4_var_in_dnn',\n",
       " 'target_phantom_anechoic_cyst_2p5mm_target_4_var_out_das',\n",
       " 'target_phantom_anechoic_cyst_2p5mm_target_4_var_out_dnn',\n",
       " 'target_phantom_anechoic_cyst_2p5mm_target_1_cr_das',\n",
       " 'target_phantom_anechoic_cyst_2p5mm_target_1_cr_dnn',\n",
       " 'target_phantom_anechoic_cyst_2p5mm_target_1_cnr_das',\n",
       " 'target_phantom_anechoic_cyst_2p5mm_target_1_cnr_dnn',\n",
       " 'target_phantom_anechoic_cyst_2p5mm_target_1_snr_das',\n",
       " 'target_phantom_anechoic_cyst_2p5mm_target_1_snr_dnn',\n",
       " 'target_phantom_anechoic_cyst_2p5mm_target_1_mean_in_das',\n",
       " 'target_phantom_anechoic_cyst_2p5mm_target_1_mean_in_dnn',\n",
       " 'target_phantom_anechoic_cyst_2p5mm_target_1_mean_out_das',\n",
       " 'target_phantom_anechoic_cyst_2p5mm_target_1_mean_out_dnn',\n",
       " 'target_phantom_anechoic_cyst_2p5mm_target_1_var_in_das',\n",
       " 'target_phantom_anechoic_cyst_2p5mm_target_1_var_in_dnn',\n",
       " 'target_phantom_anechoic_cyst_2p5mm_target_1_var_out_das',\n",
       " 'target_phantom_anechoic_cyst_2p5mm_target_1_var_out_dnn',\n",
       " 'target_phantom_anechoic_cyst_2p5mm_avg_cr_das',\n",
       " 'target_phantom_anechoic_cyst_2p5mm_avg_cr_dnn',\n",
       " 'target_phantom_anechoic_cyst_2p5mm_avg_cnr_das',\n",
       " 'target_phantom_anechoic_cyst_2p5mm_avg_cnr_dnn',\n",
       " 'target_phantom_anechoic_cyst_2p5mm_avg_snr_das',\n",
       " 'target_phantom_anechoic_cyst_2p5mm_avg_snr_dnn',\n",
       " 'target_phantom_anechoic_cyst_2p5mm_avg_mean_in_das',\n",
       " 'target_phantom_anechoic_cyst_2p5mm_avg_mean_in_dnn',\n",
       " 'target_phantom_anechoic_cyst_2p5mm_avg_mean_out_das',\n",
       " 'target_phantom_anechoic_cyst_2p5mm_avg_mean_out_dnn',\n",
       " 'target_phantom_anechoic_cyst_2p5mm_avg_var_in_das',\n",
       " 'target_phantom_anechoic_cyst_2p5mm_avg_var_in_dnn',\n",
       " 'target_phantom_anechoic_cyst_2p5mm_avg_var_out_das',\n",
       " 'target_phantom_anechoic_cyst_2p5mm_avg_var_out_dnn',\n",
       " 'target_in_vivo_avg_mean_diff',\n",
       " 'target_in_vivo_avg_mean_diff_das',\n",
       " 'target_in_vivo_avg_mean_diff_dnn',\n",
       " 'target_in_vivo_avg_mean_diff_increase',\n",
       " 'target_in_vivo_avg_var_diff_das',\n",
       " 'target_in_vivo_avg_var_diff_dnn',\n",
       " 'target_in_vivo_avg_var_diff_increase',\n",
       " 'target_in_vivo_avg_cr_improvement',\n",
       " 'target_in_vivo_avg_snr_degredation',\n",
       " 'target_in_vivo_avg_cnr_improvement',\n",
       " 'target_in_vivo_avg_metric']"
      ]
     },
     "execution_count": 43,
     "metadata": {},
     "output_type": "execute_result"
    }
   ],
   "source": [
    "list(df)"
   ]
  },
  {
   "cell_type": "code",
   "execution_count": 13,
   "metadata": {},
   "outputs": [],
   "source": [
    "# cr_improvement\n",
    "df.loc[:, 'target_in_vivo_avg_cr_improvement'] = (df.loc[:, 'target_in_vivo_avg_cr_dnn'] - df.loc[:, 'target_in_vivo_avg_cr_das'])/df.loc[:, 'target_in_vivo_avg_cr_das'].abs()\n"
   ]
  },
  {
   "cell_type": "code",
   "execution_count": 48,
   "metadata": {},
   "outputs": [
    {
     "data": {
      "text/plain": [
       "82    9.2808\n",
       "Name: target_in_vivo_avg_cr_das, dtype: float64"
      ]
     },
     "execution_count": 48,
     "metadata": {},
     "output_type": "execute_result"
    }
   ],
   "source": [
    "# df[df['name'] == '20180709112043_22_evaluated']['target_in_vivo_avg_cr_dnn']\n",
    "df[df['name'] == '20180709112043_22_evaluated']['target_in_vivo_avg_cr_das']\n",
    "# (df[df['name'] == '20180709112043_22_evaluated']['target_in_vivo_avg_cr_dnn'] - df[df['name'] == '20180709112043_22_evaluated']['target_in_vivo_avg_cr_das'])/df[df['name'] == '20180709112043_22_evaluated']['target_in_vivo_avg_cr_das']\n",
    "# df[df['name'] == '20180709112043_22_evaluated']['target_in_vivo_avg_cr_improvement']"
   ]
  },
  {
   "cell_type": "code",
   "execution_count": 17,
   "metadata": {},
   "outputs": [],
   "source": [
    "# cnr_improvement\n",
    "df.loc[:, 'target_in_vivo_avg_cnr_improvement'] = (df.loc[:, 'target_in_vivo_avg_cnr_dnn'] - df.loc[:, 'target_in_vivo_avg_cnr_das'])/df.loc[:, 'target_in_vivo_avg_cnr_das'].abs()\n"
   ]
  },
  {
   "cell_type": "code",
   "execution_count": 41,
   "metadata": {},
   "outputs": [
    {
     "data": {
      "text/plain": [
       "82    0.83262\n",
       "Name: target_in_vivo_avg_cnr_improvement, dtype: float64"
      ]
     },
     "execution_count": 41,
     "metadata": {},
     "output_type": "execute_result"
    }
   ],
   "source": [
    "# df[df['name'] == '20180709112043_22_evaluated']['target_in_vivo_avg_cr_dnn']\n",
    "# df[df['name'] == '20180709112043_22_evaluated']['target_in_vivo_avg_cr_das']\n",
    "(df[df['name'] == '20180709112043_22_evaluated']['target_in_vivo_avg_cr_dnn'] - df[df['name'] == '20180709112043_22_evaluated']['target_in_vivo_avg_cr_das'])/df[df['name'] == '20180709112043_22_evaluated']['target_in_vivo_avg_cr_das']\n",
    "# df[df['name'] == '20180709112043_22_evaluated']['target_in_vivo_avg_cr_improvement']"
   ]
  },
  {
   "cell_type": "code",
   "execution_count": 14,
   "metadata": {},
   "outputs": [],
   "source": [
    "# snr_degredation\n",
    "df.loc[:, 'target_in_vivo_avg_snr_degredation'] = (df.loc[:, 'target_in_vivo_avg_snr_dnn'] - df.loc[:, 'target_in_vivo_avg_snr_das'])/df.loc[:, 'target_in_vivo_avg_snr_das'].abs()\n"
   ]
  },
  {
   "cell_type": "code",
   "execution_count": 24,
   "metadata": {
    "scrolled": true
   },
   "outputs": [
    {
     "data": {
      "text/plain": [
       "0     -0.205828\n",
       "1     -0.060689\n",
       "2      0.098755\n",
       "3     -0.041934\n",
       "4     -0.645097\n",
       "5     -0.242093\n",
       "6     -0.046013\n",
       "7      0.120503\n",
       "8     -0.083179\n",
       "9      0.056344\n",
       "10    -0.217298\n",
       "11    -0.283258\n",
       "12    -0.139629\n",
       "13    -0.037351\n",
       "14     0.114861\n",
       "15    -0.045801\n",
       "16    -0.106172\n",
       "17    -0.088000\n",
       "18    -0.008503\n",
       "19    -0.058543\n",
       "20    -0.012212\n",
       "21    -0.036689\n",
       "22    -0.274808\n",
       "23    -0.059470\n",
       "24    -0.038013\n",
       "25    -0.313483\n",
       "26    -0.057722\n",
       "27    -0.035921\n",
       "28    -0.009060\n",
       "29    -0.016132\n",
       "         ...   \n",
       "256   -0.013536\n",
       "257   -0.061669\n",
       "258   -0.114543\n",
       "259    0.066887\n",
       "260   -0.320954\n",
       "261   -0.025430\n",
       "262   -0.148079\n",
       "263   -0.045695\n",
       "264   -0.087311\n",
       "265   -0.040503\n",
       "266   -0.142755\n",
       "267    0.032715\n",
       "268   -0.058146\n",
       "269   -0.136238\n",
       "270   -0.307656\n",
       "271   -0.046437\n",
       "272   -0.272715\n",
       "273   -0.094358\n",
       "274   -0.030596\n",
       "275    0.047364\n",
       "276   -0.113987\n",
       "277    0.064291\n",
       "278    0.003258\n",
       "279   -0.117616\n",
       "280    0.039868\n",
       "281   -0.042702\n",
       "282   -0.045881\n",
       "283   -0.069377\n",
       "284   -0.136795\n",
       "285   -0.135921\n",
       "Name: target_in_vivo_avg_snr_degredation, Length: 286, dtype: float64"
      ]
     },
     "execution_count": 24,
     "metadata": {},
     "output_type": "execute_result"
    }
   ],
   "source": [
    "df['target_in_vivo_avg_snr_degredation']"
   ]
  },
  {
   "cell_type": "code",
   "execution_count": 28,
   "metadata": {},
   "outputs": [],
   "source": [
    "# mean_diff_increase\n",
    "df.loc[:, 'target_in_vivo_avg_mean_diff_das'] = df.loc[:, 'target_in_vivo_avg_mean_out_das'] - df.loc[:, 'target_in_vivo_avg_mean_in_das']\n",
    "df.loc[:, 'target_in_vivo_avg_mean_diff_dnn'] = df.loc[:, 'target_in_vivo_avg_mean_out_dnn'] - df.loc[:, 'target_in_vivo_avg_mean_in_dnn']\n",
    "df.loc[:, 'target_in_vivo_avg_mean_diff_increase'] = (df.loc[:, 'target_in_vivo_avg_mean_diff_dnn'] - df.loc[:, 'target_in_vivo_avg_mean_diff_das'])/df.loc[:, 'target_in_vivo_avg_mean_diff_das'].abs()\n"
   ]
  },
  {
   "cell_type": "code",
   "execution_count": 40,
   "metadata": {},
   "outputs": [
    {
     "data": {
      "text/plain": [
       "82    0.027415\n",
       "Name: target_in_vivo_avg_mean_diff_dnn, dtype: float64"
      ]
     },
     "execution_count": 40,
     "metadata": {},
     "output_type": "execute_result"
    }
   ],
   "source": [
    "df[df['name'] == '20180709112043_22_evaluated']['target_in_vivo_avg_mean_diff_dnn']"
   ]
  },
  {
   "cell_type": "code",
   "execution_count": 33,
   "metadata": {},
   "outputs": [],
   "source": [
    "# var_diff_increase\n",
    "df.loc[:, 'target_in_vivo_avg_var_diff_das'] = df.loc[:, 'target_in_vivo_avg_var_out_das'] - df.loc[:, 'target_in_vivo_avg_var_in_das']\n",
    "df.loc[:, 'target_in_vivo_avg_var_diff_dnn'] = df.loc[:, 'target_in_vivo_avg_var_out_dnn'] - df.loc[:, 'target_in_vivo_avg_var_in_dnn']\n",
    "df.loc[:, 'target_in_vivo_avg_var_diff_increase'] = (df.loc[:, 'target_in_vivo_avg_var_diff_dnn'] - df.loc[:, 'target_in_vivo_avg_var_diff_das'])/df.loc[:, 'target_in_vivo_avg_mean_diff_das'].abs()\n"
   ]
  },
  {
   "cell_type": "code",
   "execution_count": 34,
   "metadata": {},
   "outputs": [],
   "source": [
    "# metric\n",
    "weight_cr = 1.0\n",
    "weight_cnr = 1.0\n",
    "weight_snr = -12.0\n",
    "weight_mean = 0.1\n",
    "weight_var = 0.02\n",
    "df.loc[:, 'target_in_vivo_avg_metric'] = weight_cr * df.loc[:, 'target_in_vivo_avg_cr_improvement'] + \\\n",
    "                                         weight_cnr * df.loc[:, 'target_in_vivo_avg_cnr_improvement'] + \\\n",
    "                                         weight_snr * df.loc[:, 'target_in_vivo_avg_snr_degredation'] + \\\n",
    "                                         weight_mean * df.loc[:, 'target_in_vivo_avg_mean_diff_increase'] + \\\n",
    "                                         weight_var * df.loc[:, 'target_in_vivo_avg_var_diff_increase']"
   ]
  },
  {
   "cell_type": "code",
   "execution_count": 39,
   "metadata": {},
   "outputs": [
    {
     "data": {
      "text/html": [
       "<div>\n",
       "<style scoped>\n",
       "    .dataframe tbody tr th:only-of-type {\n",
       "        vertical-align: middle;\n",
       "    }\n",
       "\n",
       "    .dataframe tbody tr th {\n",
       "        vertical-align: top;\n",
       "    }\n",
       "\n",
       "    .dataframe thead th {\n",
       "        text-align: right;\n",
       "    }\n",
       "</style>\n",
       "<table border=\"1\" class=\"dataframe\">\n",
       "  <thead>\n",
       "    <tr style=\"text-align: right;\">\n",
       "      <th></th>\n",
       "      <th>name</th>\n",
       "      <th>target_in_vivo_avg_metric</th>\n",
       "    </tr>\n",
       "  </thead>\n",
       "  <tbody>\n",
       "    <tr>\n",
       "      <th>128</th>\n",
       "      <td>20180718164411_29_evaluated</td>\n",
       "      <td>9.039981</td>\n",
       "    </tr>\n",
       "    <tr>\n",
       "      <th>215</th>\n",
       "      <td>20180718164411_15_evaluated</td>\n",
       "      <td>7.086437</td>\n",
       "    </tr>\n",
       "    <tr>\n",
       "      <th>4</th>\n",
       "      <td>20180807104900_34_evaluated</td>\n",
       "      <td>6.883650</td>\n",
       "    </tr>\n",
       "    <tr>\n",
       "      <th>192</th>\n",
       "      <td>20180709112043_33_evaluated</td>\n",
       "      <td>6.708729</td>\n",
       "    </tr>\n",
       "    <tr>\n",
       "      <th>272</th>\n",
       "      <td>20180801163205_2_evaluated</td>\n",
       "      <td>6.576666</td>\n",
       "    </tr>\n",
       "    <tr>\n",
       "      <th>11</th>\n",
       "      <td>20180801163205_21_evaluated</td>\n",
       "      <td>6.515825</td>\n",
       "    </tr>\n",
       "    <tr>\n",
       "      <th>75</th>\n",
       "      <td>20180718164411_17_evaluated</td>\n",
       "      <td>6.215576</td>\n",
       "    </tr>\n",
       "    <tr>\n",
       "      <th>104</th>\n",
       "      <td>20180801163205_32_evaluated</td>\n",
       "      <td>6.067014</td>\n",
       "    </tr>\n",
       "    <tr>\n",
       "      <th>70</th>\n",
       "      <td>20180709112043_17_evaluated</td>\n",
       "      <td>5.963285</td>\n",
       "    </tr>\n",
       "    <tr>\n",
       "      <th>118</th>\n",
       "      <td>20180801163205_45_evaluated</td>\n",
       "      <td>5.820327</td>\n",
       "    </tr>\n",
       "  </tbody>\n",
       "</table>\n",
       "</div>"
      ],
      "text/plain": [
       "                            name  target_in_vivo_avg_metric\n",
       "128  20180718164411_29_evaluated                   9.039981\n",
       "215  20180718164411_15_evaluated                   7.086437\n",
       "4    20180807104900_34_evaluated                   6.883650\n",
       "192  20180709112043_33_evaluated                   6.708729\n",
       "272   20180801163205_2_evaluated                   6.576666\n",
       "11   20180801163205_21_evaluated                   6.515825\n",
       "75   20180718164411_17_evaluated                   6.215576\n",
       "104  20180801163205_32_evaluated                   6.067014\n",
       "70   20180709112043_17_evaluated                   5.963285\n",
       "118  20180801163205_45_evaluated                   5.820327"
      ]
     },
     "execution_count": 39,
     "metadata": {},
     "output_type": "execute_result"
    }
   ],
   "source": [
    "df.nlargest(10, 'target_in_vivo_avg_metric')[['name', 'target_in_vivo_avg_metric']]"
   ]
  },
  {
   "cell_type": "code",
   "execution_count": 36,
   "metadata": {
    "scrolled": true
   },
   "outputs": [
    {
     "data": {
      "text/plain": [
       "0      5.239776\n",
       "1      1.499737\n",
       "2     -1.765712\n",
       "3      0.583701\n",
       "4      6.883650\n",
       "5      1.879162\n",
       "6      2.112307\n",
       "7     -2.066769\n",
       "8      3.245543\n",
       "9     -1.279515\n",
       "10     5.288404\n",
       "11     6.515825\n",
       "12     0.521485\n",
       "13     1.735871\n",
       "14    -1.965026\n",
       "15     2.056179\n",
       "16     2.978502\n",
       "17     0.739215\n",
       "18     0.627386\n",
       "19     2.359400\n",
       "20     1.256750\n",
       "21    -0.529879\n",
       "22     2.718320\n",
       "23    -0.446419\n",
       "24     1.043813\n",
       "25     3.179905\n",
       "26     2.189681\n",
       "27     1.359465\n",
       "28    -1.500792\n",
       "29     0.897573\n",
       "         ...   \n",
       "256   -0.597867\n",
       "257    1.886367\n",
       "258    3.754626\n",
       "259   -1.469026\n",
       "260    5.695223\n",
       "261    1.848106\n",
       "262    2.173691\n",
       "263    1.174505\n",
       "264    2.922121\n",
       "265    1.741927\n",
       "266    0.826384\n",
       "267    0.091518\n",
       "268    1.113335\n",
       "269    0.955642\n",
       "270    2.019165\n",
       "271    1.297901\n",
       "272    6.576666\n",
       "273    2.398053\n",
       "274    1.299521\n",
       "275   -1.249267\n",
       "276    3.385025\n",
       "277   -1.643845\n",
       "278   -0.070175\n",
       "279    1.937919\n",
       "280   -1.121610\n",
       "281   -0.198787\n",
       "282    1.674319\n",
       "283    2.217253\n",
       "284    3.496193\n",
       "285    1.987262\n",
       "Name: target_in_vivo_avg_metric, Length: 286, dtype: float64"
      ]
     },
     "execution_count": 36,
     "metadata": {},
     "output_type": "execute_result"
    }
   ],
   "source": [
    "df['target_in_vivo_avg_metric']"
   ]
  },
  {
   "cell_type": "markdown",
   "metadata": {},
   "source": [
    "### Calculate speckle_stats derivatives and new metric for in vivo (Target 17)"
   ]
  },
  {
   "cell_type": "code",
   "execution_count": 57,
   "metadata": {},
   "outputs": [],
   "source": [
    "# cr_improvement\n",
    "df.loc[:, 'target_in_vivo_target_17_cr_improvement'] = (df.loc[:, 'target_in_vivo_target_17_cr_dnn'] - df.loc[:, 'target_in_vivo_target_17_cr_das'])/df.loc[:, 'target_in_vivo_target_17_cr_das'].abs()\n"
   ]
  },
  {
   "cell_type": "code",
   "execution_count": 58,
   "metadata": {},
   "outputs": [],
   "source": [
    "# cnr_improvement\n",
    "df.loc[:, 'target_in_vivo_target_17_cnr_improvement'] = (df.loc[:, 'target_in_vivo_target_17_cnr_dnn'] - df.loc[:, 'target_in_vivo_target_17_cnr_das'])/df.loc[:, 'target_in_vivo_target_17_cnr_das'].abs()\n"
   ]
  },
  {
   "cell_type": "code",
   "execution_count": 59,
   "metadata": {},
   "outputs": [],
   "source": [
    "# snr_degredation\n",
    "df.loc[:, 'target_in_vivo_target_17_snr_degredation'] = (df.loc[:, 'target_in_vivo_target_17_snr_dnn'] - df.loc[:, 'target_in_vivo_target_17_snr_das'])/df.loc[:, 'target_in_vivo_target_17_snr_das'].abs()\n"
   ]
  },
  {
   "cell_type": "code",
   "execution_count": 60,
   "metadata": {},
   "outputs": [],
   "source": [
    "# mean_diff_increase\n",
    "df.loc[:, 'target_in_vivo_target_17_mean_diff_das'] = df.loc[:, 'target_in_vivo_target_17_mean_out_das'] - df.loc[:, 'target_in_vivo_target_17_mean_in_das']\n",
    "df.loc[:, 'target_in_vivo_target_17_mean_diff_dnn'] = df.loc[:, 'target_in_vivo_target_17_mean_out_dnn'] - df.loc[:, 'target_in_vivo_target_17_mean_in_dnn']\n",
    "df.loc[:, 'target_in_vivo_target_17_mean_diff_increase'] = (df.loc[:, 'target_in_vivo_target_17_mean_diff_dnn'] - df.loc[:, 'target_in_vivo_target_17_mean_diff_das'])/df.loc[:, 'target_in_vivo_target_17_mean_diff_das'].abs()\n"
   ]
  },
  {
   "cell_type": "code",
   "execution_count": 61,
   "metadata": {},
   "outputs": [],
   "source": [
    "# var_diff_increase\n",
    "df.loc[:, 'target_in_vivo_target_17_var_diff_das'] = df.loc[:, 'target_in_vivo_target_17_var_out_das'] - df.loc[:, 'target_in_vivo_target_17_var_in_das']\n",
    "df.loc[:, 'target_in_vivo_target_17_var_diff_dnn'] = df.loc[:, 'target_in_vivo_target_17_var_out_dnn'] - df.loc[:, 'target_in_vivo_target_17_var_in_dnn']\n",
    "df.loc[:, 'target_in_vivo_target_17_var_diff_increase'] = (df.loc[:, 'target_in_vivo_target_17_var_diff_dnn'] - df.loc[:, 'target_in_vivo_target_17_var_diff_das'])/df.loc[:, 'target_in_vivo_target_17_mean_diff_das'].abs()\n"
   ]
  },
  {
   "cell_type": "code",
   "execution_count": 62,
   "metadata": {},
   "outputs": [],
   "source": [
    "# metric\n",
    "weight_cr = 1.0\n",
    "weight_cnr = 1.0\n",
    "weight_snr = -12.0\n",
    "weight_mean = 0.1\n",
    "weight_var = 0.02\n",
    "df.loc[:, 'target_in_vivo_target_17_metric'] = weight_cr * df.loc[:, 'target_in_vivo_target_17_cr_improvement'] + \\\n",
    "                                         weight_cnr * df.loc[:, 'target_in_vivo_target_17_cnr_improvement'] + \\\n",
    "                                         weight_snr * df.loc[:, 'target_in_vivo_target_17_snr_degredation'] + \\\n",
    "                                         weight_mean * df.loc[:, 'target_in_vivo_target_17_mean_diff_increase'] + \\\n",
    "                                         weight_var * df.loc[:, 'target_in_vivo_target_17_var_diff_increase']"
   ]
  },
  {
   "cell_type": "code",
   "execution_count": 63,
   "metadata": {},
   "outputs": [
    {
     "data": {
      "text/html": [
       "<div>\n",
       "<style scoped>\n",
       "    .dataframe tbody tr th:only-of-type {\n",
       "        vertical-align: middle;\n",
       "    }\n",
       "\n",
       "    .dataframe tbody tr th {\n",
       "        vertical-align: top;\n",
       "    }\n",
       "\n",
       "    .dataframe thead th {\n",
       "        text-align: right;\n",
       "    }\n",
       "</style>\n",
       "<table border=\"1\" class=\"dataframe\">\n",
       "  <thead>\n",
       "    <tr style=\"text-align: right;\">\n",
       "      <th></th>\n",
       "      <th>name</th>\n",
       "      <th>target_in_vivo_target_17_metric</th>\n",
       "    </tr>\n",
       "  </thead>\n",
       "  <tbody>\n",
       "    <tr>\n",
       "      <th>128</th>\n",
       "      <td>20180718164411_29_evaluated</td>\n",
       "      <td>19.121386</td>\n",
       "    </tr>\n",
       "    <tr>\n",
       "      <th>215</th>\n",
       "      <td>20180718164411_15_evaluated</td>\n",
       "      <td>16.518534</td>\n",
       "    </tr>\n",
       "    <tr>\n",
       "      <th>272</th>\n",
       "      <td>20180801163205_2_evaluated</td>\n",
       "      <td>13.585295</td>\n",
       "    </tr>\n",
       "    <tr>\n",
       "      <th>11</th>\n",
       "      <td>20180801163205_21_evaluated</td>\n",
       "      <td>13.185159</td>\n",
       "    </tr>\n",
       "    <tr>\n",
       "      <th>118</th>\n",
       "      <td>20180801163205_45_evaluated</td>\n",
       "      <td>12.146794</td>\n",
       "    </tr>\n",
       "    <tr>\n",
       "      <th>59</th>\n",
       "      <td>20180718164411_1_evaluated</td>\n",
       "      <td>11.687746</td>\n",
       "    </tr>\n",
       "    <tr>\n",
       "      <th>171</th>\n",
       "      <td>20180807104900_41_evaluated</td>\n",
       "      <td>11.219711</td>\n",
       "    </tr>\n",
       "    <tr>\n",
       "      <th>91</th>\n",
       "      <td>20180801163205_39_evaluated</td>\n",
       "      <td>10.859233</td>\n",
       "    </tr>\n",
       "    <tr>\n",
       "      <th>0</th>\n",
       "      <td>20180718164411_37_evaluated</td>\n",
       "      <td>10.122380</td>\n",
       "    </tr>\n",
       "    <tr>\n",
       "      <th>10</th>\n",
       "      <td>20180801163205_7_evaluated</td>\n",
       "      <td>10.053742</td>\n",
       "    </tr>\n",
       "  </tbody>\n",
       "</table>\n",
       "</div>"
      ],
      "text/plain": [
       "                            name  target_in_vivo_target_17_metric\n",
       "128  20180718164411_29_evaluated                        19.121386\n",
       "215  20180718164411_15_evaluated                        16.518534\n",
       "272   20180801163205_2_evaluated                        13.585295\n",
       "11   20180801163205_21_evaluated                        13.185159\n",
       "118  20180801163205_45_evaluated                        12.146794\n",
       "59    20180718164411_1_evaluated                        11.687746\n",
       "171  20180807104900_41_evaluated                        11.219711\n",
       "91   20180801163205_39_evaluated                        10.859233\n",
       "0    20180718164411_37_evaluated                        10.122380\n",
       "10    20180801163205_7_evaluated                        10.053742"
      ]
     },
     "execution_count": 63,
     "metadata": {},
     "output_type": "execute_result"
    }
   ],
   "source": [
    "df.nlargest(10, 'target_in_vivo_target_17_metric')[['name', 'target_in_vivo_target_17_metric']]"
   ]
  },
  {
   "cell_type": "code",
   "execution_count": null,
   "metadata": {},
   "outputs": [],
   "source": []
  }
 ],
 "metadata": {
  "kernelspec": {
   "display_name": "Python 3",
   "language": "python",
   "name": "python3"
  },
  "language_info": {
   "codemirror_mode": {
    "name": "ipython",
    "version": 3
   },
   "file_extension": ".py",
   "mimetype": "text/x-python",
   "name": "python",
   "nbconvert_exporter": "python",
   "pygments_lexer": "ipython3",
   "version": "3.6.6"
  }
 },
 "nbformat": 4,
 "nbformat_minor": 2
}
