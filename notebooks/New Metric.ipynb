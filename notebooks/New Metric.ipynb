{
 "cells": [
  {
   "cell_type": "code",
   "execution_count": 1,
   "metadata": {},
   "outputs": [],
   "source": [
    "%matplotlib inline\n",
    "import matplotlib.pyplot as plt\n",
    "import pandas as pd\n",
    "\n",
    "from analysis_utils import get_df"
   ]
  },
  {
   "cell_type": "code",
   "execution_count": 2,
   "metadata": {},
   "outputs": [
    {
     "name": "stderr",
     "output_type": "stream",
     "text": [
      "/anaconda3/lib/python3.6/site-packages/numpy/core/_methods.py:32: RuntimeWarning: invalid value encountered in reduce\n",
      "  return umr_minimum(a, axis, None, out, keepdims, initial)\n"
     ]
    },
    {
     "name": "stdout",
     "output_type": "stream",
     "text": [
      "before filtering, there are a total of 286 models\n"
     ]
    }
   ],
   "source": [
    "identifier = '*'\n",
    "df = get_df(identifier)\n",
    "print('before filtering, there are a total of', len(df), 'models')"
   ]
  },
  {
   "cell_type": "code",
   "execution_count": 3,
   "metadata": {},
   "outputs": [],
   "source": [
    "df = df.query('target_anechoic_cyst_5mm_avg_cnr_dnn >= target_anechoic_cyst_5mm_avg_cnr_das & \\\n",
    "               target_phantom_anechoic_cyst_2p5mm_avg_cnr_dnn >= target_phantom_anechoic_cyst_2p5mm_avg_cnr_das & \\\n",
    "               target_in_vivo_avg_cnr_dnn >= target_in_vivo_avg_cnr_das')"
   ]
  },
  {
   "cell_type": "markdown",
   "metadata": {},
   "source": [
    "### Calculate speckle_stats derivatives and new metric for in vivo (average across target)"
   ]
  },
  {
   "cell_type": "code",
   "execution_count": 4,
   "metadata": {},
   "outputs": [
    {
     "data": {
      "text/plain": [
       "['input_size',\n",
       " 'output_size',\n",
       " 'batch_norm',\n",
       " 'use_pooling',\n",
       " 'pooling_method',\n",
       " 'conv1_kernel_width',\n",
       " 'conv1_num_kernels',\n",
       " 'conv1_stride',\n",
       " 'conv1_dropout',\n",
       " 'pool1_kernel_size',\n",
       " 'pool1_stride',\n",
       " 'conv2_kernel_size',\n",
       " 'conv2_num_kernels',\n",
       " 'conv2_stride',\n",
       " 'conv2_dropout',\n",
       " 'pool2_kernel_size',\n",
       " 'pool2_stride',\n",
       " 'fcs_hidden_size',\n",
       " 'fcs_num_hidden_layers',\n",
       " 'fcs_dropout',\n",
       " 'cost_function',\n",
       " 'optimizer',\n",
       " 'learning_rate',\n",
       " 'momentum',\n",
       " 'data_is_target',\n",
       " 'data_train',\n",
       " 'data_val',\n",
       " 'batch_size',\n",
       " 'data_noise_gaussian',\n",
       " 'weight_decay',\n",
       " 'patience',\n",
       " 'cuda',\n",
       " 'save_initial',\n",
       " 'k',\n",
       " 'save_dir',\n",
       " 'name',\n",
       " 'loss_val_k_3',\n",
       " 'loss_val_k_4',\n",
       " 'loss_val_k_5',\n",
       " 'target_in_vivo_target_17_cr_das',\n",
       " 'target_in_vivo_target_17_cr_dnn',\n",
       " 'target_in_vivo_target_17_cnr_das',\n",
       " 'target_in_vivo_target_17_cnr_dnn',\n",
       " 'target_in_vivo_target_17_snr_das',\n",
       " 'target_in_vivo_target_17_snr_dnn',\n",
       " 'target_in_vivo_target_17_mean_in_das',\n",
       " 'target_in_vivo_target_17_mean_in_dnn',\n",
       " 'target_in_vivo_target_17_mean_out_das',\n",
       " 'target_in_vivo_target_17_mean_out_dnn',\n",
       " 'target_in_vivo_target_17_var_in_das',\n",
       " 'target_in_vivo_target_17_var_in_dnn',\n",
       " 'target_in_vivo_target_17_var_out_das',\n",
       " 'target_in_vivo_target_17_var_out_dnn',\n",
       " 'target_in_vivo_target_19_cr_das',\n",
       " 'target_in_vivo_target_19_cr_dnn',\n",
       " 'target_in_vivo_target_19_cnr_das',\n",
       " 'target_in_vivo_target_19_cnr_dnn',\n",
       " 'target_in_vivo_target_19_snr_das',\n",
       " 'target_in_vivo_target_19_snr_dnn',\n",
       " 'target_in_vivo_target_19_mean_in_das',\n",
       " 'target_in_vivo_target_19_mean_in_dnn',\n",
       " 'target_in_vivo_target_19_mean_out_das',\n",
       " 'target_in_vivo_target_19_mean_out_dnn',\n",
       " 'target_in_vivo_target_19_var_in_das',\n",
       " 'target_in_vivo_target_19_var_in_dnn',\n",
       " 'target_in_vivo_target_19_var_out_das',\n",
       " 'target_in_vivo_target_19_var_out_dnn',\n",
       " 'target_in_vivo_avg_cr_das',\n",
       " 'target_in_vivo_avg_cr_dnn',\n",
       " 'target_in_vivo_avg_cnr_das',\n",
       " 'target_in_vivo_avg_cnr_dnn',\n",
       " 'target_in_vivo_avg_snr_das',\n",
       " 'target_in_vivo_avg_snr_dnn',\n",
       " 'target_in_vivo_avg_mean_in_das',\n",
       " 'target_in_vivo_avg_mean_in_dnn',\n",
       " 'target_in_vivo_avg_mean_out_das',\n",
       " 'target_in_vivo_avg_mean_out_dnn',\n",
       " 'target_in_vivo_avg_var_in_das',\n",
       " 'target_in_vivo_avg_var_in_dnn',\n",
       " 'target_in_vivo_avg_var_out_das',\n",
       " 'target_in_vivo_avg_var_out_dnn',\n",
       " 'target_anechoic_cyst_5mm_target_5_SNR_10dB_cr_das',\n",
       " 'target_anechoic_cyst_5mm_target_5_SNR_10dB_cr_dnn',\n",
       " 'target_anechoic_cyst_5mm_target_5_SNR_10dB_cnr_das',\n",
       " 'target_anechoic_cyst_5mm_target_5_SNR_10dB_cnr_dnn',\n",
       " 'target_anechoic_cyst_5mm_target_5_SNR_10dB_snr_das',\n",
       " 'target_anechoic_cyst_5mm_target_5_SNR_10dB_snr_dnn',\n",
       " 'target_anechoic_cyst_5mm_target_5_SNR_10dB_mean_in_das',\n",
       " 'target_anechoic_cyst_5mm_target_5_SNR_10dB_mean_in_dnn',\n",
       " 'target_anechoic_cyst_5mm_target_5_SNR_10dB_mean_out_das',\n",
       " 'target_anechoic_cyst_5mm_target_5_SNR_10dB_mean_out_dnn',\n",
       " 'target_anechoic_cyst_5mm_target_5_SNR_10dB_var_in_das',\n",
       " 'target_anechoic_cyst_5mm_target_5_SNR_10dB_var_in_dnn',\n",
       " 'target_anechoic_cyst_5mm_target_5_SNR_10dB_var_out_das',\n",
       " 'target_anechoic_cyst_5mm_target_5_SNR_10dB_var_out_dnn',\n",
       " 'target_anechoic_cyst_5mm_target_4_SNR_10dB_cr_das',\n",
       " 'target_anechoic_cyst_5mm_target_4_SNR_10dB_cr_dnn',\n",
       " 'target_anechoic_cyst_5mm_target_4_SNR_10dB_cnr_das',\n",
       " 'target_anechoic_cyst_5mm_target_4_SNR_10dB_cnr_dnn',\n",
       " 'target_anechoic_cyst_5mm_target_4_SNR_10dB_snr_das',\n",
       " 'target_anechoic_cyst_5mm_target_4_SNR_10dB_snr_dnn',\n",
       " 'target_anechoic_cyst_5mm_target_4_SNR_10dB_mean_in_das',\n",
       " 'target_anechoic_cyst_5mm_target_4_SNR_10dB_mean_in_dnn',\n",
       " 'target_anechoic_cyst_5mm_target_4_SNR_10dB_mean_out_das',\n",
       " 'target_anechoic_cyst_5mm_target_4_SNR_10dB_mean_out_dnn',\n",
       " 'target_anechoic_cyst_5mm_target_4_SNR_10dB_var_in_das',\n",
       " 'target_anechoic_cyst_5mm_target_4_SNR_10dB_var_in_dnn',\n",
       " 'target_anechoic_cyst_5mm_target_4_SNR_10dB_var_out_das',\n",
       " 'target_anechoic_cyst_5mm_target_4_SNR_10dB_var_out_dnn',\n",
       " 'target_anechoic_cyst_5mm_target_2_SNR_10dB_cr_das',\n",
       " 'target_anechoic_cyst_5mm_target_2_SNR_10dB_cr_dnn',\n",
       " 'target_anechoic_cyst_5mm_target_2_SNR_10dB_cnr_das',\n",
       " 'target_anechoic_cyst_5mm_target_2_SNR_10dB_cnr_dnn',\n",
       " 'target_anechoic_cyst_5mm_target_2_SNR_10dB_snr_das',\n",
       " 'target_anechoic_cyst_5mm_target_2_SNR_10dB_snr_dnn',\n",
       " 'target_anechoic_cyst_5mm_target_2_SNR_10dB_mean_in_das',\n",
       " 'target_anechoic_cyst_5mm_target_2_SNR_10dB_mean_in_dnn',\n",
       " 'target_anechoic_cyst_5mm_target_2_SNR_10dB_mean_out_das',\n",
       " 'target_anechoic_cyst_5mm_target_2_SNR_10dB_mean_out_dnn',\n",
       " 'target_anechoic_cyst_5mm_target_2_SNR_10dB_var_in_das',\n",
       " 'target_anechoic_cyst_5mm_target_2_SNR_10dB_var_in_dnn',\n",
       " 'target_anechoic_cyst_5mm_target_2_SNR_10dB_var_out_das',\n",
       " 'target_anechoic_cyst_5mm_target_2_SNR_10dB_var_out_dnn',\n",
       " 'target_anechoic_cyst_5mm_target_3_SNR_10dB_cr_das',\n",
       " 'target_anechoic_cyst_5mm_target_3_SNR_10dB_cr_dnn',\n",
       " 'target_anechoic_cyst_5mm_target_3_SNR_10dB_cnr_das',\n",
       " 'target_anechoic_cyst_5mm_target_3_SNR_10dB_cnr_dnn',\n",
       " 'target_anechoic_cyst_5mm_target_3_SNR_10dB_snr_das',\n",
       " 'target_anechoic_cyst_5mm_target_3_SNR_10dB_snr_dnn',\n",
       " 'target_anechoic_cyst_5mm_target_3_SNR_10dB_mean_in_das',\n",
       " 'target_anechoic_cyst_5mm_target_3_SNR_10dB_mean_in_dnn',\n",
       " 'target_anechoic_cyst_5mm_target_3_SNR_10dB_mean_out_das',\n",
       " 'target_anechoic_cyst_5mm_target_3_SNR_10dB_mean_out_dnn',\n",
       " 'target_anechoic_cyst_5mm_target_3_SNR_10dB_var_in_das',\n",
       " 'target_anechoic_cyst_5mm_target_3_SNR_10dB_var_in_dnn',\n",
       " 'target_anechoic_cyst_5mm_target_3_SNR_10dB_var_out_das',\n",
       " 'target_anechoic_cyst_5mm_target_3_SNR_10dB_var_out_dnn',\n",
       " 'target_anechoic_cyst_5mm_target_1_SNR_10dB_cr_das',\n",
       " 'target_anechoic_cyst_5mm_target_1_SNR_10dB_cr_dnn',\n",
       " 'target_anechoic_cyst_5mm_target_1_SNR_10dB_cnr_das',\n",
       " 'target_anechoic_cyst_5mm_target_1_SNR_10dB_cnr_dnn',\n",
       " 'target_anechoic_cyst_5mm_target_1_SNR_10dB_snr_das',\n",
       " 'target_anechoic_cyst_5mm_target_1_SNR_10dB_snr_dnn',\n",
       " 'target_anechoic_cyst_5mm_target_1_SNR_10dB_mean_in_das',\n",
       " 'target_anechoic_cyst_5mm_target_1_SNR_10dB_mean_in_dnn',\n",
       " 'target_anechoic_cyst_5mm_target_1_SNR_10dB_mean_out_das',\n",
       " 'target_anechoic_cyst_5mm_target_1_SNR_10dB_mean_out_dnn',\n",
       " 'target_anechoic_cyst_5mm_target_1_SNR_10dB_var_in_das',\n",
       " 'target_anechoic_cyst_5mm_target_1_SNR_10dB_var_in_dnn',\n",
       " 'target_anechoic_cyst_5mm_target_1_SNR_10dB_var_out_das',\n",
       " 'target_anechoic_cyst_5mm_target_1_SNR_10dB_var_out_dnn',\n",
       " 'target_anechoic_cyst_5mm_avg_cr_das',\n",
       " 'target_anechoic_cyst_5mm_avg_cr_dnn',\n",
       " 'target_anechoic_cyst_5mm_avg_cnr_das',\n",
       " 'target_anechoic_cyst_5mm_avg_cnr_dnn',\n",
       " 'target_anechoic_cyst_5mm_avg_snr_das',\n",
       " 'target_anechoic_cyst_5mm_avg_snr_dnn',\n",
       " 'target_anechoic_cyst_5mm_avg_mean_in_das',\n",
       " 'target_anechoic_cyst_5mm_avg_mean_in_dnn',\n",
       " 'target_anechoic_cyst_5mm_avg_mean_out_das',\n",
       " 'target_anechoic_cyst_5mm_avg_mean_out_dnn',\n",
       " 'target_anechoic_cyst_5mm_avg_var_in_das',\n",
       " 'target_anechoic_cyst_5mm_avg_var_in_dnn',\n",
       " 'target_anechoic_cyst_5mm_avg_var_out_das',\n",
       " 'target_anechoic_cyst_5mm_avg_var_out_dnn',\n",
       " 'target_phantom_anechoic_cyst_2p5mm_target_5_cr_das',\n",
       " 'target_phantom_anechoic_cyst_2p5mm_target_5_cr_dnn',\n",
       " 'target_phantom_anechoic_cyst_2p5mm_target_5_cnr_das',\n",
       " 'target_phantom_anechoic_cyst_2p5mm_target_5_cnr_dnn',\n",
       " 'target_phantom_anechoic_cyst_2p5mm_target_5_snr_das',\n",
       " 'target_phantom_anechoic_cyst_2p5mm_target_5_snr_dnn',\n",
       " 'target_phantom_anechoic_cyst_2p5mm_target_5_mean_in_das',\n",
       " 'target_phantom_anechoic_cyst_2p5mm_target_5_mean_in_dnn',\n",
       " 'target_phantom_anechoic_cyst_2p5mm_target_5_mean_out_das',\n",
       " 'target_phantom_anechoic_cyst_2p5mm_target_5_mean_out_dnn',\n",
       " 'target_phantom_anechoic_cyst_2p5mm_target_5_var_in_das',\n",
       " 'target_phantom_anechoic_cyst_2p5mm_target_5_var_in_dnn',\n",
       " 'target_phantom_anechoic_cyst_2p5mm_target_5_var_out_das',\n",
       " 'target_phantom_anechoic_cyst_2p5mm_target_5_var_out_dnn',\n",
       " 'target_phantom_anechoic_cyst_2p5mm_target_2_cr_das',\n",
       " 'target_phantom_anechoic_cyst_2p5mm_target_2_cr_dnn',\n",
       " 'target_phantom_anechoic_cyst_2p5mm_target_2_cnr_das',\n",
       " 'target_phantom_anechoic_cyst_2p5mm_target_2_cnr_dnn',\n",
       " 'target_phantom_anechoic_cyst_2p5mm_target_2_snr_das',\n",
       " 'target_phantom_anechoic_cyst_2p5mm_target_2_snr_dnn',\n",
       " 'target_phantom_anechoic_cyst_2p5mm_target_2_mean_in_das',\n",
       " 'target_phantom_anechoic_cyst_2p5mm_target_2_mean_in_dnn',\n",
       " 'target_phantom_anechoic_cyst_2p5mm_target_2_mean_out_das',\n",
       " 'target_phantom_anechoic_cyst_2p5mm_target_2_mean_out_dnn',\n",
       " 'target_phantom_anechoic_cyst_2p5mm_target_2_var_in_das',\n",
       " 'target_phantom_anechoic_cyst_2p5mm_target_2_var_in_dnn',\n",
       " 'target_phantom_anechoic_cyst_2p5mm_target_2_var_out_das',\n",
       " 'target_phantom_anechoic_cyst_2p5mm_target_2_var_out_dnn',\n",
       " 'target_phantom_anechoic_cyst_2p5mm_target_3_cr_das',\n",
       " 'target_phantom_anechoic_cyst_2p5mm_target_3_cr_dnn',\n",
       " 'target_phantom_anechoic_cyst_2p5mm_target_3_cnr_das',\n",
       " 'target_phantom_anechoic_cyst_2p5mm_target_3_cnr_dnn',\n",
       " 'target_phantom_anechoic_cyst_2p5mm_target_3_snr_das',\n",
       " 'target_phantom_anechoic_cyst_2p5mm_target_3_snr_dnn',\n",
       " 'target_phantom_anechoic_cyst_2p5mm_target_3_mean_in_das',\n",
       " 'target_phantom_anechoic_cyst_2p5mm_target_3_mean_in_dnn',\n",
       " 'target_phantom_anechoic_cyst_2p5mm_target_3_mean_out_das',\n",
       " 'target_phantom_anechoic_cyst_2p5mm_target_3_mean_out_dnn',\n",
       " 'target_phantom_anechoic_cyst_2p5mm_target_3_var_in_das',\n",
       " 'target_phantom_anechoic_cyst_2p5mm_target_3_var_in_dnn',\n",
       " 'target_phantom_anechoic_cyst_2p5mm_target_3_var_out_das',\n",
       " 'target_phantom_anechoic_cyst_2p5mm_target_3_var_out_dnn',\n",
       " 'target_phantom_anechoic_cyst_2p5mm_target_4_cr_das',\n",
       " 'target_phantom_anechoic_cyst_2p5mm_target_4_cr_dnn',\n",
       " 'target_phantom_anechoic_cyst_2p5mm_target_4_cnr_das',\n",
       " 'target_phantom_anechoic_cyst_2p5mm_target_4_cnr_dnn',\n",
       " 'target_phantom_anechoic_cyst_2p5mm_target_4_snr_das',\n",
       " 'target_phantom_anechoic_cyst_2p5mm_target_4_snr_dnn',\n",
       " 'target_phantom_anechoic_cyst_2p5mm_target_4_mean_in_das',\n",
       " 'target_phantom_anechoic_cyst_2p5mm_target_4_mean_in_dnn',\n",
       " 'target_phantom_anechoic_cyst_2p5mm_target_4_mean_out_das',\n",
       " 'target_phantom_anechoic_cyst_2p5mm_target_4_mean_out_dnn',\n",
       " 'target_phantom_anechoic_cyst_2p5mm_target_4_var_in_das',\n",
       " 'target_phantom_anechoic_cyst_2p5mm_target_4_var_in_dnn',\n",
       " 'target_phantom_anechoic_cyst_2p5mm_target_4_var_out_das',\n",
       " 'target_phantom_anechoic_cyst_2p5mm_target_4_var_out_dnn',\n",
       " 'target_phantom_anechoic_cyst_2p5mm_target_1_cr_das',\n",
       " 'target_phantom_anechoic_cyst_2p5mm_target_1_cr_dnn',\n",
       " 'target_phantom_anechoic_cyst_2p5mm_target_1_cnr_das',\n",
       " 'target_phantom_anechoic_cyst_2p5mm_target_1_cnr_dnn',\n",
       " 'target_phantom_anechoic_cyst_2p5mm_target_1_snr_das',\n",
       " 'target_phantom_anechoic_cyst_2p5mm_target_1_snr_dnn',\n",
       " 'target_phantom_anechoic_cyst_2p5mm_target_1_mean_in_das',\n",
       " 'target_phantom_anechoic_cyst_2p5mm_target_1_mean_in_dnn',\n",
       " 'target_phantom_anechoic_cyst_2p5mm_target_1_mean_out_das',\n",
       " 'target_phantom_anechoic_cyst_2p5mm_target_1_mean_out_dnn',\n",
       " 'target_phantom_anechoic_cyst_2p5mm_target_1_var_in_das',\n",
       " 'target_phantom_anechoic_cyst_2p5mm_target_1_var_in_dnn',\n",
       " 'target_phantom_anechoic_cyst_2p5mm_target_1_var_out_das',\n",
       " 'target_phantom_anechoic_cyst_2p5mm_target_1_var_out_dnn',\n",
       " 'target_phantom_anechoic_cyst_2p5mm_avg_cr_das',\n",
       " 'target_phantom_anechoic_cyst_2p5mm_avg_cr_dnn',\n",
       " 'target_phantom_anechoic_cyst_2p5mm_avg_cnr_das',\n",
       " 'target_phantom_anechoic_cyst_2p5mm_avg_cnr_dnn',\n",
       " 'target_phantom_anechoic_cyst_2p5mm_avg_snr_das',\n",
       " 'target_phantom_anechoic_cyst_2p5mm_avg_snr_dnn',\n",
       " 'target_phantom_anechoic_cyst_2p5mm_avg_mean_in_das',\n",
       " 'target_phantom_anechoic_cyst_2p5mm_avg_mean_in_dnn',\n",
       " 'target_phantom_anechoic_cyst_2p5mm_avg_mean_out_das',\n",
       " 'target_phantom_anechoic_cyst_2p5mm_avg_mean_out_dnn',\n",
       " 'target_phantom_anechoic_cyst_2p5mm_avg_var_in_das',\n",
       " 'target_phantom_anechoic_cyst_2p5mm_avg_var_in_dnn',\n",
       " 'target_phantom_anechoic_cyst_2p5mm_avg_var_out_das',\n",
       " 'target_phantom_anechoic_cyst_2p5mm_avg_var_out_dnn']"
      ]
     },
     "execution_count": 4,
     "metadata": {},
     "output_type": "execute_result"
    }
   ],
   "source": [
    "list(df)"
   ]
  },
  {
   "cell_type": "code",
   "execution_count": 5,
   "metadata": {},
   "outputs": [],
   "source": [
    "# cr_improvement\n",
    "df.loc[:, 'target_in_vivo_avg_cr_improvement'] = (df.loc[:, 'target_in_vivo_avg_cr_dnn'] - df.loc[:, 'target_in_vivo_avg_cr_das'])/df.loc[:, 'target_in_vivo_avg_cr_das'].abs()\n"
   ]
  },
  {
   "cell_type": "code",
   "execution_count": 6,
   "metadata": {},
   "outputs": [
    {
     "data": {
      "text/plain": [
       "Series([], Name: target_in_vivo_avg_cr_das, dtype: float64)"
      ]
     },
     "execution_count": 6,
     "metadata": {},
     "output_type": "execute_result"
    }
   ],
   "source": [
    "# df[df['name'] == '20180709112043_22_evaluated']['target_in_vivo_avg_cr_dnn']\n",
    "df[df['name'] == '20180709112043_22_evaluated']['target_in_vivo_avg_cr_das']\n",
    "# (df[df['name'] == '20180709112043_22_evaluated']['target_in_vivo_avg_cr_dnn'] - df[df['name'] == '20180709112043_22_evaluated']['target_in_vivo_avg_cr_das'])/df[df['name'] == '20180709112043_22_evaluated']['target_in_vivo_avg_cr_das']\n",
    "# df[df['name'] == '20180709112043_22_evaluated']['target_in_vivo_avg_cr_improvement']"
   ]
  },
  {
   "cell_type": "code",
   "execution_count": 7,
   "metadata": {},
   "outputs": [],
   "source": [
    "# cnr_improvement\n",
    "df.loc[:, 'target_in_vivo_avg_cnr_improvement'] = (df.loc[:, 'target_in_vivo_avg_cnr_dnn'] - df.loc[:, 'target_in_vivo_avg_cnr_das'])/df.loc[:, 'target_in_vivo_avg_cnr_das'].abs()\n"
   ]
  },
  {
   "cell_type": "code",
   "execution_count": 8,
   "metadata": {},
   "outputs": [
    {
     "data": {
      "text/plain": [
       "Series([], dtype: float64)"
      ]
     },
     "execution_count": 8,
     "metadata": {},
     "output_type": "execute_result"
    }
   ],
   "source": [
    "# df[df['name'] == '20180709112043_22_evaluated']['target_in_vivo_avg_cr_dnn']\n",
    "# df[df['name'] == '20180709112043_22_evaluated']['target_in_vivo_avg_cr_das']\n",
    "(df[df['name'] == '20180709112043_22_evaluated']['target_in_vivo_avg_cr_dnn'] - df[df['name'] == '20180709112043_22_evaluated']['target_in_vivo_avg_cr_das'])/df[df['name'] == '20180709112043_22_evaluated']['target_in_vivo_avg_cr_das']\n",
    "# df[df['name'] == '20180709112043_22_evaluated']['target_in_vivo_avg_cr_improvement']"
   ]
  },
  {
   "cell_type": "code",
   "execution_count": 9,
   "metadata": {},
   "outputs": [],
   "source": [
    "# snr_degredation\n",
    "df.loc[:, 'target_in_vivo_avg_snr_degredation'] = (df.loc[:, 'target_in_vivo_avg_snr_dnn'] - df.loc[:, 'target_in_vivo_avg_snr_das'])/df.loc[:, 'target_in_vivo_avg_snr_das'].abs()\n"
   ]
  },
  {
   "cell_type": "code",
   "execution_count": 10,
   "metadata": {
    "scrolled": true
   },
   "outputs": [
    {
     "data": {
      "text/plain": [
       "6     -0.046013\n",
       "8     -0.083179\n",
       "10    -0.217298\n",
       "11    -0.283258\n",
       "16    -0.106172\n",
       "20    -0.012212\n",
       "35     0.028265\n",
       "40    -0.068291\n",
       "42    -0.065589\n",
       "47    -0.130384\n",
       "48     0.035735\n",
       "49    -0.030172\n",
       "55    -0.128291\n",
       "59    -0.222702\n",
       "63    -0.067788\n",
       "67    -0.066675\n",
       "68    -0.079841\n",
       "71    -0.058464\n",
       "81    -0.054570\n",
       "84    -0.052874\n",
       "85    -0.067523\n",
       "86    -0.060556\n",
       "91    -0.175815\n",
       "92    -0.059470\n",
       "93    -0.022146\n",
       "94    -0.065960\n",
       "95    -0.017457\n",
       "96    -0.070358\n",
       "99    -0.029377\n",
       "106   -0.066119\n",
       "         ...   \n",
       "179   -0.050967\n",
       "180   -0.060689\n",
       "181   -0.054728\n",
       "182   -0.128344\n",
       "183   -0.050040\n",
       "193   -0.106517\n",
       "198   -0.140980\n",
       "205   -0.060477\n",
       "206   -0.113854\n",
       "211   -0.181325\n",
       "212   -0.078358\n",
       "215   -0.302172\n",
       "216    0.083232\n",
       "220   -0.024742\n",
       "232   -0.064556\n",
       "234   -0.087868\n",
       "235   -0.109483\n",
       "242   -0.065457\n",
       "245   -0.055576\n",
       "249   -0.051338\n",
       "253   -0.036609\n",
       "254   -0.092954\n",
       "255   -0.028768\n",
       "258   -0.114543\n",
       "261   -0.025430\n",
       "264   -0.087311\n",
       "265   -0.040503\n",
       "272   -0.272715\n",
       "276   -0.113987\n",
       "283   -0.069377\n",
       "Name: target_in_vivo_avg_snr_degredation, Length: 78, dtype: float64"
      ]
     },
     "execution_count": 10,
     "metadata": {},
     "output_type": "execute_result"
    }
   ],
   "source": [
    "df['target_in_vivo_avg_snr_degredation']"
   ]
  },
  {
   "cell_type": "code",
   "execution_count": 11,
   "metadata": {},
   "outputs": [],
   "source": [
    "# mean_diff_increase\n",
    "df.loc[:, 'target_in_vivo_avg_mean_diff_das'] = df.loc[:, 'target_in_vivo_avg_mean_out_das'] - df.loc[:, 'target_in_vivo_avg_mean_in_das']\n",
    "df.loc[:, 'target_in_vivo_avg_mean_diff_dnn'] = df.loc[:, 'target_in_vivo_avg_mean_out_dnn'] - df.loc[:, 'target_in_vivo_avg_mean_in_dnn']\n",
    "df.loc[:, 'target_in_vivo_avg_mean_diff_increase'] = (df.loc[:, 'target_in_vivo_avg_mean_diff_dnn'] - df.loc[:, 'target_in_vivo_avg_mean_diff_das'])/df.loc[:, 'target_in_vivo_avg_mean_diff_das'].abs()\n"
   ]
  },
  {
   "cell_type": "code",
   "execution_count": 12,
   "metadata": {},
   "outputs": [
    {
     "data": {
      "text/plain": [
       "Series([], Name: target_in_vivo_avg_mean_diff_dnn, dtype: float64)"
      ]
     },
     "execution_count": 12,
     "metadata": {},
     "output_type": "execute_result"
    }
   ],
   "source": [
    "df[df['name'] == '20180709112043_22_evaluated']['target_in_vivo_avg_mean_diff_dnn']"
   ]
  },
  {
   "cell_type": "code",
   "execution_count": 13,
   "metadata": {},
   "outputs": [],
   "source": [
    "# var_diff_increase\n",
    "df.loc[:, 'target_in_vivo_avg_var_diff_das'] = df.loc[:, 'target_in_vivo_avg_var_out_das'] - df.loc[:, 'target_in_vivo_avg_var_in_das']\n",
    "df.loc[:, 'target_in_vivo_avg_var_diff_dnn'] = df.loc[:, 'target_in_vivo_avg_var_out_dnn'] - df.loc[:, 'target_in_vivo_avg_var_in_dnn']\n",
    "df.loc[:, 'target_in_vivo_avg_var_diff_increase'] = (df.loc[:, 'target_in_vivo_avg_var_diff_dnn'] - df.loc[:, 'target_in_vivo_avg_var_diff_das'])/df.loc[:, 'target_in_vivo_avg_mean_diff_das'].abs()\n"
   ]
  },
  {
   "cell_type": "code",
   "execution_count": 14,
   "metadata": {},
   "outputs": [],
   "source": [
    "# metric\n",
    "weight_cr = 1.0\n",
    "weight_cnr = 1.0\n",
    "weight_snr = -12.0\n",
    "weight_mean = 0.1\n",
    "weight_var = 0.02\n",
    "df.loc[:, 'target_in_vivo_avg_metric'] = weight_cr * df.loc[:, 'target_in_vivo_avg_cr_improvement'] + \\\n",
    "                                         weight_cnr * df.loc[:, 'target_in_vivo_avg_cnr_improvement'] + \\\n",
    "                                         weight_snr * df.loc[:, 'target_in_vivo_avg_snr_degredation'] + \\\n",
    "                                         weight_mean * df.loc[:, 'target_in_vivo_avg_mean_diff_increase'] + \\\n",
    "                                         weight_var * df.loc[:, 'target_in_vivo_avg_var_diff_increase']"
   ]
  },
  {
   "cell_type": "code",
   "execution_count": 15,
   "metadata": {},
   "outputs": [
    {
     "data": {
      "text/html": [
       "<div>\n",
       "<style scoped>\n",
       "    .dataframe tbody tr th:only-of-type {\n",
       "        vertical-align: middle;\n",
       "    }\n",
       "\n",
       "    .dataframe tbody tr th {\n",
       "        vertical-align: top;\n",
       "    }\n",
       "\n",
       "    .dataframe thead th {\n",
       "        text-align: right;\n",
       "    }\n",
       "</style>\n",
       "<table border=\"1\" class=\"dataframe\">\n",
       "  <thead>\n",
       "    <tr style=\"text-align: right;\">\n",
       "      <th></th>\n",
       "      <th>name</th>\n",
       "      <th>target_in_vivo_avg_metric</th>\n",
       "    </tr>\n",
       "  </thead>\n",
       "  <tbody>\n",
       "    <tr>\n",
       "      <th>215</th>\n",
       "      <td>20180718164411_15_evaluated</td>\n",
       "      <td>7.086437</td>\n",
       "    </tr>\n",
       "    <tr>\n",
       "      <th>272</th>\n",
       "      <td>20180801163205_2_evaluated</td>\n",
       "      <td>6.576666</td>\n",
       "    </tr>\n",
       "    <tr>\n",
       "      <th>11</th>\n",
       "      <td>20180801163205_21_evaluated</td>\n",
       "      <td>6.515825</td>\n",
       "    </tr>\n",
       "    <tr>\n",
       "      <th>118</th>\n",
       "      <td>20180801163205_45_evaluated</td>\n",
       "      <td>5.820327</td>\n",
       "    </tr>\n",
       "    <tr>\n",
       "      <th>59</th>\n",
       "      <td>20180718164411_1_evaluated</td>\n",
       "      <td>5.595851</td>\n",
       "    </tr>\n",
       "    <tr>\n",
       "      <th>10</th>\n",
       "      <td>20180801163205_7_evaluated</td>\n",
       "      <td>5.288404</td>\n",
       "    </tr>\n",
       "    <tr>\n",
       "      <th>91</th>\n",
       "      <td>20180801163205_39_evaluated</td>\n",
       "      <td>4.999078</td>\n",
       "    </tr>\n",
       "    <tr>\n",
       "      <th>155</th>\n",
       "      <td>20180718164411_21_evaluated</td>\n",
       "      <td>4.881524</td>\n",
       "    </tr>\n",
       "    <tr>\n",
       "      <th>211</th>\n",
       "      <td>20180718164411_9_evaluated</td>\n",
       "      <td>4.838249</td>\n",
       "    </tr>\n",
       "    <tr>\n",
       "      <th>164</th>\n",
       "      <td>20180718164411_5_evaluated</td>\n",
       "      <td>4.756692</td>\n",
       "    </tr>\n",
       "  </tbody>\n",
       "</table>\n",
       "</div>"
      ],
      "text/plain": [
       "                            name  target_in_vivo_avg_metric\n",
       "215  20180718164411_15_evaluated                   7.086437\n",
       "272   20180801163205_2_evaluated                   6.576666\n",
       "11   20180801163205_21_evaluated                   6.515825\n",
       "118  20180801163205_45_evaluated                   5.820327\n",
       "59    20180718164411_1_evaluated                   5.595851\n",
       "10    20180801163205_7_evaluated                   5.288404\n",
       "91   20180801163205_39_evaluated                   4.999078\n",
       "155  20180718164411_21_evaluated                   4.881524\n",
       "211   20180718164411_9_evaluated                   4.838249\n",
       "164   20180718164411_5_evaluated                   4.756692"
      ]
     },
     "execution_count": 15,
     "metadata": {},
     "output_type": "execute_result"
    }
   ],
   "source": [
    "df.nlargest(10, 'target_in_vivo_avg_metric')[['name', 'target_in_vivo_avg_metric']]"
   ]
  },
  {
   "cell_type": "code",
   "execution_count": 16,
   "metadata": {
    "scrolled": true
   },
   "outputs": [
    {
     "data": {
      "text/plain": [
       "6      2.112307\n",
       "8      3.245543\n",
       "10     5.288404\n",
       "11     6.515825\n",
       "16     2.978502\n",
       "20     1.256750\n",
       "35     1.020012\n",
       "40     2.934235\n",
       "42     2.495148\n",
       "47     3.553905\n",
       "48     0.157683\n",
       "49     1.562042\n",
       "55     3.819412\n",
       "59     5.595851\n",
       "63     2.251870\n",
       "67     2.500017\n",
       "68     1.819094\n",
       "71     2.656495\n",
       "81     2.030885\n",
       "84     1.923263\n",
       "85     2.765306\n",
       "86     2.464056\n",
       "91     4.999078\n",
       "92     2.244155\n",
       "93     1.188776\n",
       "94     2.804409\n",
       "95     2.009540\n",
       "96     2.359049\n",
       "99     1.725809\n",
       "106    2.339275\n",
       "         ...   \n",
       "179    2.283513\n",
       "180    2.203304\n",
       "181    2.437522\n",
       "182    4.092081\n",
       "183    1.970934\n",
       "193    3.012073\n",
       "198    3.868575\n",
       "205    2.323589\n",
       "206    3.593726\n",
       "211    4.838249\n",
       "212    2.583161\n",
       "215    7.086437\n",
       "216   -0.345438\n",
       "220    1.457365\n",
       "232    1.803102\n",
       "234    2.881199\n",
       "235    2.858262\n",
       "242    3.134514\n",
       "245    1.798326\n",
       "249    1.966381\n",
       "253    2.022749\n",
       "254    2.536807\n",
       "255    1.392049\n",
       "258    3.754626\n",
       "261    1.848106\n",
       "264    2.922121\n",
       "265    1.741927\n",
       "272    6.576666\n",
       "276    3.385025\n",
       "283    2.217253\n",
       "Name: target_in_vivo_avg_metric, Length: 78, dtype: float64"
      ]
     },
     "execution_count": 16,
     "metadata": {},
     "output_type": "execute_result"
    }
   ],
   "source": [
    "df['target_in_vivo_avg_metric']"
   ]
  },
  {
   "cell_type": "markdown",
   "metadata": {},
   "source": [
    "### Calculate speckle_stats derivatives and new metric for in vivo (Target 17)"
   ]
  },
  {
   "cell_type": "code",
   "execution_count": 17,
   "metadata": {},
   "outputs": [],
   "source": [
    "# cr_improvement\n",
    "df.loc[:, 'target_in_vivo_target_17_cr_improvement'] = (df.loc[:, 'target_in_vivo_target_17_cr_dnn'] - df.loc[:, 'target_in_vivo_target_17_cr_das'])/df.loc[:, 'target_in_vivo_target_17_cr_das'].abs()\n"
   ]
  },
  {
   "cell_type": "code",
   "execution_count": 18,
   "metadata": {},
   "outputs": [],
   "source": [
    "# cnr_improvement\n",
    "df.loc[:, 'target_in_vivo_target_17_cnr_improvement'] = (df.loc[:, 'target_in_vivo_target_17_cnr_dnn'] - df.loc[:, 'target_in_vivo_target_17_cnr_das'])/df.loc[:, 'target_in_vivo_target_17_cnr_das'].abs()\n"
   ]
  },
  {
   "cell_type": "code",
   "execution_count": 19,
   "metadata": {},
   "outputs": [],
   "source": [
    "# snr_degredation\n",
    "df.loc[:, 'target_in_vivo_target_17_snr_degredation'] = (df.loc[:, 'target_in_vivo_target_17_snr_dnn'] - df.loc[:, 'target_in_vivo_target_17_snr_das'])/df.loc[:, 'target_in_vivo_target_17_snr_das'].abs()\n"
   ]
  },
  {
   "cell_type": "code",
   "execution_count": 20,
   "metadata": {},
   "outputs": [],
   "source": [
    "# mean_diff_increase\n",
    "df.loc[:, 'target_in_vivo_target_17_mean_diff_das'] = df.loc[:, 'target_in_vivo_target_17_mean_out_das'] - df.loc[:, 'target_in_vivo_target_17_mean_in_das']\n",
    "df.loc[:, 'target_in_vivo_target_17_mean_diff_dnn'] = df.loc[:, 'target_in_vivo_target_17_mean_out_dnn'] - df.loc[:, 'target_in_vivo_target_17_mean_in_dnn']\n",
    "df.loc[:, 'target_in_vivo_target_17_mean_diff_increase'] = (df.loc[:, 'target_in_vivo_target_17_mean_diff_dnn'] - df.loc[:, 'target_in_vivo_target_17_mean_diff_das'])/df.loc[:, 'target_in_vivo_target_17_mean_diff_das'].abs()\n"
   ]
  },
  {
   "cell_type": "code",
   "execution_count": 21,
   "metadata": {},
   "outputs": [],
   "source": [
    "# var_diff_increase\n",
    "df.loc[:, 'target_in_vivo_target_17_var_diff_das'] = df.loc[:, 'target_in_vivo_target_17_var_out_das'] - df.loc[:, 'target_in_vivo_target_17_var_in_das']\n",
    "df.loc[:, 'target_in_vivo_target_17_var_diff_dnn'] = df.loc[:, 'target_in_vivo_target_17_var_out_dnn'] - df.loc[:, 'target_in_vivo_target_17_var_in_dnn']\n",
    "df.loc[:, 'target_in_vivo_target_17_var_diff_increase'] = (df.loc[:, 'target_in_vivo_target_17_var_diff_dnn'] - df.loc[:, 'target_in_vivo_target_17_var_diff_das'])/df.loc[:, 'target_in_vivo_target_17_mean_diff_das'].abs()\n"
   ]
  },
  {
   "cell_type": "code",
   "execution_count": 22,
   "metadata": {},
   "outputs": [],
   "source": [
    "# metric\n",
    "weight_cr = 1.0\n",
    "weight_cnr = 1.0\n",
    "weight_snr = -12.0\n",
    "weight_mean = 0.1\n",
    "weight_var = 0.02\n",
    "df.loc[:, 'target_in_vivo_target_17_metric'] = weight_cr * df.loc[:, 'target_in_vivo_target_17_cr_improvement'] + \\\n",
    "                                         weight_cnr * df.loc[:, 'target_in_vivo_target_17_cnr_improvement'] + \\\n",
    "                                         weight_snr * df.loc[:, 'target_in_vivo_target_17_snr_degredation'] + \\\n",
    "                                         weight_mean * df.loc[:, 'target_in_vivo_target_17_mean_diff_increase'] + \\\n",
    "                                         weight_var * df.loc[:, 'target_in_vivo_target_17_var_diff_increase']"
   ]
  },
  {
   "cell_type": "code",
   "execution_count": 23,
   "metadata": {},
   "outputs": [
    {
     "data": {
      "text/html": [
       "<div>\n",
       "<style scoped>\n",
       "    .dataframe tbody tr th:only-of-type {\n",
       "        vertical-align: middle;\n",
       "    }\n",
       "\n",
       "    .dataframe tbody tr th {\n",
       "        vertical-align: top;\n",
       "    }\n",
       "\n",
       "    .dataframe thead th {\n",
       "        text-align: right;\n",
       "    }\n",
       "</style>\n",
       "<table border=\"1\" class=\"dataframe\">\n",
       "  <thead>\n",
       "    <tr style=\"text-align: right;\">\n",
       "      <th></th>\n",
       "      <th>name</th>\n",
       "      <th>target_in_vivo_target_17_metric</th>\n",
       "    </tr>\n",
       "  </thead>\n",
       "  <tbody>\n",
       "    <tr>\n",
       "      <th>215</th>\n",
       "      <td>20180718164411_15_evaluated</td>\n",
       "      <td>16.518534</td>\n",
       "    </tr>\n",
       "    <tr>\n",
       "      <th>272</th>\n",
       "      <td>20180801163205_2_evaluated</td>\n",
       "      <td>13.585295</td>\n",
       "    </tr>\n",
       "    <tr>\n",
       "      <th>11</th>\n",
       "      <td>20180801163205_21_evaluated</td>\n",
       "      <td>13.185159</td>\n",
       "    </tr>\n",
       "    <tr>\n",
       "      <th>118</th>\n",
       "      <td>20180801163205_45_evaluated</td>\n",
       "      <td>12.146794</td>\n",
       "    </tr>\n",
       "    <tr>\n",
       "      <th>59</th>\n",
       "      <td>20180718164411_1_evaluated</td>\n",
       "      <td>11.687746</td>\n",
       "    </tr>\n",
       "    <tr>\n",
       "      <th>91</th>\n",
       "      <td>20180801163205_39_evaluated</td>\n",
       "      <td>10.859233</td>\n",
       "    </tr>\n",
       "    <tr>\n",
       "      <th>10</th>\n",
       "      <td>20180801163205_7_evaluated</td>\n",
       "      <td>10.053742</td>\n",
       "    </tr>\n",
       "    <tr>\n",
       "      <th>211</th>\n",
       "      <td>20180718164411_9_evaluated</td>\n",
       "      <td>9.867418</td>\n",
       "    </tr>\n",
       "    <tr>\n",
       "      <th>164</th>\n",
       "      <td>20180718164411_5_evaluated</td>\n",
       "      <td>9.586710</td>\n",
       "    </tr>\n",
       "    <tr>\n",
       "      <th>132</th>\n",
       "      <td>20180718164411_47_evaluated</td>\n",
       "      <td>9.215593</td>\n",
       "    </tr>\n",
       "  </tbody>\n",
       "</table>\n",
       "</div>"
      ],
      "text/plain": [
       "                            name  target_in_vivo_target_17_metric\n",
       "215  20180718164411_15_evaluated                        16.518534\n",
       "272   20180801163205_2_evaluated                        13.585295\n",
       "11   20180801163205_21_evaluated                        13.185159\n",
       "118  20180801163205_45_evaluated                        12.146794\n",
       "59    20180718164411_1_evaluated                        11.687746\n",
       "91   20180801163205_39_evaluated                        10.859233\n",
       "10    20180801163205_7_evaluated                        10.053742\n",
       "211   20180718164411_9_evaluated                         9.867418\n",
       "164   20180718164411_5_evaluated                         9.586710\n",
       "132  20180718164411_47_evaluated                         9.215593"
      ]
     },
     "execution_count": 23,
     "metadata": {},
     "output_type": "execute_result"
    }
   ],
   "source": [
    "df.nlargest(10, 'target_in_vivo_target_17_metric')[['name', 'target_in_vivo_target_17_metric']]"
   ]
  },
  {
   "cell_type": "code",
   "execution_count": null,
   "metadata": {},
   "outputs": [],
   "source": []
  }
 ],
 "metadata": {
  "kernelspec": {
   "display_name": "Python 3",
   "language": "python",
   "name": "python3"
  },
  "language_info": {
   "codemirror_mode": {
    "name": "ipython",
    "version": 3
   },
   "file_extension": ".py",
   "mimetype": "text/x-python",
   "name": "python",
   "nbconvert_exporter": "python",
   "pygments_lexer": "ipython3",
   "version": "3.6.6"
  }
 },
 "nbformat": 4,
 "nbformat_minor": 2
}
