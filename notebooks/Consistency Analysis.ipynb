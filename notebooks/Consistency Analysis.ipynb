{
 "cells": [
  {
   "cell_type": "code",
   "execution_count": 1,
   "metadata": {
    "scrolled": false
   },
   "outputs": [],
   "source": [
    "%matplotlib inline\n",
    "import matplotlib.pyplot as plt\n",
    "from statistics import mean\n",
    "\n",
    "from analysis_utils import get_df"
   ]
  },
  {
   "cell_type": "code",
   "execution_count": 2,
   "metadata": {
    "scrolled": false
   },
   "outputs": [],
   "source": [
    "identifier = '*'\n",
    "df = get_df(identifier)"
   ]
  },
  {
   "cell_type": "code",
   "execution_count": 3,
   "metadata": {},
   "outputs": [
    {
     "data": {
      "text/plain": [
       "['input_size',\n",
       " 'output_size',\n",
       " 'batch_norm',\n",
       " 'use_pooling',\n",
       " 'pooling_method',\n",
       " 'conv1_kernel_size',\n",
       " 'conv1_num_kernels',\n",
       " 'conv1_stride',\n",
       " 'conv1_dropout',\n",
       " 'pool1_kernel_size',\n",
       " 'pool1_stride',\n",
       " 'conv2_kernel_size',\n",
       " 'conv2_num_kernels',\n",
       " 'conv2_stride',\n",
       " 'conv2_dropout',\n",
       " 'pool2_kernel_size',\n",
       " 'pool2_stride',\n",
       " 'fcs_hidden_size',\n",
       " 'fcs_num_hidden_layers',\n",
       " 'fcs_dropout',\n",
       " 'cost_function',\n",
       " 'optimizer',\n",
       " 'learning_rate',\n",
       " 'data_is_target',\n",
       " 'data_train',\n",
       " 'data_val',\n",
       " 'batch_size',\n",
       " 'data_noise_gaussian',\n",
       " 'weight_decay',\n",
       " 'patience',\n",
       " 'cuda',\n",
       " 'save_initial',\n",
       " 'k',\n",
       " 'save_dir',\n",
       " 'name',\n",
       " 'loss_val_k_3',\n",
       " 'loss_val_k_4',\n",
       " 'loss_val_k_5',\n",
       " 'target_in_vivo_target_17_cnr_das',\n",
       " 'target_in_vivo_target_17_cnr_dnn',\n",
       " 'target_in_vivo_target_19_cnr_das',\n",
       " 'target_in_vivo_target_19_cnr_dnn',\n",
       " 'target_in_vivo_avg_cnr_das',\n",
       " 'target_in_vivo_avg_cnr_dnn',\n",
       " 'target_anechoic_cyst_5mm_target_5_SNR_10dB_cnr_das',\n",
       " 'target_anechoic_cyst_5mm_target_5_SNR_10dB_cnr_dnn',\n",
       " 'target_anechoic_cyst_5mm_target_4_SNR_10dB_cnr_das',\n",
       " 'target_anechoic_cyst_5mm_target_4_SNR_10dB_cnr_dnn',\n",
       " 'target_anechoic_cyst_5mm_target_2_SNR_10dB_cnr_das',\n",
       " 'target_anechoic_cyst_5mm_target_2_SNR_10dB_cnr_dnn',\n",
       " 'target_anechoic_cyst_5mm_target_3_SNR_10dB_cnr_das',\n",
       " 'target_anechoic_cyst_5mm_target_3_SNR_10dB_cnr_dnn',\n",
       " 'target_anechoic_cyst_5mm_target_1_SNR_10dB_cnr_das',\n",
       " 'target_anechoic_cyst_5mm_target_1_SNR_10dB_cnr_dnn',\n",
       " 'target_anechoic_cyst_5mm_avg_cnr_das',\n",
       " 'target_anechoic_cyst_5mm_avg_cnr_dnn',\n",
       " 'target_phantom_anechoic_cyst_2p5mm_target_5_cnr_das',\n",
       " 'target_phantom_anechoic_cyst_2p5mm_target_5_cnr_dnn',\n",
       " 'target_phantom_anechoic_cyst_2p5mm_target_2_cnr_das',\n",
       " 'target_phantom_anechoic_cyst_2p5mm_target_2_cnr_dnn',\n",
       " 'target_phantom_anechoic_cyst_2p5mm_target_3_cnr_das',\n",
       " 'target_phantom_anechoic_cyst_2p5mm_target_3_cnr_dnn',\n",
       " 'target_phantom_anechoic_cyst_2p5mm_target_4_cnr_das',\n",
       " 'target_phantom_anechoic_cyst_2p5mm_target_4_cnr_dnn',\n",
       " 'target_phantom_anechoic_cyst_2p5mm_target_1_cnr_das',\n",
       " 'target_phantom_anechoic_cyst_2p5mm_target_1_cnr_dnn',\n",
       " 'target_phantom_anechoic_cyst_2p5mm_avg_cnr_das',\n",
       " 'target_phantom_anechoic_cyst_2p5mm_avg_cnr_dnn']"
      ]
     },
     "execution_count": 3,
     "metadata": {},
     "output_type": "execute_result"
    }
   ],
   "source": [
    "# df['target_anechoic_cyst_5mm_avg_cnr_dnn']\n",
    "list(df)"
   ]
  },
  {
   "cell_type": "markdown",
   "metadata": {},
   "source": [
    "# (TODO) Filtering: Only Consider "
   ]
  },
  {
   "cell_type": "markdown",
   "metadata": {},
   "source": [
    "# CNR: CNNs vs DNNs vs DAS (simulation)"
   ]
  },
  {
   "cell_type": "code",
   "execution_count": 9,
   "metadata": {},
   "outputs": [
    {
     "data": {
      "image/png": "[encoded data removed]",
      "text/plain": [
       "<Figure size 432x288 with 1 Axes>"
      ]
     },
     "metadata": {},
     "output_type": "display_data"
    }
   ],
   "source": [
    "cnr_das = df.loc[0, 'target_anechoic_cyst_5mm_avg_cnr_das']\n",
    "plt.hist(df['target_anechoic_cyst_5mm_avg_cnr_dnn'], label='dnn')\n",
    "plt.axvline(cnr_das, color='red', linestyle='dashed', linewidth=1, label='das='+str(cnr_das))\n",
    "plt.legend()\n",
    "plt.show()"
   ]
  },
  {
   "cell_type": "markdown",
   "metadata": {},
   "source": [
    "# CNR: Simulation vs Phantom"
   ]
  },
  {
   "cell_type": "code",
   "execution_count": null,
   "metadata": {},
   "outputs": [],
   "source": [
    "# m = 1 # m=1 is CNR\n",
    "\n",
    "# is_labeling_points = True\n",
    "\n",
    "# x = speckle_stats_dnn_cyst[:, m, :].mean(axis=-1)\n",
    "# y = speckle_stats_dnn_phantom[:, m, :].mean(axis=-1)\n",
    "# fig, ax = plt.subplots()\n",
    "# ax.scatter(x, y)\n",
    "\n",
    "# if is_labeling_points == True:\n",
    "#     for i, annotation in enumerate(range(len(x))):\n",
    "#         ax.annotate(annotation, (x[i], y[i]), size=11)\n",
    "\n",
    "\n",
    "# ax.grid()\n",
    "# ax.set_title('Simulation CNR vs Phantom CNR, Same Model (Cluster)')\n",
    "# ax.set_xlabel('Simulation CNR')\n",
    "# ax.set_ylabel('Phantom CNR')\n",
    "# plt.show()\n",
    "\n",
    "df.plot(x='col_name_1', y='col_name_2', style='o')\n"
   ]
  },
  {
   "cell_type": "markdown",
   "metadata": {},
   "source": [
    "# CNR: Simulation vs In vivo"
   ]
  },
  {
   "cell_type": "code",
   "execution_count": null,
   "metadata": {},
   "outputs": [],
   "source": [
    "# Simulation vs In vivo\n",
    "\n",
    "fig, ax = plt.subplots()\n",
    "x = speckle_stats_dnn_cyst[:, m, :].mean(axis=-1)\n",
    "y = speckle_stats_dnn_in_vivo[:, m, :].mean(axis=-1)\n",
    "\n",
    "ax.scatter(x, y)\n",
    "\n",
    "if is_labeling_points == True:\n",
    "    for i, annotation in enumerate(range(len(x))):\n",
    "        ax.annotate(annotation, (x[i],y[i]), size=11)\n",
    "    \n",
    "    \n",
    "ax.grid()\n",
    "ax.set_title('Simulation CNR vs In Vivo CNR, Same Model (Cluster)')\n",
    "ax.set_xlabel('Simulation CNR')\n",
    "ax.set_ylabel('In Vivo CNR')\n",
    "plt.show()"
   ]
  },
  {
   "cell_type": "markdown",
   "metadata": {},
   "source": [
    "# Phantom vs In vivo"
   ]
  },
  {
   "cell_type": "code",
   "execution_count": null,
   "metadata": {},
   "outputs": [],
   "source": [
    "# # Simulation vs In vivo\n",
    "\n",
    "fig, ax = plt.subplots()\n",
    "\n",
    "x = speckle_stats_dnn_phantom[:, m, :].mean(axis=-1)\n",
    "y = speckle_stats_dnn_in_vivo[:, m, :].mean(axis=-1)\n",
    "\n",
    "ax.scatter(x, y)\n",
    "\n",
    "if is_labeling_points == True:\n",
    "    for i, annotation in enumerate(range(len(x))):\n",
    "        ax.annotate(annotation, (x[i],y[i]), size=11)\n",
    "    \n",
    "ax.grid()\n",
    "ax.set_title('Phantom CNR vs In Vivo CNR, Same Model (Cluster)')\n",
    "ax.set_xlabel('Phantom CNR')\n",
    "ax.set_ylabel('In Vivo CNR')\n",
    "plt.show()"
   ]
  },
  {
   "cell_type": "markdown",
   "metadata": {},
   "source": [
    "# CNR vs Hyperparams"
   ]
  },
  {
   "cell_type": "code",
   "execution_count": null,
   "metadata": {},
   "outputs": [],
   "source": [
    "# # Simulated Cyst CNR vs Model Params\n",
    "\n",
    "hyperparams = [ \\\n",
    " 'batch_norm',\n",
    " 'conv1_kernel_size',\n",
    " 'conv1_num_kernels',\n",
    " 'conv1_stride',\n",
    " 'conv1_dropout',\n",
    "               \n",
    " 'pool1_kernel_size',\n",
    " 'pool1_stride',\n",
    "               \n",
    " 'conv2_kernel_size',\n",
    " 'conv2_num_kernels',\n",
    " 'conv2_stride',\n",
    " 'conv2_dropout',\n",
    "               \n",
    " 'pool2_kernel_size',\n",
    " 'pool2_stride',\n",
    "               \n",
    " 'fcs_hidden_size',\n",
    " 'fcs_dropout',\n",
    " 'fcs_num_hidden_layers',\n",
    "               \n",
    "               \n",
    "#  'data_is_target',\n",
    " 'data_noise_gaussian',\n",
    "#  'data_train',\n",
    "#  'data_val',\n",
    "#  'k',\n",
    "#  'patience',\n",
    "#  'save_initial',\n",
    "#  'weight_decay',\n",
    "#  'batch_size',\n",
    " 'loss_val_k_3',\n",
    " 'loss_val_k_4',\n",
    " 'loss_val_k_5',\n",
    "          \n",
    " 'learning_rate',\n",
    " 'optimizer',\n",
    " 'momentum',\n",
    "]\n",
    "\n",
    "\n",
    "\n",
    "# from IPython.core.display import display, HTML\n",
    "# display(HTML(\"<style>.container { width:100% !important; }</style>\"))\n",
    "\n",
    "mean_cnr_cyst = speckle_stats_dnn_cyst[:, 1, :].mean(axis=-1)\n",
    "df['mean_cnr_cyst'] = mean_cnr_cyst\n",
    "\n",
    "mean_cnr_phantom = speckle_stats_dnn_phantom[:, 1, :].mean(axis=-1)\n",
    "df['mean_cnr_phantom'] = mean_cnr_phantom\n",
    "\n",
    "mean_cnr_in_vivo = speckle_stats_dnn_in_vivo[:, 1, :].mean(axis=-1)\n",
    "df['mean_cnr_in_vivo'] = mean_cnr_in_vivo\n"
   ]
  },
  {
   "cell_type": "code",
   "execution_count": null,
   "metadata": {},
   "outputs": [],
   "source": [
    "max_cnr = df['mean_cnr_cyst'].idxmax()\n",
    "print(max_cnr)\n",
    "max_row = df[max_cnr:max_cnr+1]\n",
    "max_row.index = [0]"
   ]
  },
  {
   "cell_type": "code",
   "execution_count": null,
   "metadata": {},
   "outputs": [],
   "source": [
    "def plot_cnr_hyperparameters(df, column_of_interest, ylim=(0, 6), plot_method='scatter'):\n",
    "    number_of_subplots = len(hyperparams)\n",
    "    ncols = 4\n",
    "    nrows = number_of_subplots // ncols \n",
    "    nrows += number_of_subplots % ncols\n",
    "\n",
    "    # Create a Position index\n",
    "    position = range(1, number_of_subplots + 1)\n",
    "\n",
    "    fig = plt.figure(1, figsize=(20, 40))\n",
    "\n",
    "    for i, column in enumerate(df[hyperparams]):\n",
    "        ax = fig.add_subplot(nrows, ncols, position[i])\n",
    "        if plot_method == 'scatter':\n",
    "            ax.scatter(df_dropout[column], df[column_of_interest], color='blue')\n",
    "#             ax.scatter(df_no_dropout[column], df_no_dropout[column_of_interest], color='red')\n",
    "        else:\n",
    "            possible_column_values = df_dropout_and_no_dropout[column].unique()\n",
    "            print('df_dropout[%s] =' % column, df_dropout[column])\n",
    "            print('df_no_dropout[%s] =' % column, df_no_dropout[column])\n",
    "#             ax.bar(['with dropout', 'without dropout'], [df_dropout[column][0], df_no_dropout[column][0]])\n",
    "            ax.bar(possible_column_values, )\n",
    "        ax.set_ylabel('cnr')\n",
    "        ax.set_xlabel(column)\n",
    "        if ylim: ax.set_ylim(*ylim)\n",
    "\n",
    "    plt.show()"
   ]
  },
  {
   "cell_type": "markdown",
   "metadata": {},
   "source": [
    "# Picking High CNR, Low Speckle SNR Models - Simulation"
   ]
  },
  {
   "cell_type": "code",
   "execution_count": null,
   "metadata": {},
   "outputs": [],
   "source": [
    "cnr = 1 # m=1 is CNR\n",
    "speckle_snr = 2\n",
    "das_avg_cnr_simulation = mean([5.09, 4.9138, 5.148, 4.8877, 5.0831])\n",
    "das_avg_speckle_snr_simulation = mean([1.9281, 1.8777, 1.9231, 1.8922, 1.9186])\n",
    "\n",
    "is_labeling_points = True\n",
    "\n",
    "cnr_simulation = speckle_stats_dnn_cyst[:, cnr, :].mean(axis=-1)\n",
    "speckle_snr_simulation = speckle_stats_dnn_cyst[:, speckle_snr, :].mean(axis=-1)\n",
    "\n",
    "fig, ax = plt.subplots()\n",
    "ax.scatter(cnr_simulation, speckle_snr_simulation, color='blue', label='dnn')\n",
    "ax.scatter(das_avg_cnr_simulation, das_avg_speckle_snr_simulation, color='red', label='das')\n",
    "\n",
    "if is_labeling_points == True:\n",
    "    for i, annotation in enumerate(range(len(cnr_simulation))):\n",
    "        ax.annotate(annotation, (cnr_simulation[i], speckle_snr_simulation[i]), size=11)\n",
    "\n",
    "\n",
    "ax.legend()    \n",
    "ax.grid()\n",
    "ax.set_title('CNR vs Speckle SNR - Simulation')\n",
    "ax.set_xlabel('cnr')\n",
    "ax.set_ylabel('speckle snr')\n",
    "plt.show()"
   ]
  },
  {
   "cell_type": "markdown",
   "metadata": {},
   "source": [
    "# Picking High CNR, Low Speckle SNR Models - Phantom"
   ]
  },
  {
   "cell_type": "code",
   "execution_count": null,
   "metadata": {},
   "outputs": [],
   "source": [
    "cnr = 1 # m=1 is CNR\n",
    "speckle_snr = 2\n",
    "das_avg_cnr_phantom = mean([4.3994, 3.7869, 4.5012, 4.7083, 3.804])\n",
    "das_avg_speckle_snr_phantom = mean([1.9298, 1.8478, 1.9997, 2.0478, 1.8886])\n",
    "\n",
    "is_labeling_points = True\n",
    "\n",
    "cnr_phantom = speckle_stats_dnn_phantom[:, cnr, :].mean(axis=-1)\n",
    "speckle_snr_phantom = speckle_stats_dnn_phantom[:, speckle_snr, :].mean(axis=-1)\n",
    "\n",
    "fig, ax = plt.subplots()\n",
    "ax.scatter(cnr_phantom, speckle_snr_phantom, color='blue', label='dnn')\n",
    "ax.scatter(das_avg_cnr_phantom, das_avg_speckle_snr_phantom, color='red', label='das')\n",
    "\n",
    "if is_labeling_points == True:\n",
    "    for i, annotation in enumerate(range(len(cnr_phantom))):\n",
    "        ax.annotate(annotation, (cnr_phantom[i], speckle_snr_phantom[i]), size=11)\n",
    "\n",
    "\n",
    "ax.legend()    \n",
    "ax.grid()\n",
    "ax.set_title('CNR vs Speckle SNR - Phantom')\n",
    "ax.set_xlabel('cnr')\n",
    "ax.set_ylabel('speckle snr')\n",
    "plt.show()"
   ]
  },
  {
   "cell_type": "markdown",
   "metadata": {},
   "source": [
    "# Picking High CNR, Low Speckle SNR Models - In Vivo"
   ]
  },
  {
   "cell_type": "code",
   "execution_count": null,
   "metadata": {
    "scrolled": false
   },
   "outputs": [],
   "source": [
    "cnr = 1 # m=1 is CNR\n",
    "speckle_snr = 2\n",
    "das_avg_cnr_in_vivo = mean([-14.982, 4.2585])\n",
    "das_avg_speckle_snr_in_vivo = mean([1.8672, 1.9078])\n",
    "\n",
    "is_labeling_points = True\n",
    "\n",
    "cnr_in_vivo = speckle_stats_dnn_in_vivo[:, cnr, :].mean(axis=-1)\n",
    "speckle_snr_in_vivo = speckle_stats_dnn_in_vivo[:, speckle_snr, :].mean(axis=-1)\n",
    "\n",
    "fig, ax = plt.subplots()\n",
    "ax.scatter(cnr_in_vivo, speckle_snr_in_vivo, color='blue', label='dnn')\n",
    "ax.scatter(das_avg_cnr_in_vivo, das_avg_speckle_snr_in_vivo, color='red', label='das')\n",
    "\n",
    "if is_labeling_points == True:\n",
    "    for i, annotation in enumerate(range(len(cnr_in_vivo))):\n",
    "        ax.annotate(annotation, (cnr_in_vivo[i], speckle_snr_in_vivo[i]), size=11)\n",
    "\n",
    "\n",
    "ax.legend()    \n",
    "ax.grid()\n",
    "ax.set_title('CNR vs Speckle SNR - In Vivo')\n",
    "ax.set_xlabel('cnr')\n",
    "ax.set_ylabel('speckle snr')\n",
    "plt.show()"
   ]
  },
  {
   "cell_type": "markdown",
   "metadata": {},
   "source": [
    "# Picking Models With Better CNR, Lower Speckle SNR than DAS"
   ]
  },
  {
   "cell_type": "code",
   "execution_count": null,
   "metadata": {},
   "outputs": [],
   "source": [
    "speckle_snr_tolerance = 0.1\n",
    "\n",
    "all_three = [index for index, (s_cnr, s_speckle, p_cnr, p_speckle, i_cnr, i_speckle) in enumerate(zip(cnr_simulation, speckle_snr_simulation, cnr_phantom, speckle_snr_phantom, cnr_in_vivo, speckle_snr_in_vivo))\n",
    "    if s_cnr > das_avg_cnr_simulation and s_speckle > das_avg_speckle_snr_simulation - speckle_snr_tolerance and s_speckle < das_avg_speckle_snr_simulation + speckle_snr_tolerance\n",
    "        and p_cnr > das_avg_cnr_phantom and p_speckle > das_avg_speckle_snr_phantom - speckle_snr_tolerance and p_speckle < das_avg_speckle_snr_phantom + speckle_snr_tolerance\n",
    "        and i_cnr > das_avg_cnr_in_vivo and i_speckle > das_avg_speckle_snr_in_vivo - speckle_snr_tolerance and i_speckle < das_avg_speckle_snr_in_vivo + speckle_snr_tolerance\n",
    "]\n",
    "\n",
    "consistent = [index for index, (s_cnr, s_speckle, p_cnr, p_speckle, i_cnr, i_speckle) in enumerate(zip(cnr_simulation, speckle_snr_simulation, cnr_phantom, speckle_snr_phantom, cnr_in_vivo, speckle_snr_in_vivo))\n",
    "    if s_cnr > das_avg_cnr_simulation and s_speckle < das_avg_speckle_snr_simulation + speckle_snr_tolerance\n",
    "        and p_cnr > das_avg_cnr_phantom and p_speckle < das_avg_speckle_snr_phantom + speckle_snr_tolerance\n",
    "        and i_cnr > das_avg_cnr_in_vivo and i_speckle < das_avg_speckle_snr_in_vivo + speckle_snr_tolerance\n",
    "]"
   ]
  },
  {
   "cell_type": "code",
   "execution_count": null,
   "metadata": {
    "scrolled": true
   },
   "outputs": [],
   "source": [
    "df.iloc[all_three]['name']"
   ]
  },
  {
   "cell_type": "markdown",
   "metadata": {},
   "source": [
    "# 3. Consistent Models Only"
   ]
  },
  {
   "cell_type": "code",
   "execution_count": null,
   "metadata": {},
   "outputs": [],
   "source": [
    "cnr = 1 # m=1 is CNR\n",
    "speckle_snr = 2\n",
    "das_avg_cnr_in_vivo = mean([-14.982, 4.2585])\n",
    "das_avg_speckle_snr_in_vivo = mean([1.8672, 1.9078])\n",
    "\n",
    "is_labeling_points = True\n",
    "\n",
    "cnr_in_vivo = speckle_stats_dnn_in_vivo[:, cnr, :].mean(axis=-1)\n",
    "speckle_snr_in_vivo = speckle_stats_dnn_in_vivo[:, speckle_snr, :].mean(axis=-1)\n",
    "\n",
    "fig, ax = plt.subplots()\n",
    "ax.scatter(cnr_in_vivo, speckle_snr_in_vivo, color='blue', label='dnn')\n",
    "ax.scatter(das_avg_cnr_in_vivo, das_avg_speckle_snr_in_vivo, color='red', label='das')\n",
    "\n",
    "if is_labeling_points == True:\n",
    "    for i, annotation in enumerate(range(len(cnr_in_vivo))):\n",
    "        ax.annotate(annotation, (cnr_in_vivo[i], speckle_snr_in_vivo[i]), size=11)\n",
    "\n",
    "\n",
    "ax.legend()    \n",
    "ax.grid()\n",
    "ax.set_title('CNR vs Speckle SNR - In Vivo')\n",
    "ax.set_xlabel('cnr')\n",
    "ax.set_ylabel('speckle snr')\n",
    "plt.show()"
   ]
  },
  {
   "cell_type": "code",
   "execution_count": null,
   "metadata": {},
   "outputs": [],
   "source": [
    "df.iloc[[56]]['name']"
   ]
  },
  {
   "cell_type": "code",
   "execution_count": null,
   "metadata": {},
   "outputs": [],
   "source": [
    "df.iloc[[41]]['name'] # Use this for in vivo"
   ]
  },
  {
   "cell_type": "code",
   "execution_count": null,
   "metadata": {},
   "outputs": [],
   "source": [
    "df.iloc[[2]]['name']"
   ]
  },
  {
   "cell_type": "code",
   "execution_count": null,
   "metadata": {},
   "outputs": [],
   "source": [
    "df.iloc[[39]]['name']"
   ]
  },
  {
   "cell_type": "code",
   "execution_count": null,
   "metadata": {},
   "outputs": [],
   "source": [
    "cnr_phantom[2]"
   ]
  },
  {
   "cell_type": "code",
   "execution_count": null,
   "metadata": {},
   "outputs": [],
   "source": [
    "import matplotlib.image as mpimg\n",
    "import os\n",
    "\n",
    "model_name = '20180705164352_21_evaluated'\n",
    "model_folder = os.path.join('..', 'DNNs', model_name)\n",
    "\n",
    "def inspect_by_name(model_name):\n",
    "    f, axes = plt.subplots(1,2)\n",
    "    plt.axis('off')\n",
    "    \n",
    "    img = mpimg.imread(os.path.join(model_folder, 'scan_batteries', 'target_in_vivo', 'target_17', 'das.png'))\n",
    "    imgplot = axes[0].imshow(img)\n",
    "    \n",
    "    \n",
    "    img = mpimg.imread(os.path.join(model_folder, 'scan_batteries', 'target_in_vivo', 'target_17', 'dnn.png'))\n",
    "    imgplot = axes[1].imshow(img)\n",
    "    \n",
    "    f, axes = plt.subplots(1,2)\n",
    "    \n",
    "    img = mpimg.imread(os.path.join(model_folder, 'scan_batteries', 'target_in_vivo', 'target_19', 'das.png'))\n",
    "    imgplot = axes[0].imshow(img)\n",
    "    axes[0]\n",
    "    \n",
    "    img = mpimg.imread(os.path.join(model_folder, 'scan_batteries', 'target_in_vivo', 'target_19', 'dnn.png'))\n",
    "    imgplot = axes[1].imshow(img)\n",
    "    \n",
    "    plt.subplots_adjust(wspace=0, hspace=0)\n",
    "\n",
    "    \n",
    "    plt.show()\n",
    "    "
   ]
  },
  {
   "cell_type": "code",
   "execution_count": null,
   "metadata": {},
   "outputs": [],
   "source": [
    "inspect_by_name(model_name)"
   ]
  },
  {
   "cell_type": "code",
   "execution_count": null,
   "metadata": {},
   "outputs": [],
   "source": []
  }
 ],
 "metadata": {
  "kernel_info": {
   "name": "python3"
  },
  "kernelspec": {
   "display_name": "Python 3",
   "language": "python",
   "name": "python3"
  },
  "language_info": {
   "codemirror_mode": {
    "name": "ipython",
    "version": 3
   },
   "file_extension": ".py",
   "mimetype": "text/x-python",
   "name": "python",
   "nbconvert_exporter": "python",
   "pygments_lexer": "ipython3",
   "version": "3.6.6"
  },
  "nteract": {
   "version": "0.9.1"
  }
 },
 "nbformat": 4,
 "nbformat_minor": 2
}
