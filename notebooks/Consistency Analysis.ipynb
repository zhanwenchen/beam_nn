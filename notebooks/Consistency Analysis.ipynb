{
 "cells": [
  {
   "cell_type": "code",
   "execution_count": 1,
   "metadata": {
    "scrolled": false
   },
   "outputs": [],
   "source": [
    "%matplotlib notebook\n",
    "import matplotlib.pyplot as plt\n",
    "from statistics import mean\n",
    "\n",
    "from analysis_utils import get_df"
   ]
  },
  {
   "cell_type": "code",
   "execution_count": 2,
   "metadata": {
    "scrolled": false
   },
   "outputs": [],
   "source": [
    "identifier = '*'\n",
    "df = get_df(identifier)\n",
    "\n",
    "# Load data from all three experiments\n",
    "# 1. Simulated Anechoic cysts\n",
    "# scan_battery_name_cyst = 'target_anechoic_cyst_5mm'\n",
    "# target_suffix_cyst = '_SNR_10dB'\n",
    "# target_num_list_cyst = range(1, 6)\n",
    "# speckle_stats_dnn_cyst, speckle_stats_das_cyst = get_speckle_stats_dnn_and_das(scan_battery_name_cyst, target_num_list_cyst, target_suffix_cyst, identifier)\n",
    "\n",
    "\n",
    "# 2. Phantom cyst\n",
    "# scan_battery_name_phantom = 'target_phantom_anechoic_cyst_2p5mm'\n",
    "# target_suffix_phantom = ''\n",
    "# target_num_list_phantom = range(1, 6)\n",
    "# speckle_stats_dnn_phantom, speckle_stats_das_phantom = get_speckle_stats_dnn_and_das(scan_battery_name_phantom, target_num_list_phantom, target_suffix_phantom, identifier)\n",
    "\n",
    "\n",
    "# # 3. In vivo\n",
    "# scan_battery_name_in_vivo = 'target_in_vivo'\n",
    "# target_suffix_in_vivo = ''\n",
    "# target_num_list_in_vivo = [17, 19]\n",
    "# speckle_stats_dnn_in_vivo, speckle_stats_das_in_vivo = get_speckle_stats_dnn_and_das(scan_battery_name_in_vivo, target_num_list_in_vivo, target_suffix_in_vivo, identifier)\n"
   ]
  },
  {
   "cell_type": "code",
   "execution_count": 6,
   "metadata": {},
   "outputs": [
    {
     "data": {
      "text/plain": [
       "0      1.759440\n",
       "1      1.773200\n",
       "2      1.555840\n",
       "3      2.202860\n",
       "4      1.462100\n",
       "5      1.835840\n",
       "6      0.609716\n",
       "7      1.849980\n",
       "8      1.600140\n",
       "9      1.721540\n",
       "10     1.813440\n",
       "11     1.855840\n",
       "12     1.823980\n",
       "13     1.835240\n",
       "14     1.495680\n",
       "15     1.866380\n",
       "16     1.841780\n",
       "17     1.831120\n",
       "18     1.858360\n",
       "19     1.688340\n",
       "20     1.816360\n",
       "21     1.815660\n",
       "22     1.862900\n",
       "23     1.614220\n",
       "24     1.835800\n",
       "25     1.815200\n",
       "26     1.786640\n",
       "27     1.869940\n",
       "28     1.799240\n",
       "29     1.857460\n",
       "         ...   \n",
       "114    1.869700\n",
       "115    1.661140\n",
       "116    1.405880\n",
       "117    1.857600\n",
       "118    1.669600\n",
       "119    1.863540\n",
       "120    1.821060\n",
       "121    1.517840\n",
       "122    1.863740\n",
       "123    1.854280\n",
       "124    1.847780\n",
       "125    1.875180\n",
       "126    1.870340\n",
       "127    2.124420\n",
       "128    1.743700\n",
       "129    1.845920\n",
       "130    1.872760\n",
       "131    1.855340\n",
       "132    1.798100\n",
       "133    1.774440\n",
       "134    1.355960\n",
       "135    1.266280\n",
       "136    1.812700\n",
       "137    1.856000\n",
       "138    1.866800\n",
       "139    2.073640\n",
       "140    1.835600\n",
       "141    1.693600\n",
       "142    1.850600\n",
       "143    1.826100\n",
       "Name: target_anechoic_cyst_5mm_avg_cnr_dnn, Length: 144, dtype: float64"
      ]
     },
     "execution_count": 6,
     "metadata": {},
     "output_type": "execute_result"
    }
   ],
   "source": [
    "df['target_anechoic_cyst_5mm_avg_cnr_dnn']\n",
    "# list(df)"
   ]
  },
  {
   "cell_type": "markdown",
   "metadata": {},
   "source": [
    "# CNR: Simulation vs Phantom"
   ]
  },
  {
   "cell_type": "code",
   "execution_count": 4,
   "metadata": {},
   "outputs": [
    {
     "ename": "KeyError",
     "evalue": "''",
     "output_type": "error",
     "traceback": [
      "\u001b[0;31m---------------------------------------------------------------------------\u001b[0m",
      "\u001b[0;31mKeyError\u001b[0m                                  Traceback (most recent call last)",
      "\u001b[0;32m/anaconda3/lib/python3.6/site-packages/pandas/core/indexes/base.py\u001b[0m in \u001b[0;36mget_loc\u001b[0;34m(self, key, method, tolerance)\u001b[0m\n\u001b[1;32m   3077\u001b[0m             \u001b[0;32mtry\u001b[0m\u001b[0;34m:\u001b[0m\u001b[0;34m\u001b[0m\u001b[0m\n\u001b[0;32m-> 3078\u001b[0;31m                 \u001b[0;32mreturn\u001b[0m \u001b[0mself\u001b[0m\u001b[0;34m.\u001b[0m\u001b[0m_engine\u001b[0m\u001b[0;34m.\u001b[0m\u001b[0mget_loc\u001b[0m\u001b[0;34m(\u001b[0m\u001b[0mkey\u001b[0m\u001b[0;34m)\u001b[0m\u001b[0;34m\u001b[0m\u001b[0m\n\u001b[0m\u001b[1;32m   3079\u001b[0m             \u001b[0;32mexcept\u001b[0m \u001b[0mKeyError\u001b[0m\u001b[0;34m:\u001b[0m\u001b[0;34m\u001b[0m\u001b[0m\n",
      "\u001b[0;32mpandas/_libs/index.pyx\u001b[0m in \u001b[0;36mpandas._libs.index.IndexEngine.get_loc\u001b[0;34m()\u001b[0m\n",
      "\u001b[0;32mpandas/_libs/index.pyx\u001b[0m in \u001b[0;36mpandas._libs.index.IndexEngine.get_loc\u001b[0;34m()\u001b[0m\n",
      "\u001b[0;32mpandas/_libs/hashtable_class_helper.pxi\u001b[0m in \u001b[0;36mpandas._libs.hashtable.PyObjectHashTable.get_item\u001b[0;34m()\u001b[0m\n",
      "\u001b[0;32mpandas/_libs/hashtable_class_helper.pxi\u001b[0m in \u001b[0;36mpandas._libs.hashtable.PyObjectHashTable.get_item\u001b[0;34m()\u001b[0m\n",
      "\u001b[0;31mKeyError\u001b[0m: ''",
      "\nDuring handling of the above exception, another exception occurred:\n",
      "\u001b[0;31mKeyError\u001b[0m                                  Traceback (most recent call last)",
      "\u001b[0;32m<ipython-input-4-b568f23f57ff>\u001b[0m in \u001b[0;36m<module>\u001b[0;34m()\u001b[0m\n\u001b[1;32m     19\u001b[0m \u001b[0;31m# plt.show()\u001b[0m\u001b[0;34m\u001b[0m\u001b[0;34m\u001b[0m\u001b[0m\n\u001b[1;32m     20\u001b[0m \u001b[0;34m\u001b[0m\u001b[0m\n\u001b[0;32m---> 21\u001b[0;31m \u001b[0mdf\u001b[0m\u001b[0;34m.\u001b[0m\u001b[0mplot\u001b[0m\u001b[0;34m(\u001b[0m\u001b[0mx\u001b[0m\u001b[0;34m=\u001b[0m\u001b[0;34m''\u001b[0m\u001b[0;34m)\u001b[0m\u001b[0;34m\u001b[0m\u001b[0m\n\u001b[0m",
      "\u001b[0;32m/anaconda3/lib/python3.6/site-packages/pandas/plotting/_core.py\u001b[0m in \u001b[0;36m__call__\u001b[0;34m(self, x, y, kind, ax, subplots, sharex, sharey, layout, figsize, use_index, title, grid, legend, style, logx, logy, loglog, xticks, yticks, xlim, ylim, rot, fontsize, colormap, table, yerr, xerr, secondary_y, sort_columns, **kwds)\u001b[0m\n\u001b[1;32m   2939\u001b[0m                           \u001b[0mfontsize\u001b[0m\u001b[0;34m=\u001b[0m\u001b[0mfontsize\u001b[0m\u001b[0;34m,\u001b[0m \u001b[0mcolormap\u001b[0m\u001b[0;34m=\u001b[0m\u001b[0mcolormap\u001b[0m\u001b[0;34m,\u001b[0m \u001b[0mtable\u001b[0m\u001b[0;34m=\u001b[0m\u001b[0mtable\u001b[0m\u001b[0;34m,\u001b[0m\u001b[0;34m\u001b[0m\u001b[0m\n\u001b[1;32m   2940\u001b[0m                           \u001b[0myerr\u001b[0m\u001b[0;34m=\u001b[0m\u001b[0myerr\u001b[0m\u001b[0;34m,\u001b[0m \u001b[0mxerr\u001b[0m\u001b[0;34m=\u001b[0m\u001b[0mxerr\u001b[0m\u001b[0;34m,\u001b[0m \u001b[0msecondary_y\u001b[0m\u001b[0;34m=\u001b[0m\u001b[0msecondary_y\u001b[0m\u001b[0;34m,\u001b[0m\u001b[0;34m\u001b[0m\u001b[0m\n\u001b[0;32m-> 2941\u001b[0;31m                           sort_columns=sort_columns, **kwds)\n\u001b[0m\u001b[1;32m   2942\u001b[0m     \u001b[0m__call__\u001b[0m\u001b[0;34m.\u001b[0m\u001b[0m__doc__\u001b[0m \u001b[0;34m=\u001b[0m \u001b[0mplot_frame\u001b[0m\u001b[0;34m.\u001b[0m\u001b[0m__doc__\u001b[0m\u001b[0;34m\u001b[0m\u001b[0m\n\u001b[1;32m   2943\u001b[0m \u001b[0;34m\u001b[0m\u001b[0m\n",
      "\u001b[0;32m/anaconda3/lib/python3.6/site-packages/pandas/plotting/_core.py\u001b[0m in \u001b[0;36mplot_frame\u001b[0;34m(data, x, y, kind, ax, subplots, sharex, sharey, layout, figsize, use_index, title, grid, legend, style, logx, logy, loglog, xticks, yticks, xlim, ylim, rot, fontsize, colormap, table, yerr, xerr, secondary_y, sort_columns, **kwds)\u001b[0m\n\u001b[1;32m   1975\u001b[0m                  \u001b[0myerr\u001b[0m\u001b[0;34m=\u001b[0m\u001b[0myerr\u001b[0m\u001b[0;34m,\u001b[0m \u001b[0mxerr\u001b[0m\u001b[0;34m=\u001b[0m\u001b[0mxerr\u001b[0m\u001b[0;34m,\u001b[0m\u001b[0;34m\u001b[0m\u001b[0m\n\u001b[1;32m   1976\u001b[0m                  \u001b[0msecondary_y\u001b[0m\u001b[0;34m=\u001b[0m\u001b[0msecondary_y\u001b[0m\u001b[0;34m,\u001b[0m \u001b[0msort_columns\u001b[0m\u001b[0;34m=\u001b[0m\u001b[0msort_columns\u001b[0m\u001b[0;34m,\u001b[0m\u001b[0;34m\u001b[0m\u001b[0m\n\u001b[0;32m-> 1977\u001b[0;31m                  **kwds)\n\u001b[0m\u001b[1;32m   1978\u001b[0m \u001b[0;34m\u001b[0m\u001b[0m\n\u001b[1;32m   1979\u001b[0m \u001b[0;34m\u001b[0m\u001b[0m\n",
      "\u001b[0;32m/anaconda3/lib/python3.6/site-packages/pandas/plotting/_core.py\u001b[0m in \u001b[0;36m_plot\u001b[0;34m(data, x, y, subplots, ax, kind, **kwds)\u001b[0m\n\u001b[1;32m   1764\u001b[0m                 \u001b[0;32mif\u001b[0m \u001b[0mis_integer\u001b[0m\u001b[0;34m(\u001b[0m\u001b[0mx\u001b[0m\u001b[0;34m)\u001b[0m \u001b[0;32mand\u001b[0m \u001b[0;32mnot\u001b[0m \u001b[0mdata\u001b[0m\u001b[0;34m.\u001b[0m\u001b[0mcolumns\u001b[0m\u001b[0;34m.\u001b[0m\u001b[0mholds_integer\u001b[0m\u001b[0;34m(\u001b[0m\u001b[0;34m)\u001b[0m\u001b[0;34m:\u001b[0m\u001b[0;34m\u001b[0m\u001b[0m\n\u001b[1;32m   1765\u001b[0m                     \u001b[0mx\u001b[0m \u001b[0;34m=\u001b[0m \u001b[0mdata_cols\u001b[0m\u001b[0;34m[\u001b[0m\u001b[0mx\u001b[0m\u001b[0;34m]\u001b[0m\u001b[0;34m\u001b[0m\u001b[0m\n\u001b[0;32m-> 1766\u001b[0;31m                 \u001b[0;32melif\u001b[0m \u001b[0;32mnot\u001b[0m \u001b[0misinstance\u001b[0m\u001b[0;34m(\u001b[0m\u001b[0mdata\u001b[0m\u001b[0;34m[\u001b[0m\u001b[0mx\u001b[0m\u001b[0;34m]\u001b[0m\u001b[0;34m,\u001b[0m \u001b[0mABCSeries\u001b[0m\u001b[0;34m)\u001b[0m\u001b[0;34m:\u001b[0m\u001b[0;34m\u001b[0m\u001b[0m\n\u001b[0m\u001b[1;32m   1767\u001b[0m                     \u001b[0;32mraise\u001b[0m \u001b[0mValueError\u001b[0m\u001b[0;34m(\u001b[0m\u001b[0;34m\"x must be a label or position\"\u001b[0m\u001b[0;34m)\u001b[0m\u001b[0;34m\u001b[0m\u001b[0m\n\u001b[1;32m   1768\u001b[0m                 \u001b[0mdata\u001b[0m \u001b[0;34m=\u001b[0m \u001b[0mdata\u001b[0m\u001b[0;34m.\u001b[0m\u001b[0mset_index\u001b[0m\u001b[0;34m(\u001b[0m\u001b[0mx\u001b[0m\u001b[0;34m)\u001b[0m\u001b[0;34m\u001b[0m\u001b[0m\n",
      "\u001b[0;32m/anaconda3/lib/python3.6/site-packages/pandas/core/frame.py\u001b[0m in \u001b[0;36m__getitem__\u001b[0;34m(self, key)\u001b[0m\n\u001b[1;32m   2686\u001b[0m             \u001b[0;32mreturn\u001b[0m \u001b[0mself\u001b[0m\u001b[0;34m.\u001b[0m\u001b[0m_getitem_multilevel\u001b[0m\u001b[0;34m(\u001b[0m\u001b[0mkey\u001b[0m\u001b[0;34m)\u001b[0m\u001b[0;34m\u001b[0m\u001b[0m\n\u001b[1;32m   2687\u001b[0m         \u001b[0;32melse\u001b[0m\u001b[0;34m:\u001b[0m\u001b[0;34m\u001b[0m\u001b[0m\n\u001b[0;32m-> 2688\u001b[0;31m             \u001b[0;32mreturn\u001b[0m \u001b[0mself\u001b[0m\u001b[0;34m.\u001b[0m\u001b[0m_getitem_column\u001b[0m\u001b[0;34m(\u001b[0m\u001b[0mkey\u001b[0m\u001b[0;34m)\u001b[0m\u001b[0;34m\u001b[0m\u001b[0m\n\u001b[0m\u001b[1;32m   2689\u001b[0m \u001b[0;34m\u001b[0m\u001b[0m\n\u001b[1;32m   2690\u001b[0m     \u001b[0;32mdef\u001b[0m \u001b[0m_getitem_column\u001b[0m\u001b[0;34m(\u001b[0m\u001b[0mself\u001b[0m\u001b[0;34m,\u001b[0m \u001b[0mkey\u001b[0m\u001b[0;34m)\u001b[0m\u001b[0;34m:\u001b[0m\u001b[0;34m\u001b[0m\u001b[0m\n",
      "\u001b[0;32m/anaconda3/lib/python3.6/site-packages/pandas/core/frame.py\u001b[0m in \u001b[0;36m_getitem_column\u001b[0;34m(self, key)\u001b[0m\n\u001b[1;32m   2693\u001b[0m         \u001b[0;31m# get column\u001b[0m\u001b[0;34m\u001b[0m\u001b[0;34m\u001b[0m\u001b[0m\n\u001b[1;32m   2694\u001b[0m         \u001b[0;32mif\u001b[0m \u001b[0mself\u001b[0m\u001b[0;34m.\u001b[0m\u001b[0mcolumns\u001b[0m\u001b[0;34m.\u001b[0m\u001b[0mis_unique\u001b[0m\u001b[0;34m:\u001b[0m\u001b[0;34m\u001b[0m\u001b[0m\n\u001b[0;32m-> 2695\u001b[0;31m             \u001b[0;32mreturn\u001b[0m \u001b[0mself\u001b[0m\u001b[0;34m.\u001b[0m\u001b[0m_get_item_cache\u001b[0m\u001b[0;34m(\u001b[0m\u001b[0mkey\u001b[0m\u001b[0;34m)\u001b[0m\u001b[0;34m\u001b[0m\u001b[0m\n\u001b[0m\u001b[1;32m   2696\u001b[0m \u001b[0;34m\u001b[0m\u001b[0m\n\u001b[1;32m   2697\u001b[0m         \u001b[0;31m# duplicate columns & possible reduce dimensionality\u001b[0m\u001b[0;34m\u001b[0m\u001b[0;34m\u001b[0m\u001b[0m\n",
      "\u001b[0;32m/anaconda3/lib/python3.6/site-packages/pandas/core/generic.py\u001b[0m in \u001b[0;36m_get_item_cache\u001b[0;34m(self, item)\u001b[0m\n\u001b[1;32m   2487\u001b[0m         \u001b[0mres\u001b[0m \u001b[0;34m=\u001b[0m \u001b[0mcache\u001b[0m\u001b[0;34m.\u001b[0m\u001b[0mget\u001b[0m\u001b[0;34m(\u001b[0m\u001b[0mitem\u001b[0m\u001b[0;34m)\u001b[0m\u001b[0;34m\u001b[0m\u001b[0m\n\u001b[1;32m   2488\u001b[0m         \u001b[0;32mif\u001b[0m \u001b[0mres\u001b[0m \u001b[0;32mis\u001b[0m \u001b[0;32mNone\u001b[0m\u001b[0;34m:\u001b[0m\u001b[0;34m\u001b[0m\u001b[0m\n\u001b[0;32m-> 2489\u001b[0;31m             \u001b[0mvalues\u001b[0m \u001b[0;34m=\u001b[0m \u001b[0mself\u001b[0m\u001b[0;34m.\u001b[0m\u001b[0m_data\u001b[0m\u001b[0;34m.\u001b[0m\u001b[0mget\u001b[0m\u001b[0;34m(\u001b[0m\u001b[0mitem\u001b[0m\u001b[0;34m)\u001b[0m\u001b[0;34m\u001b[0m\u001b[0m\n\u001b[0m\u001b[1;32m   2490\u001b[0m             \u001b[0mres\u001b[0m \u001b[0;34m=\u001b[0m \u001b[0mself\u001b[0m\u001b[0;34m.\u001b[0m\u001b[0m_box_item_values\u001b[0m\u001b[0;34m(\u001b[0m\u001b[0mitem\u001b[0m\u001b[0;34m,\u001b[0m \u001b[0mvalues\u001b[0m\u001b[0;34m)\u001b[0m\u001b[0;34m\u001b[0m\u001b[0m\n\u001b[1;32m   2491\u001b[0m             \u001b[0mcache\u001b[0m\u001b[0;34m[\u001b[0m\u001b[0mitem\u001b[0m\u001b[0;34m]\u001b[0m \u001b[0;34m=\u001b[0m \u001b[0mres\u001b[0m\u001b[0;34m\u001b[0m\u001b[0m\n",
      "\u001b[0;32m/anaconda3/lib/python3.6/site-packages/pandas/core/internals.py\u001b[0m in \u001b[0;36mget\u001b[0;34m(self, item, fastpath)\u001b[0m\n\u001b[1;32m   4113\u001b[0m \u001b[0;34m\u001b[0m\u001b[0m\n\u001b[1;32m   4114\u001b[0m             \u001b[0;32mif\u001b[0m \u001b[0;32mnot\u001b[0m \u001b[0misna\u001b[0m\u001b[0;34m(\u001b[0m\u001b[0mitem\u001b[0m\u001b[0;34m)\u001b[0m\u001b[0;34m:\u001b[0m\u001b[0;34m\u001b[0m\u001b[0m\n\u001b[0;32m-> 4115\u001b[0;31m                 \u001b[0mloc\u001b[0m \u001b[0;34m=\u001b[0m \u001b[0mself\u001b[0m\u001b[0;34m.\u001b[0m\u001b[0mitems\u001b[0m\u001b[0;34m.\u001b[0m\u001b[0mget_loc\u001b[0m\u001b[0;34m(\u001b[0m\u001b[0mitem\u001b[0m\u001b[0;34m)\u001b[0m\u001b[0;34m\u001b[0m\u001b[0m\n\u001b[0m\u001b[1;32m   4116\u001b[0m             \u001b[0;32melse\u001b[0m\u001b[0;34m:\u001b[0m\u001b[0;34m\u001b[0m\u001b[0m\n\u001b[1;32m   4117\u001b[0m                 \u001b[0mindexer\u001b[0m \u001b[0;34m=\u001b[0m \u001b[0mnp\u001b[0m\u001b[0;34m.\u001b[0m\u001b[0marange\u001b[0m\u001b[0;34m(\u001b[0m\u001b[0mlen\u001b[0m\u001b[0;34m(\u001b[0m\u001b[0mself\u001b[0m\u001b[0;34m.\u001b[0m\u001b[0mitems\u001b[0m\u001b[0;34m)\u001b[0m\u001b[0;34m)\u001b[0m\u001b[0;34m[\u001b[0m\u001b[0misna\u001b[0m\u001b[0;34m(\u001b[0m\u001b[0mself\u001b[0m\u001b[0;34m.\u001b[0m\u001b[0mitems\u001b[0m\u001b[0;34m)\u001b[0m\u001b[0;34m]\u001b[0m\u001b[0;34m\u001b[0m\u001b[0m\n",
      "\u001b[0;32m/anaconda3/lib/python3.6/site-packages/pandas/core/indexes/base.py\u001b[0m in \u001b[0;36mget_loc\u001b[0;34m(self, key, method, tolerance)\u001b[0m\n\u001b[1;32m   3078\u001b[0m                 \u001b[0;32mreturn\u001b[0m \u001b[0mself\u001b[0m\u001b[0;34m.\u001b[0m\u001b[0m_engine\u001b[0m\u001b[0;34m.\u001b[0m\u001b[0mget_loc\u001b[0m\u001b[0;34m(\u001b[0m\u001b[0mkey\u001b[0m\u001b[0;34m)\u001b[0m\u001b[0;34m\u001b[0m\u001b[0m\n\u001b[1;32m   3079\u001b[0m             \u001b[0;32mexcept\u001b[0m \u001b[0mKeyError\u001b[0m\u001b[0;34m:\u001b[0m\u001b[0;34m\u001b[0m\u001b[0m\n\u001b[0;32m-> 3080\u001b[0;31m                 \u001b[0;32mreturn\u001b[0m \u001b[0mself\u001b[0m\u001b[0;34m.\u001b[0m\u001b[0m_engine\u001b[0m\u001b[0;34m.\u001b[0m\u001b[0mget_loc\u001b[0m\u001b[0;34m(\u001b[0m\u001b[0mself\u001b[0m\u001b[0;34m.\u001b[0m\u001b[0m_maybe_cast_indexer\u001b[0m\u001b[0;34m(\u001b[0m\u001b[0mkey\u001b[0m\u001b[0;34m)\u001b[0m\u001b[0;34m)\u001b[0m\u001b[0;34m\u001b[0m\u001b[0m\n\u001b[0m\u001b[1;32m   3081\u001b[0m \u001b[0;34m\u001b[0m\u001b[0m\n\u001b[1;32m   3082\u001b[0m         \u001b[0mindexer\u001b[0m \u001b[0;34m=\u001b[0m \u001b[0mself\u001b[0m\u001b[0;34m.\u001b[0m\u001b[0mget_indexer\u001b[0m\u001b[0;34m(\u001b[0m\u001b[0;34m[\u001b[0m\u001b[0mkey\u001b[0m\u001b[0;34m]\u001b[0m\u001b[0;34m,\u001b[0m \u001b[0mmethod\u001b[0m\u001b[0;34m=\u001b[0m\u001b[0mmethod\u001b[0m\u001b[0;34m,\u001b[0m \u001b[0mtolerance\u001b[0m\u001b[0;34m=\u001b[0m\u001b[0mtolerance\u001b[0m\u001b[0;34m)\u001b[0m\u001b[0;34m\u001b[0m\u001b[0m\n",
      "\u001b[0;32mpandas/_libs/index.pyx\u001b[0m in \u001b[0;36mpandas._libs.index.IndexEngine.get_loc\u001b[0;34m()\u001b[0m\n",
      "\u001b[0;32mpandas/_libs/index.pyx\u001b[0m in \u001b[0;36mpandas._libs.index.IndexEngine.get_loc\u001b[0;34m()\u001b[0m\n",
      "\u001b[0;32mpandas/_libs/hashtable_class_helper.pxi\u001b[0m in \u001b[0;36mpandas._libs.hashtable.PyObjectHashTable.get_item\u001b[0;34m()\u001b[0m\n",
      "\u001b[0;32mpandas/_libs/hashtable_class_helper.pxi\u001b[0m in \u001b[0;36mpandas._libs.hashtable.PyObjectHashTable.get_item\u001b[0;34m()\u001b[0m\n",
      "\u001b[0;31mKeyError\u001b[0m: ''"
     ]
    }
   ],
   "source": [
    "# m = 1 # m=1 is CNR\n",
    "\n",
    "# is_labeling_points = True\n",
    "\n",
    "# x = speckle_stats_dnn_cyst[:, m, :].mean(axis=-1)\n",
    "# y = speckle_stats_dnn_phantom[:, m, :].mean(axis=-1)\n",
    "# fig, ax = plt.subplots()\n",
    "# ax.scatter(x, y)\n",
    "\n",
    "# if is_labeling_points == True:\n",
    "#     for i, annotation in enumerate(range(len(x))):\n",
    "#         ax.annotate(annotation, (x[i], y[i]), size=11)\n",
    "\n",
    "\n",
    "# ax.grid()\n",
    "# ax.set_title('Simulation CNR vs Phantom CNR, Same Model (Cluster)')\n",
    "# ax.set_xlabel('Simulation CNR')\n",
    "# ax.set_ylabel('Phantom CNR')\n",
    "# plt.show()\n",
    "\n",
    "df.plot(x='')"
   ]
  },
  {
   "cell_type": "markdown",
   "metadata": {},
   "source": [
    "# CNR: Simulation vs In vivo"
   ]
  },
  {
   "cell_type": "code",
   "execution_count": null,
   "metadata": {},
   "outputs": [],
   "source": [
    "# Simulation vs In vivo\n",
    "\n",
    "fig, ax = plt.subplots()\n",
    "x = speckle_stats_dnn_cyst[:, m, :].mean(axis=-1)\n",
    "y = speckle_stats_dnn_in_vivo[:, m, :].mean(axis=-1)\n",
    "\n",
    "ax.scatter(x, y)\n",
    "\n",
    "if is_labeling_points == True:\n",
    "    for i, annotation in enumerate(range(len(x))):\n",
    "        ax.annotate(annotation, (x[i],y[i]), size=11)\n",
    "    \n",
    "    \n",
    "ax.grid()\n",
    "ax.set_title('Simulation CNR vs In Vivo CNR, Same Model (Cluster)')\n",
    "ax.set_xlabel('Simulation CNR')\n",
    "ax.set_ylabel('In Vivo CNR')\n",
    "plt.show()"
   ]
  },
  {
   "cell_type": "markdown",
   "metadata": {},
   "source": [
    "# Phantom vs In vivo"
   ]
  },
  {
   "cell_type": "code",
   "execution_count": null,
   "metadata": {},
   "outputs": [],
   "source": [
    "# # Simulation vs In vivo\n",
    "\n",
    "fig, ax = plt.subplots()\n",
    "\n",
    "x = speckle_stats_dnn_phantom[:, m, :].mean(axis=-1)\n",
    "y = speckle_stats_dnn_in_vivo[:, m, :].mean(axis=-1)\n",
    "\n",
    "ax.scatter(x, y)\n",
    "\n",
    "if is_labeling_points == True:\n",
    "    for i, annotation in enumerate(range(len(x))):\n",
    "        ax.annotate(annotation, (x[i],y[i]), size=11)\n",
    "    \n",
    "ax.grid()\n",
    "ax.set_title('Phantom CNR vs In Vivo CNR, Same Model (Cluster)')\n",
    "ax.set_xlabel('Phantom CNR')\n",
    "ax.set_ylabel('In Vivo CNR')\n",
    "plt.show()"
   ]
  },
  {
   "cell_type": "markdown",
   "metadata": {},
   "source": [
    "# CNR vs Hyperparams"
   ]
  },
  {
   "cell_type": "code",
   "execution_count": null,
   "metadata": {},
   "outputs": [],
   "source": [
    "# # Simulated Cyst CNR vs Model Params\n",
    "\n",
    "hyperparams = [ \\\n",
    " 'batch_norm',\n",
    " 'conv1_kernel_size',\n",
    " 'conv1_num_kernels',\n",
    " 'conv1_stride',\n",
    " 'conv1_dropout',\n",
    "               \n",
    " 'pool1_kernel_size',\n",
    " 'pool1_stride',\n",
    "               \n",
    " 'conv2_kernel_size',\n",
    " 'conv2_num_kernels',\n",
    " 'conv2_stride',\n",
    " 'conv2_dropout',\n",
    "               \n",
    " 'pool2_kernel_size',\n",
    " 'pool2_stride',\n",
    "               \n",
    " 'fcs_hidden_size',\n",
    " 'fcs_dropout',\n",
    " 'fcs_num_hidden_layers',\n",
    "               \n",
    "               \n",
    "#  'data_is_target',\n",
    " 'data_noise_gaussian',\n",
    "#  'data_train',\n",
    "#  'data_val',\n",
    "#  'k',\n",
    "#  'patience',\n",
    "#  'save_initial',\n",
    "#  'weight_decay',\n",
    "#  'batch_size',\n",
    " 'loss_val_k_3',\n",
    " 'loss_val_k_4',\n",
    " 'loss_val_k_5',\n",
    "          \n",
    " 'learning_rate',\n",
    " 'optimizer',\n",
    " 'momentum',\n",
    "]\n",
    "\n",
    "\n",
    "\n",
    "# from IPython.core.display import display, HTML\n",
    "# display(HTML(\"<style>.container { width:100% !important; }</style>\"))\n",
    "\n",
    "mean_cnr_cyst = speckle_stats_dnn_cyst[:, 1, :].mean(axis=-1)\n",
    "df['mean_cnr_cyst'] = mean_cnr_cyst\n",
    "\n",
    "mean_cnr_phantom = speckle_stats_dnn_phantom[:, 1, :].mean(axis=-1)\n",
    "df['mean_cnr_phantom'] = mean_cnr_phantom\n",
    "\n",
    "mean_cnr_in_vivo = speckle_stats_dnn_in_vivo[:, 1, :].mean(axis=-1)\n",
    "df['mean_cnr_in_vivo'] = mean_cnr_in_vivo\n"
   ]
  },
  {
   "cell_type": "code",
   "execution_count": null,
   "metadata": {},
   "outputs": [],
   "source": [
    "max_cnr = df['mean_cnr_cyst'].idxmax()\n",
    "print(max_cnr)\n",
    "max_row = df[max_cnr:max_cnr+1]\n",
    "max_row.index = [0]"
   ]
  },
  {
   "cell_type": "code",
   "execution_count": null,
   "metadata": {},
   "outputs": [],
   "source": [
    "def plot_cnr_hyperparameters(df, column_of_interest, ylim=(0, 6), plot_method='scatter'):\n",
    "    number_of_subplots = len(hyperparams)\n",
    "    ncols = 4\n",
    "    nrows = number_of_subplots // ncols \n",
    "    nrows += number_of_subplots % ncols\n",
    "\n",
    "    # Create a Position index\n",
    "    position = range(1, number_of_subplots + 1)\n",
    "\n",
    "    fig = plt.figure(1, figsize=(20, 40))\n",
    "\n",
    "    for i, column in enumerate(df[hyperparams]):\n",
    "        ax = fig.add_subplot(nrows, ncols, position[i])\n",
    "        if plot_method == 'scatter':\n",
    "            ax.scatter(df_dropout[column], df[column_of_interest], color='blue')\n",
    "#             ax.scatter(df_no_dropout[column], df_no_dropout[column_of_interest], color='red')\n",
    "        else:\n",
    "            possible_column_values = df_dropout_and_no_dropout[column].unique()\n",
    "            print('df_dropout[%s] =' % column, df_dropout[column])\n",
    "            print('df_no_dropout[%s] =' % column, df_no_dropout[column])\n",
    "#             ax.bar(['with dropout', 'without dropout'], [df_dropout[column][0], df_no_dropout[column][0]])\n",
    "            ax.bar(possible_column_values, )\n",
    "        ax.set_ylabel('cnr')\n",
    "        ax.set_xlabel(column)\n",
    "        if ylim: ax.set_ylim(*ylim)\n",
    "\n",
    "    plt.show()"
   ]
  },
  {
   "cell_type": "markdown",
   "metadata": {},
   "source": [
    "# Picking High CNR, Low Speckle SNR Models - Simulation"
   ]
  },
  {
   "cell_type": "code",
   "execution_count": null,
   "metadata": {},
   "outputs": [],
   "source": [
    "cnr = 1 # m=1 is CNR\n",
    "speckle_snr = 2\n",
    "das_avg_cnr_simulation = mean([5.09, 4.9138, 5.148, 4.8877, 5.0831])\n",
    "das_avg_speckle_snr_simulation = mean([1.9281, 1.8777, 1.9231, 1.8922, 1.9186])\n",
    "\n",
    "is_labeling_points = True\n",
    "\n",
    "cnr_simulation = speckle_stats_dnn_cyst[:, cnr, :].mean(axis=-1)\n",
    "speckle_snr_simulation = speckle_stats_dnn_cyst[:, speckle_snr, :].mean(axis=-1)\n",
    "\n",
    "fig, ax = plt.subplots()\n",
    "ax.scatter(cnr_simulation, speckle_snr_simulation, color='blue', label='dnn')\n",
    "ax.scatter(das_avg_cnr_simulation, das_avg_speckle_snr_simulation, color='red', label='das')\n",
    "\n",
    "if is_labeling_points == True:\n",
    "    for i, annotation in enumerate(range(len(cnr_simulation))):\n",
    "        ax.annotate(annotation, (cnr_simulation[i], speckle_snr_simulation[i]), size=11)\n",
    "\n",
    "\n",
    "ax.legend()    \n",
    "ax.grid()\n",
    "ax.set_title('CNR vs Speckle SNR - Simulation')\n",
    "ax.set_xlabel('cnr')\n",
    "ax.set_ylabel('speckle snr')\n",
    "plt.show()"
   ]
  },
  {
   "cell_type": "markdown",
   "metadata": {},
   "source": [
    "# Picking High CNR, Low Speckle SNR Models - Phantom"
   ]
  },
  {
   "cell_type": "code",
   "execution_count": null,
   "metadata": {},
   "outputs": [],
   "source": [
    "cnr = 1 # m=1 is CNR\n",
    "speckle_snr = 2\n",
    "das_avg_cnr_phantom = mean([4.3994, 3.7869, 4.5012, 4.7083, 3.804])\n",
    "das_avg_speckle_snr_phantom = mean([1.9298, 1.8478, 1.9997, 2.0478, 1.8886])\n",
    "\n",
    "is_labeling_points = True\n",
    "\n",
    "cnr_phantom = speckle_stats_dnn_phantom[:, cnr, :].mean(axis=-1)\n",
    "speckle_snr_phantom = speckle_stats_dnn_phantom[:, speckle_snr, :].mean(axis=-1)\n",
    "\n",
    "fig, ax = plt.subplots()\n",
    "ax.scatter(cnr_phantom, speckle_snr_phantom, color='blue', label='dnn')\n",
    "ax.scatter(das_avg_cnr_phantom, das_avg_speckle_snr_phantom, color='red', label='das')\n",
    "\n",
    "if is_labeling_points == True:\n",
    "    for i, annotation in enumerate(range(len(cnr_phantom))):\n",
    "        ax.annotate(annotation, (cnr_phantom[i], speckle_snr_phantom[i]), size=11)\n",
    "\n",
    "\n",
    "ax.legend()    \n",
    "ax.grid()\n",
    "ax.set_title('CNR vs Speckle SNR - Phantom')\n",
    "ax.set_xlabel('cnr')\n",
    "ax.set_ylabel('speckle snr')\n",
    "plt.show()"
   ]
  },
  {
   "cell_type": "markdown",
   "metadata": {},
   "source": [
    "# Picking High CNR, Low Speckle SNR Models - In Vivo"
   ]
  },
  {
   "cell_type": "code",
   "execution_count": null,
   "metadata": {
    "scrolled": false
   },
   "outputs": [],
   "source": [
    "cnr = 1 # m=1 is CNR\n",
    "speckle_snr = 2\n",
    "das_avg_cnr_in_vivo = mean([-14.982, 4.2585])\n",
    "das_avg_speckle_snr_in_vivo = mean([1.8672, 1.9078])\n",
    "\n",
    "is_labeling_points = True\n",
    "\n",
    "cnr_in_vivo = speckle_stats_dnn_in_vivo[:, cnr, :].mean(axis=-1)\n",
    "speckle_snr_in_vivo = speckle_stats_dnn_in_vivo[:, speckle_snr, :].mean(axis=-1)\n",
    "\n",
    "fig, ax = plt.subplots()\n",
    "ax.scatter(cnr_in_vivo, speckle_snr_in_vivo, color='blue', label='dnn')\n",
    "ax.scatter(das_avg_cnr_in_vivo, das_avg_speckle_snr_in_vivo, color='red', label='das')\n",
    "\n",
    "if is_labeling_points == True:\n",
    "    for i, annotation in enumerate(range(len(cnr_in_vivo))):\n",
    "        ax.annotate(annotation, (cnr_in_vivo[i], speckle_snr_in_vivo[i]), size=11)\n",
    "\n",
    "\n",
    "ax.legend()    \n",
    "ax.grid()\n",
    "ax.set_title('CNR vs Speckle SNR - In Vivo')\n",
    "ax.set_xlabel('cnr')\n",
    "ax.set_ylabel('speckle snr')\n",
    "plt.show()"
   ]
  },
  {
   "cell_type": "markdown",
   "metadata": {},
   "source": [
    "# Picking Models With Better CNR, Lower Speckle SNR than DAS"
   ]
  },
  {
   "cell_type": "code",
   "execution_count": null,
   "metadata": {},
   "outputs": [],
   "source": [
    "speckle_snr_tolerance = 0.1\n",
    "\n",
    "all_three = [index for index, (s_cnr, s_speckle, p_cnr, p_speckle, i_cnr, i_speckle) in enumerate(zip(cnr_simulation, speckle_snr_simulation, cnr_phantom, speckle_snr_phantom, cnr_in_vivo, speckle_snr_in_vivo))\n",
    "    if s_cnr > das_avg_cnr_simulation and s_speckle > das_avg_speckle_snr_simulation - speckle_snr_tolerance and s_speckle < das_avg_speckle_snr_simulation + speckle_snr_tolerance\n",
    "        and p_cnr > das_avg_cnr_phantom and p_speckle > das_avg_speckle_snr_phantom - speckle_snr_tolerance and p_speckle < das_avg_speckle_snr_phantom + speckle_snr_tolerance\n",
    "        and i_cnr > das_avg_cnr_in_vivo and i_speckle > das_avg_speckle_snr_in_vivo - speckle_snr_tolerance and i_speckle < das_avg_speckle_snr_in_vivo + speckle_snr_tolerance\n",
    "]\n",
    "\n",
    "consistent = [index for index, (s_cnr, s_speckle, p_cnr, p_speckle, i_cnr, i_speckle) in enumerate(zip(cnr_simulation, speckle_snr_simulation, cnr_phantom, speckle_snr_phantom, cnr_in_vivo, speckle_snr_in_vivo))\n",
    "    if s_cnr > das_avg_cnr_simulation and s_speckle < das_avg_speckle_snr_simulation + speckle_snr_tolerance\n",
    "        and p_cnr > das_avg_cnr_phantom and p_speckle < das_avg_speckle_snr_phantom + speckle_snr_tolerance\n",
    "        and i_cnr > das_avg_cnr_in_vivo and i_speckle < das_avg_speckle_snr_in_vivo + speckle_snr_tolerance\n",
    "]"
   ]
  },
  {
   "cell_type": "code",
   "execution_count": null,
   "metadata": {
    "scrolled": true
   },
   "outputs": [],
   "source": [
    "df.iloc[all_three]['name']"
   ]
  },
  {
   "cell_type": "markdown",
   "metadata": {},
   "source": [
    "# 3. Consistent Models Only"
   ]
  },
  {
   "cell_type": "code",
   "execution_count": null,
   "metadata": {},
   "outputs": [],
   "source": [
    "cnr = 1 # m=1 is CNR\n",
    "speckle_snr = 2\n",
    "das_avg_cnr_in_vivo = mean([-14.982, 4.2585])\n",
    "das_avg_speckle_snr_in_vivo = mean([1.8672, 1.9078])\n",
    "\n",
    "is_labeling_points = True\n",
    "\n",
    "cnr_in_vivo = speckle_stats_dnn_in_vivo[:, cnr, :].mean(axis=-1)\n",
    "speckle_snr_in_vivo = speckle_stats_dnn_in_vivo[:, speckle_snr, :].mean(axis=-1)\n",
    "\n",
    "fig, ax = plt.subplots()\n",
    "ax.scatter(cnr_in_vivo, speckle_snr_in_vivo, color='blue', label='dnn')\n",
    "ax.scatter(das_avg_cnr_in_vivo, das_avg_speckle_snr_in_vivo, color='red', label='das')\n",
    "\n",
    "if is_labeling_points == True:\n",
    "    for i, annotation in enumerate(range(len(cnr_in_vivo))):\n",
    "        ax.annotate(annotation, (cnr_in_vivo[i], speckle_snr_in_vivo[i]), size=11)\n",
    "\n",
    "\n",
    "ax.legend()    \n",
    "ax.grid()\n",
    "ax.set_title('CNR vs Speckle SNR - In Vivo')\n",
    "ax.set_xlabel('cnr')\n",
    "ax.set_ylabel('speckle snr')\n",
    "plt.show()"
   ]
  },
  {
   "cell_type": "code",
   "execution_count": null,
   "metadata": {},
   "outputs": [],
   "source": [
    "df.iloc[[56]]['name']"
   ]
  },
  {
   "cell_type": "code",
   "execution_count": null,
   "metadata": {},
   "outputs": [],
   "source": [
    "df.iloc[[41]]['name'] # Use this for in vivo"
   ]
  },
  {
   "cell_type": "code",
   "execution_count": null,
   "metadata": {},
   "outputs": [],
   "source": [
    "df.iloc[[2]]['name']"
   ]
  },
  {
   "cell_type": "code",
   "execution_count": null,
   "metadata": {},
   "outputs": [],
   "source": [
    "df.iloc[[39]]['name']"
   ]
  },
  {
   "cell_type": "code",
   "execution_count": null,
   "metadata": {},
   "outputs": [],
   "source": [
    "cnr_phantom[2]"
   ]
  },
  {
   "cell_type": "code",
   "execution_count": null,
   "metadata": {},
   "outputs": [],
   "source": [
    "import matplotlib.image as mpimg\n",
    "import os\n",
    "\n",
    "model_name = '20180705164352_21_evaluated'\n",
    "model_folder = os.path.join('..', 'DNNs', model_name)\n",
    "\n",
    "def inspect_by_name(model_name):\n",
    "    f, axes = plt.subplots(1,2)\n",
    "    plt.axis('off')\n",
    "    \n",
    "    img = mpimg.imread(os.path.join(model_folder, 'scan_batteries', 'target_in_vivo', 'target_17', 'das.png'))\n",
    "    imgplot = axes[0].imshow(img)\n",
    "    \n",
    "    \n",
    "    img = mpimg.imread(os.path.join(model_folder, 'scan_batteries', 'target_in_vivo', 'target_17', 'dnn.png'))\n",
    "    imgplot = axes[1].imshow(img)\n",
    "    \n",
    "    f, axes = plt.subplots(1,2)\n",
    "    \n",
    "    img = mpimg.imread(os.path.join(model_folder, 'scan_batteries', 'target_in_vivo', 'target_19', 'das.png'))\n",
    "    imgplot = axes[0].imshow(img)\n",
    "    axes[0]\n",
    "    \n",
    "    img = mpimg.imread(os.path.join(model_folder, 'scan_batteries', 'target_in_vivo', 'target_19', 'dnn.png'))\n",
    "    imgplot = axes[1].imshow(img)\n",
    "    \n",
    "    plt.subplots_adjust(wspace=0, hspace=0)\n",
    "\n",
    "    \n",
    "    plt.show()\n",
    "    "
   ]
  },
  {
   "cell_type": "code",
   "execution_count": null,
   "metadata": {},
   "outputs": [],
   "source": [
    "inspect_by_name(model_name)"
   ]
  },
  {
   "cell_type": "code",
   "execution_count": null,
   "metadata": {},
   "outputs": [],
   "source": []
  }
 ],
 "metadata": {
  "kernel_info": {
   "name": "python3"
  },
  "kernelspec": {
   "display_name": "Python 3",
   "language": "python",
   "name": "python3"
  },
  "language_info": {
   "codemirror_mode": {
    "name": "ipython",
    "version": 3
   },
   "file_extension": ".py",
   "mimetype": "text/x-python",
   "name": "python",
   "nbconvert_exporter": "python",
   "pygments_lexer": "ipython3",
   "version": "3.6.6"
  },
  "nteract": {
   "version": "0.9.1"
  }
 },
 "nbformat": 4,
 "nbformat_minor": 2
}
