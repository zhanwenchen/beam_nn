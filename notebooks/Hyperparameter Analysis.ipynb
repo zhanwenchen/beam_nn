{
 "cells": [
  {
   "cell_type": "code",
   "execution_count": null,
   "metadata": {},
   "outputs": [],
   "source": [
    "import pandas as pd\n",
    "\n",
    "# NOTE: for each hyperparameter that is discrete, the y value (e.g. 'mean_cyst_cnr') \n",
    "# is the best given an x value (hyperparam, e.g. 'conv1_kernel_size'). However,\n",
    "# for continuous values such as loss, there's no way of tallying the cnr given the\n",
    "# same exact loss because there are no same exact losses.\n",
    "def plot_merged_cnr_hyperparameters(df, y_column, hyperparams_of_interest, ylim=(5,6)):\n",
    "    # TODO: 2. ylim\n",
    "    # TODO: 3. resize x bar widths\n",
    "    df.reset_index(inplace=True, drop=True)\n",
    "\n",
    "    for hyperparam in hyperparams_of_interest:\n",
    "        # for each unique value of \"dropout\", find the max for \"mean_cnr_cyst\"\n",
    "        df_max = df.groupby(hyperparam).idxmax()\n",
    "        df_max['type'] = 'max'\n",
    "\n",
    "        df2 = df_max.set_index('type',append=True).stack().rename('index')\n",
    "\n",
    "        df3 = pd.concat([ df2.reset_index().drop(hyperparam,axis=1).set_index('index'), \n",
    "                          df.loc[df2.values] ], axis=1 )\n",
    "        df4 = df3.set_index([hyperparam,'level_2']).sort_index()[y_column]\n",
    "        df5 = df4.loc[(df4.index.get_level_values('level_2') == y_column)].to_frame()\n",
    "        df5 = df5.reset_index().drop('level_2', axis=1)\n",
    "        \n",
    "        plt.figure()\n",
    "        # TODO: redo this for generalization\n",
    "        if hyperparam.startswith('loss_val_k'):\n",
    "#             plt.bar(df5[hyperparam], width, df5[y_column])\n",
    "#             plt.hist(df5[hyperparam], histtype='bar', label=[str(x) for x in popup_values])\n",
    "            plt.scatter(df5[hyperparam], df5[y_column])\n",
    "        elif hyperparam in ['conv1_dropout', 'conv2_dropout', 'fcs_dropout']:\n",
    "            width = 0.1\n",
    "            plt.bar(df5[hyperparam], df5[y_column], width)\n",
    "        else:\n",
    "            plt.bar(df5[hyperparam], df5[y_column])\n",
    "        plt.xlabel(hyperparam)\n",
    "        plt.ylabel(y_column)\n",
    "        if ylim: plt.ylim(*ylim)"
   ]
  },
  {
   "cell_type": "markdown",
   "metadata": {},
   "source": [
    "# Simulation CNR as a Function of Hyperparameters"
   ]
  },
  {
   "cell_type": "code",
   "execution_count": null,
   "metadata": {},
   "outputs": [],
   "source": [
    "plot_merged_cnr_hyperparameters(df, 'mean_cnr_cyst', hyperparams, ylim=None)"
   ]
  },
  {
   "cell_type": "markdown",
   "metadata": {},
   "source": [
    "# Phantom CNR as a Function of Hyperparameters"
   ]
  },
  {
   "cell_type": "code",
   "execution_count": 1,
   "metadata": {},
   "outputs": [
    {
     "ename": "NameError",
     "evalue": "name 'plot_merged_cnr_hyperparameters' is not defined",
     "output_type": "error",
     "traceback": [
      "\u001b[0;31m---------------------------------------------------------------------------\u001b[0m",
      "\u001b[0;31mNameError\u001b[0m                                 Traceback (most recent call last)",
      "\u001b[0;32m<ipython-input-1-f72ac7fc3aa7>\u001b[0m in \u001b[0;36m<module>\u001b[0;34m()\u001b[0m\n\u001b[0;32m----> 1\u001b[0;31m \u001b[0mplot_merged_cnr_hyperparameters\u001b[0m\u001b[0;34m(\u001b[0m\u001b[0mdf\u001b[0m\u001b[0;34m,\u001b[0m \u001b[0;34m'mean_cnr_phantom'\u001b[0m\u001b[0;34m,\u001b[0m \u001b[0mhyperparams\u001b[0m\u001b[0;34m,\u001b[0m \u001b[0mylim\u001b[0m\u001b[0;34m=\u001b[0m\u001b[0;32mNone\u001b[0m\u001b[0;34m)\u001b[0m\u001b[0;34m\u001b[0m\u001b[0m\n\u001b[0m",
      "\u001b[0;31mNameError\u001b[0m: name 'plot_merged_cnr_hyperparameters' is not defined"
     ]
    }
   ],
   "source": [
    "plot_merged_cnr_hyperparameters(df, 'mean_cnr_phantom', hyperparams, ylim=None)"
   ]
  },
  {
   "cell_type": "markdown",
   "metadata": {},
   "source": [
    "# In Vivo CNR as a Function of Hyperparameters"
   ]
  },
  {
   "cell_type": "code",
   "execution_count": null,
   "metadata": {},
   "outputs": [],
   "source": [
    "plot_merged_cnr_hyperparameters(df, 'mean_cnr_in_vivo', hyperparams, ylim=None)"
   ]
  }
 ],
 "metadata": {
  "kernelspec": {
   "display_name": "Python 3",
   "language": "python",
   "name": "python3"
  },
  "language_info": {
   "codemirror_mode": {
    "name": "ipython",
    "version": 3
   },
   "file_extension": ".py",
   "mimetype": "text/x-python",
   "name": "python",
   "nbconvert_exporter": "python",
   "pygments_lexer": "ipython3",
   "version": "3.6.5"
  }
 },
 "nbformat": 4,
 "nbformat_minor": 2
}
