{
 "cells": [
  {
   "cell_type": "code",
   "execution_count": 1,
   "metadata": {},
   "outputs": [],
   "source": [
    "%matplotlib inline\n",
    "%load_ext autoreload\n",
    "%autoreload 2\n",
    "import matplotlib.pyplot as plt\n",
    "import pandas as pd\n",
    "from os.path import join\n",
    "\n",
    "from scipy.stats import ttest_rel\n",
    "from analysis_utils import get_df, inspect_model_by_name, compare_two_models, get_num_weights_biases\n"
   ]
  },
  {
   "cell_type": "code",
   "execution_count": 2,
   "metadata": {},
   "outputs": [],
   "source": [
    "best_cnn_fname = '20181203090415_11_evaluated'\n",
    "best_cnn_path = join('..', 'DNNs', best_cnn_fname)\n",
    "\n",
    "best_dnn_fname = 'dnn_benchmark_1528225522_72'\n",
    "best_dnn_path = join('..', 'DNNs', best_dnn_fname)\n"
   ]
  },
  {
   "cell_type": "code",
   "execution_count": 3,
   "metadata": {},
   "outputs": [],
   "source": [
    "best_cnn_weights = get_num_weights_biases(best_cnn_path)\n",
    "best_dnn_weights = get_num_weights_biases(best_dnn_path)\n"
   ]
  },
  {
   "cell_type": "code",
   "execution_count": 4,
   "metadata": {},
   "outputs": [],
   "source": [
    "interesting_columns = [\n",
    "    'name',\n",
    "#     'target_in_vivo_target_17_cr_das',\n",
    "     'target_in_vivo_target_17_cr_dnn',\n",
    "#      'target_in_vivo_target_17_cnr_das',\n",
    "     'target_in_vivo_target_17_cnr_dnn',\n",
    "#      'target_in_vivo_target_17_snr_das',\n",
    "     'target_in_vivo_target_17_snr_dnn',\n",
    "#      'target_in_vivo_target_19_cr_das',\n",
    "     'target_in_vivo_target_19_cr_dnn',\n",
    "#      'target_in_vivo_target_19_cnr_das',\n",
    "     'target_in_vivo_target_19_cnr_dnn',\n",
    "#      'target_in_vivo_target_19_snr_das',\n",
    "     'target_in_vivo_target_19_snr_dnn',\n",
    "    \n",
    "#     'target_phantom_anechoic_cyst_2p5mm_target_5_cr_das',\n",
    " 'target_phantom_anechoic_cyst_2p5mm_target_5_cr_dnn',\n",
    " 'target_phantom_anechoic_cyst_2p5mm_target_5_cnr_das',\n",
    " 'target_phantom_anechoic_cyst_2p5mm_target_5_cnr_dnn',\n",
    "#  'target_phantom_anechoic_cyst_2p5mm_target_5_snr_das',\n",
    " 'target_phantom_anechoic_cyst_2p5mm_target_5_snr_dnn',\n",
    "#  'target_phantom_anechoic_cyst_2p5mm_target_2_cr_das',\n",
    " 'target_phantom_anechoic_cyst_2p5mm_target_2_cr_dnn',\n",
    " 'target_phantom_anechoic_cyst_2p5mm_target_2_cnr_das',\n",
    " 'target_phantom_anechoic_cyst_2p5mm_target_2_cnr_dnn',\n",
    "#  'target_phantom_anechoic_cyst_2p5mm_target_2_snr_das',\n",
    " 'target_phantom_anechoic_cyst_2p5mm_target_2_snr_dnn',\n",
    "#  'target_phantom_anechoic_cyst_2p5mm_target_3_cr_das',\n",
    " 'target_phantom_anechoic_cyst_2p5mm_target_3_cr_dnn',\n",
    " 'target_phantom_anechoic_cyst_2p5mm_target_3_cnr_das',\n",
    " 'target_phantom_anechoic_cyst_2p5mm_target_3_cnr_dnn',\n",
    "#  'target_phantom_anechoic_cyst_2p5mm_target_3_snr_das',\n",
    " 'target_phantom_anechoic_cyst_2p5mm_target_3_snr_dnn',\n",
    "#  'target_phantom_anechoic_cyst_2p5mm_target_4_cr_das',\n",
    " 'target_phantom_anechoic_cyst_2p5mm_target_4_cr_dnn',\n",
    " 'target_phantom_anechoic_cyst_2p5mm_target_4_cnr_das',\n",
    " 'target_phantom_anechoic_cyst_2p5mm_target_4_cnr_dnn',\n",
    "#  'target_phantom_anechoic_cyst_2p5mm_target_4_snr_das',\n",
    " 'target_phantom_anechoic_cyst_2p5mm_target_4_snr_dnn',\n",
    "#  'target_phantom_anechoic_cyst_2p5mm_target_1_cr_das',\n",
    " 'target_phantom_anechoic_cyst_2p5mm_target_1_cr_dnn',\n",
    " 'target_phantom_anechoic_cyst_2p5mm_target_1_cnr_das',\n",
    " 'target_phantom_anechoic_cyst_2p5mm_target_1_cnr_dnn',\n",
    "#  'target_phantom_anechoic_cyst_2p5mm_target_1_snr_das',\n",
    " 'target_phantom_anechoic_cyst_2p5mm_target_1_snr_dnn',\n",
    "#  'target_phantom_anechoic_cyst_2p5mm_avg_cr_das',\n",
    " 'target_phantom_anechoic_cyst_2p5mm_avg_cr_dnn',\n",
    "#  'target_phantom_anechoic_cyst_2p5mm_avg_cnr_das',\n",
    " 'target_phantom_anechoic_cyst_2p5mm_avg_cnr_dnn',\n",
    "#  'target_phantom_anechoic_cyst_2p5mm_avg_snr_das',\n",
    " 'target_phantom_anechoic_cyst_2p5mm_avg_snr_dnn',\n",
    "]"
   ]
  },
  {
   "cell_type": "code",
   "execution_count": 5,
   "metadata": {},
   "outputs": [
    {
     "data": {
      "text/plain": [
       "{'k_5': 133889, 'k_4': 133889, 'k_3': 133889}"
      ]
     },
     "execution_count": 5,
     "metadata": {},
     "output_type": "execute_result"
    }
   ],
   "source": [
    "best_cnn_weights"
   ]
  },
  {
   "cell_type": "code",
   "execution_count": 6,
   "metadata": {},
   "outputs": [
    {
     "data": {
      "text/plain": [
       "{'k_5': 4602130, 'k_4': 4602130, 'k_3': 4602130}"
      ]
     },
     "execution_count": 6,
     "metadata": {},
     "output_type": "execute_result"
    }
   ],
   "source": [
    "best_dnn_weights"
   ]
  },
  {
   "cell_type": "code",
   "execution_count": 7,
   "metadata": {},
   "outputs": [
    {
     "data": {
      "text/plain": [
       "34.37272666163763"
      ]
     },
     "execution_count": 7,
     "metadata": {},
     "output_type": "execute_result"
    }
   ],
   "source": [
    "4602130 / 133889"
   ]
  },
  {
   "cell_type": "code",
   "execution_count": 8,
   "metadata": {},
   "outputs": [],
   "source": [
    "cnn_df = get_df(best_cnn_path, no_expan_path=True)[interesting_columns]\n",
    "dnn_df = get_df(best_dnn_path, no_expan_path=True)[interesting_columns]\n"
   ]
  },
  {
   "cell_type": "code",
   "execution_count": 9,
   "metadata": {},
   "outputs": [
    {
     "data": {
      "text/html": [
       "<div>\n",
       "<style scoped>\n",
       "    .dataframe tbody tr th:only-of-type {\n",
       "        vertical-align: middle;\n",
       "    }\n",
       "\n",
       "    .dataframe tbody tr th {\n",
       "        vertical-align: top;\n",
       "    }\n",
       "\n",
       "    .dataframe thead th {\n",
       "        text-align: right;\n",
       "    }\n",
       "</style>\n",
       "<table border=\"1\" class=\"dataframe\">\n",
       "  <thead>\n",
       "    <tr style=\"text-align: right;\">\n",
       "      <th>name</th>\n",
       "      <th>20181203090415_11_evaluated</th>\n",
       "      <th>dnn_benchmark_1528225522_72</th>\n",
       "    </tr>\n",
       "  </thead>\n",
       "  <tbody>\n",
       "    <tr>\n",
       "      <th>target_in_vivo_target_17_cr_dnn</th>\n",
       "      <td>8.65640</td>\n",
       "      <td>9.51970</td>\n",
       "    </tr>\n",
       "    <tr>\n",
       "      <th>target_in_vivo_target_17_cnr_dnn</th>\n",
       "      <td>-2.83610</td>\n",
       "      <td>-0.80402</td>\n",
       "    </tr>\n",
       "    <tr>\n",
       "      <th>target_in_vivo_target_17_snr_dnn</th>\n",
       "      <td>1.44380</td>\n",
       "      <td>1.63380</td>\n",
       "    </tr>\n",
       "    <tr>\n",
       "      <th>target_in_vivo_target_19_cr_dnn</th>\n",
       "      <td>40.16500</td>\n",
       "      <td>34.10300</td>\n",
       "    </tr>\n",
       "    <tr>\n",
       "      <th>target_in_vivo_target_19_cnr_dnn</th>\n",
       "      <td>5.35510</td>\n",
       "      <td>5.52450</td>\n",
       "    </tr>\n",
       "    <tr>\n",
       "      <th>target_in_vivo_target_19_snr_dnn</th>\n",
       "      <td>1.87210</td>\n",
       "      <td>1.93150</td>\n",
       "    </tr>\n",
       "    <tr>\n",
       "      <th>target_phantom_anechoic_cyst_2p5mm_target_5_cr_dnn</th>\n",
       "      <td>26.71700</td>\n",
       "      <td>29.88100</td>\n",
       "    </tr>\n",
       "    <tr>\n",
       "      <th>target_phantom_anechoic_cyst_2p5mm_target_5_cnr_das</th>\n",
       "      <td>3.80400</td>\n",
       "      <td>3.80400</td>\n",
       "    </tr>\n",
       "    <tr>\n",
       "      <th>target_phantom_anechoic_cyst_2p5mm_target_5_cnr_dnn</th>\n",
       "      <td>4.93210</td>\n",
       "      <td>5.29000</td>\n",
       "    </tr>\n",
       "    <tr>\n",
       "      <th>target_phantom_anechoic_cyst_2p5mm_target_5_snr_dnn</th>\n",
       "      <td>1.85460</td>\n",
       "      <td>1.90290</td>\n",
       "    </tr>\n",
       "    <tr>\n",
       "      <th>target_phantom_anechoic_cyst_2p5mm_target_2_cr_dnn</th>\n",
       "      <td>27.54900</td>\n",
       "      <td>29.72500</td>\n",
       "    </tr>\n",
       "    <tr>\n",
       "      <th>target_phantom_anechoic_cyst_2p5mm_target_2_cnr_das</th>\n",
       "      <td>3.78690</td>\n",
       "      <td>3.78690</td>\n",
       "    </tr>\n",
       "    <tr>\n",
       "      <th>target_phantom_anechoic_cyst_2p5mm_target_2_cnr_dnn</th>\n",
       "      <td>5.10990</td>\n",
       "      <td>5.46290</td>\n",
       "    </tr>\n",
       "    <tr>\n",
       "      <th>target_phantom_anechoic_cyst_2p5mm_target_2_snr_dnn</th>\n",
       "      <td>1.88650</td>\n",
       "      <td>1.94400</td>\n",
       "    </tr>\n",
       "    <tr>\n",
       "      <th>target_phantom_anechoic_cyst_2p5mm_target_3_cr_dnn</th>\n",
       "      <td>25.41300</td>\n",
       "      <td>26.89800</td>\n",
       "    </tr>\n",
       "    <tr>\n",
       "      <th>target_phantom_anechoic_cyst_2p5mm_target_3_cnr_das</th>\n",
       "      <td>4.50120</td>\n",
       "      <td>4.50120</td>\n",
       "    </tr>\n",
       "    <tr>\n",
       "      <th>target_phantom_anechoic_cyst_2p5mm_target_3_cnr_dnn</th>\n",
       "      <td>5.94690</td>\n",
       "      <td>5.69580</td>\n",
       "    </tr>\n",
       "    <tr>\n",
       "      <th>target_phantom_anechoic_cyst_2p5mm_target_3_snr_dnn</th>\n",
       "      <td>2.11430</td>\n",
       "      <td>2.03400</td>\n",
       "    </tr>\n",
       "    <tr>\n",
       "      <th>target_phantom_anechoic_cyst_2p5mm_target_4_cr_dnn</th>\n",
       "      <td>28.46000</td>\n",
       "      <td>29.96700</td>\n",
       "    </tr>\n",
       "    <tr>\n",
       "      <th>target_phantom_anechoic_cyst_2p5mm_target_4_cnr_das</th>\n",
       "      <td>4.70830</td>\n",
       "      <td>4.70830</td>\n",
       "    </tr>\n",
       "    <tr>\n",
       "      <th>target_phantom_anechoic_cyst_2p5mm_target_4_cnr_dnn</th>\n",
       "      <td>6.03610</td>\n",
       "      <td>5.87860</td>\n",
       "    </tr>\n",
       "    <tr>\n",
       "      <th>target_phantom_anechoic_cyst_2p5mm_target_4_snr_dnn</th>\n",
       "      <td>2.08750</td>\n",
       "      <td>2.03900</td>\n",
       "    </tr>\n",
       "    <tr>\n",
       "      <th>target_phantom_anechoic_cyst_2p5mm_target_1_cr_dnn</th>\n",
       "      <td>28.08100</td>\n",
       "      <td>30.23100</td>\n",
       "    </tr>\n",
       "    <tr>\n",
       "      <th>target_phantom_anechoic_cyst_2p5mm_target_1_cnr_das</th>\n",
       "      <td>4.39940</td>\n",
       "      <td>4.39940</td>\n",
       "    </tr>\n",
       "    <tr>\n",
       "      <th>target_phantom_anechoic_cyst_2p5mm_target_1_cnr_dnn</th>\n",
       "      <td>5.29460</td>\n",
       "      <td>5.54030</td>\n",
       "    </tr>\n",
       "    <tr>\n",
       "      <th>target_phantom_anechoic_cyst_2p5mm_target_1_snr_dnn</th>\n",
       "      <td>1.91920</td>\n",
       "      <td>1.95750</td>\n",
       "    </tr>\n",
       "    <tr>\n",
       "      <th>target_phantom_anechoic_cyst_2p5mm_avg_cr_dnn</th>\n",
       "      <td>27.24400</td>\n",
       "      <td>29.34040</td>\n",
       "    </tr>\n",
       "    <tr>\n",
       "      <th>target_phantom_anechoic_cyst_2p5mm_avg_cnr_dnn</th>\n",
       "      <td>5.46392</td>\n",
       "      <td>5.57352</td>\n",
       "    </tr>\n",
       "    <tr>\n",
       "      <th>target_phantom_anechoic_cyst_2p5mm_avg_snr_dnn</th>\n",
       "      <td>1.97242</td>\n",
       "      <td>1.97548</td>\n",
       "    </tr>\n",
       "  </tbody>\n",
       "</table>\n",
       "</div>"
      ],
      "text/plain": [
       "name                                                20181203090415_11_evaluated  \\\n",
       "target_in_vivo_target_17_cr_dnn                                         8.65640   \n",
       "target_in_vivo_target_17_cnr_dnn                                       -2.83610   \n",
       "target_in_vivo_target_17_snr_dnn                                        1.44380   \n",
       "target_in_vivo_target_19_cr_dnn                                        40.16500   \n",
       "target_in_vivo_target_19_cnr_dnn                                        5.35510   \n",
       "target_in_vivo_target_19_snr_dnn                                        1.87210   \n",
       "target_phantom_anechoic_cyst_2p5mm_target_5_cr_dnn                     26.71700   \n",
       "target_phantom_anechoic_cyst_2p5mm_target_5_cnr...                      3.80400   \n",
       "target_phantom_anechoic_cyst_2p5mm_target_5_cnr...                      4.93210   \n",
       "target_phantom_anechoic_cyst_2p5mm_target_5_snr...                      1.85460   \n",
       "target_phantom_anechoic_cyst_2p5mm_target_2_cr_dnn                     27.54900   \n",
       "target_phantom_anechoic_cyst_2p5mm_target_2_cnr...                      3.78690   \n",
       "target_phantom_anechoic_cyst_2p5mm_target_2_cnr...                      5.10990   \n",
       "target_phantom_anechoic_cyst_2p5mm_target_2_snr...                      1.88650   \n",
       "target_phantom_anechoic_cyst_2p5mm_target_3_cr_dnn                     25.41300   \n",
       "target_phantom_anechoic_cyst_2p5mm_target_3_cnr...                      4.50120   \n",
       "target_phantom_anechoic_cyst_2p5mm_target_3_cnr...                      5.94690   \n",
       "target_phantom_anechoic_cyst_2p5mm_target_3_snr...                      2.11430   \n",
       "target_phantom_anechoic_cyst_2p5mm_target_4_cr_dnn                     28.46000   \n",
       "target_phantom_anechoic_cyst_2p5mm_target_4_cnr...                      4.70830   \n",
       "target_phantom_anechoic_cyst_2p5mm_target_4_cnr...                      6.03610   \n",
       "target_phantom_anechoic_cyst_2p5mm_target_4_snr...                      2.08750   \n",
       "target_phantom_anechoic_cyst_2p5mm_target_1_cr_dnn                     28.08100   \n",
       "target_phantom_anechoic_cyst_2p5mm_target_1_cnr...                      4.39940   \n",
       "target_phantom_anechoic_cyst_2p5mm_target_1_cnr...                      5.29460   \n",
       "target_phantom_anechoic_cyst_2p5mm_target_1_snr...                      1.91920   \n",
       "target_phantom_anechoic_cyst_2p5mm_avg_cr_dnn                          27.24400   \n",
       "target_phantom_anechoic_cyst_2p5mm_avg_cnr_dnn                          5.46392   \n",
       "target_phantom_anechoic_cyst_2p5mm_avg_snr_dnn                          1.97242   \n",
       "\n",
       "name                                                dnn_benchmark_1528225522_72  \n",
       "target_in_vivo_target_17_cr_dnn                                         9.51970  \n",
       "target_in_vivo_target_17_cnr_dnn                                       -0.80402  \n",
       "target_in_vivo_target_17_snr_dnn                                        1.63380  \n",
       "target_in_vivo_target_19_cr_dnn                                        34.10300  \n",
       "target_in_vivo_target_19_cnr_dnn                                        5.52450  \n",
       "target_in_vivo_target_19_snr_dnn                                        1.93150  \n",
       "target_phantom_anechoic_cyst_2p5mm_target_5_cr_dnn                     29.88100  \n",
       "target_phantom_anechoic_cyst_2p5mm_target_5_cnr...                      3.80400  \n",
       "target_phantom_anechoic_cyst_2p5mm_target_5_cnr...                      5.29000  \n",
       "target_phantom_anechoic_cyst_2p5mm_target_5_snr...                      1.90290  \n",
       "target_phantom_anechoic_cyst_2p5mm_target_2_cr_dnn                     29.72500  \n",
       "target_phantom_anechoic_cyst_2p5mm_target_2_cnr...                      3.78690  \n",
       "target_phantom_anechoic_cyst_2p5mm_target_2_cnr...                      5.46290  \n",
       "target_phantom_anechoic_cyst_2p5mm_target_2_snr...                      1.94400  \n",
       "target_phantom_anechoic_cyst_2p5mm_target_3_cr_dnn                     26.89800  \n",
       "target_phantom_anechoic_cyst_2p5mm_target_3_cnr...                      4.50120  \n",
       "target_phantom_anechoic_cyst_2p5mm_target_3_cnr...                      5.69580  \n",
       "target_phantom_anechoic_cyst_2p5mm_target_3_snr...                      2.03400  \n",
       "target_phantom_anechoic_cyst_2p5mm_target_4_cr_dnn                     29.96700  \n",
       "target_phantom_anechoic_cyst_2p5mm_target_4_cnr...                      4.70830  \n",
       "target_phantom_anechoic_cyst_2p5mm_target_4_cnr...                      5.87860  \n",
       "target_phantom_anechoic_cyst_2p5mm_target_4_snr...                      2.03900  \n",
       "target_phantom_anechoic_cyst_2p5mm_target_1_cr_dnn                     30.23100  \n",
       "target_phantom_anechoic_cyst_2p5mm_target_1_cnr...                      4.39940  \n",
       "target_phantom_anechoic_cyst_2p5mm_target_1_cnr...                      5.54030  \n",
       "target_phantom_anechoic_cyst_2p5mm_target_1_snr...                      1.95750  \n",
       "target_phantom_anechoic_cyst_2p5mm_avg_cr_dnn                          29.34040  \n",
       "target_phantom_anechoic_cyst_2p5mm_avg_cnr_dnn                          5.57352  \n",
       "target_phantom_anechoic_cyst_2p5mm_avg_snr_dnn                          1.97548  "
      ]
     },
     "execution_count": 9,
     "metadata": {},
     "output_type": "execute_result"
    }
   ],
   "source": [
    "combined = pd.concat([cnn_df, dnn_df], ignore_index=True)\n",
    "combined.set_index('name', inplace=True)\n",
    "\n",
    "combined.T"
   ]
  },
  {
   "cell_type": "code",
   "execution_count": 10,
   "metadata": {},
   "outputs": [],
   "source": [
    "phantom_cnr_cols = [\n",
    "    'target_phantom_anechoic_cyst_2p5mm_target_1_cnr_dnn',\n",
    "    'target_phantom_anechoic_cyst_2p5mm_target_2_cnr_dnn',\n",
    "    'target_phantom_anechoic_cyst_2p5mm_target_3_cnr_dnn',\n",
    "    'target_phantom_anechoic_cyst_2p5mm_target_4_cnr_dnn',\n",
    "    'target_phantom_anechoic_cyst_2p5mm_target_5_cnr_dnn',\n",
    "]\n",
    "\n",
    "phantom_cnr_cnn = cnn_df[phantom_cnr_cols].values.flatten()\n",
    "phantom_cnr_dnn = dnn_df[phantom_cnr_cols].values.flatten()\n"
   ]
  },
  {
   "cell_type": "code",
   "execution_count": 15,
   "metadata": {},
   "outputs": [],
   "source": [
    "phantom_das_cnr_cols = [\n",
    "    'target_phantom_anechoic_cyst_2p5mm_target_1_cnr_das',\n",
    "    'target_phantom_anechoic_cyst_2p5mm_target_2_cnr_das',\n",
    "    'target_phantom_anechoic_cyst_2p5mm_target_3_cnr_das',\n",
    "    'target_phantom_anechoic_cyst_2p5mm_target_4_cnr_das',\n",
    "    'target_phantom_anechoic_cyst_2p5mm_target_5_cnr_das',\n",
    "]\n",
    "cnr_das = dnn_df[phantom_das_cnr_cols].values.flatten()\n"
   ]
  },
  {
   "cell_type": "code",
   "execution_count": 17,
   "metadata": {},
   "outputs": [
    {
     "data": {
      "text/plain": [
       "0.3763865810572955"
      ]
     },
     "execution_count": 17,
     "metadata": {},
     "output_type": "execute_result"
    }
   ],
   "source": [
    "cnr_das.std()"
   ]
  },
  {
   "cell_type": "code",
   "execution_count": 11,
   "metadata": {},
   "outputs": [
    {
     "data": {
      "text/plain": [
       "array([5.2946, 5.1099, 5.9469, 6.0361, 4.9321])"
      ]
     },
     "execution_count": 11,
     "metadata": {},
     "output_type": "execute_result"
    }
   ],
   "source": [
    "phantom_cnr_cnn"
   ]
  },
  {
   "cell_type": "code",
   "execution_count": 12,
   "metadata": {},
   "outputs": [
    {
     "data": {
      "text/plain": [
       "array([5.5403, 5.4629, 5.6958, 5.8786, 5.29  ])"
      ]
     },
     "execution_count": 12,
     "metadata": {},
     "output_type": "execute_result"
    }
   ],
   "source": [
    "phantom_cnr_dnn"
   ]
  },
  {
   "cell_type": "code",
   "execution_count": 13,
   "metadata": {
    "scrolled": true
   },
   "outputs": [
    {
     "data": {
      "text/plain": [
       "Ttest_relResult(statistic=-0.8395244581305265, pvalue=0.4484214939798049)"
      ]
     },
     "execution_count": 13,
     "metadata": {},
     "output_type": "execute_result"
    }
   ],
   "source": [
    "ttest_rel(phantom_cnr_cnn, phantom_cnr_dnn)"
   ]
  },
  {
   "cell_type": "code",
   "execution_count": 14,
   "metadata": {},
   "outputs": [
    {
     "data": {
      "text/plain": [
       "0.20087316794435225"
      ]
     },
     "execution_count": 14,
     "metadata": {},
     "output_type": "execute_result"
    }
   ],
   "source": [
    "phantom_cnr_dnn.std()"
   ]
  },
  {
   "cell_type": "markdown",
   "metadata": {},
   "source": [
    "# Plot average CNR of Phantom as a Function of Log Number of Weights"
   ]
  },
  {
   "cell_type": "code",
   "execution_count": null,
   "metadata": {},
   "outputs": [],
   "source": []
  }
 ],
 "metadata": {
  "kernelspec": {
   "display_name": "Python 3",
   "language": "python",
   "name": "python3"
  },
  "language_info": {
   "codemirror_mode": {
    "name": "ipython",
    "version": 3
   },
   "file_extension": ".py",
   "mimetype": "text/x-python",
   "name": "python",
   "nbconvert_exporter": "python",
   "pygments_lexer": "ipython3",
   "version": "3.7.3"
  }
 },
 "nbformat": 4,
 "nbformat_minor": 2
}
